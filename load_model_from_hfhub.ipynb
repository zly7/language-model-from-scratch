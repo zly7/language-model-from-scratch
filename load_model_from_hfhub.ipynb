{
 "cells": [
  {
   "cell_type": "code",
   "execution_count": 18,
   "metadata": {},
   "outputs": [],
   "source": [
    "from transformers import AutoTokenizer, AutoModel, GPT2LMHeadModel, AutoModelForCausalLM,AutoModelWithLMHead\n",
    "\n",
    "# model = AutoModelWithLMHead.from_pretrained(\"neulab/gpt2-finetuned-wikitext103\")\n",
    "# model = GPT2LMHeadModel.from_pretrained(\"neulab/gpt2-finetuned-wikitext103\")\n",
    "# model = AutoModel.from_pretrained(\"../model_save/gpt2-finetuned-wikitext103\")\n",
    "model = GPT2LMHeadModel.from_pretrained(\"../model_save/gpt2-finetuned-wikitext103\")\n"
   ]
  },
  {
   "cell_type": "code",
   "execution_count": 19,
   "metadata": {},
   "outputs": [],
   "source": [
    "model.save_pretrained(\"../model_save/gpt2-finetuned-wikitext103-neulab/\")"
   ]
  },
  {
   "cell_type": "code",
   "execution_count": null,
   "metadata": {},
   "outputs": [],
   "source": [
    "for i in model.named_parameters():\n",
    "    print(i[0])\n",
    "    print(i[1].shape)"
   ]
  },
  {
   "cell_type": "code",
   "execution_count": 2,
   "metadata": {},
   "outputs": [
    {
     "name": "stdout",
     "output_type": "stream",
     "text": [
      "loading weights from pretrained gpt: gpt2\n",
      "forcing vocab_size=50257, block_size=1024, bias=True\n",
      "WARNING: using slow attention. Flash Attention requires PyTorch >= 2.0\n",
      "WARNING: using slow attention. Flash Attention requires PyTorch >= 2.0\n",
      "WARNING: using slow attention. Flash Attention requires PyTorch >= 2.0\n",
      "WARNING: using slow attention. Flash Attention requires PyTorch >= 2.0\n",
      "WARNING: using slow attention. Flash Attention requires PyTorch >= 2.0\n",
      "WARNING: using slow attention. Flash Attention requires PyTorch >= 2.0\n",
      "WARNING: using slow attention. Flash Attention requires PyTorch >= 2.0\n",
      "WARNING: using slow attention. Flash Attention requires PyTorch >= 2.0\n",
      "WARNING: using slow attention. Flash Attention requires PyTorch >= 2.0\n",
      "WARNING: using slow attention. Flash Attention requires PyTorch >= 2.0\n",
      "WARNING: using slow attention. Flash Attention requires PyTorch >= 2.0\n",
      "WARNING: using slow attention. Flash Attention requires PyTorch >= 2.0\n",
      "number of parameters: 123.65M\n"
     ]
    }
   ],
   "source": [
    "# 对应model-gpt2-hug-format\n",
    "\n",
    "from datasets import load_dataset, DatasetDict, load_from_disk\n",
    "import torch\n",
    "from model.model_gpt.model_gpt2_hug_formet import GPT, GPTConfig\n",
    "from transformers import GPT2LMHeadModel\n",
    "# from ..model.model_gpt.model_gpt2_hug_formet import GPT, GPTConfig\n",
    "# from model_gpt.model_gpt2_hug_formet import GPT, GPTConfig\n",
    "\n",
    "model_hf = GPT2LMHeadModel.from_pretrained(\"./model_save/gpt2_hug\")\n",
    "model2 = GPT.from_pretrained('gpt2',override_args=None,model_hf=model_hf)"
   ]
  },
  {
   "cell_type": "code",
   "execution_count": null,
   "metadata": {},
   "outputs": [],
   "source": [
    "for i in model2.named_parameters():\n",
    "    print(i[0])\n",
    "    print(i[1].shape)"
   ]
  },
  {
   "cell_type": "code",
   "execution_count": null,
   "metadata": {},
   "outputs": [],
   "source": [
    "for i in model2.state_dict().keys():\n",
    "    print(i)\n",
    "    print(model2.state_dict()[i].shape)"
   ]
  },
  {
   "cell_type": "code",
   "execution_count": null,
   "metadata": {},
   "outputs": [],
   "source": [
    "print(model2.state_dict()[\"transformer.wte.weight\"])\n",
    "print(model2.state_dict()[\"lm_head.weight\"])"
   ]
  },
  {
   "cell_type": "code",
   "execution_count": 1,
   "metadata": {},
   "outputs": [
    {
     "name": "stdout",
     "output_type": "stream",
     "text": [
      "True\n"
     ]
    }
   ],
   "source": [
    "import torch\n",
    "print(hasattr(torch.nn.functional, 'scaled_dot_product_attention'))"
   ]
  },
  {
   "cell_type": "code",
   "execution_count": 2,
   "metadata": {},
   "outputs": [
    {
     "name": "stdout",
     "output_type": "stream",
     "text": [
      "未检测到 PyTorch GPU 支持\n"
     ]
    }
   ],
   "source": [
    "import torch\n",
    "if torch.cuda.is_available():\n",
    "    print(\"PyTorch GPU 支持已安装\")\n",
    "else:\n",
    "    print(\"未检测到 PyTorch GPU 支持\")"
   ]
  },
  {
   "cell_type": "code",
   "execution_count": 3,
   "metadata": {},
   "outputs": [
    {
     "name": "stdout",
     "output_type": "stream",
     "text": [
      "2.0.1+cu117\n",
      "11.7\n"
     ]
    }
   ],
   "source": [
    "import torch\n",
    "print(torch.__version__)\n",
    "print(torch.version.cuda)\n"
   ]
  }
 ],
 "metadata": {
  "kernelspec": {
   "display_name": "Python 3.10.11 ('torch2')",
   "language": "python",
   "name": "python3"
  },
  "language_info": {
   "codemirror_mode": {
    "name": "ipython",
    "version": 3
   },
   "file_extension": ".py",
   "mimetype": "text/x-python",
   "name": "python",
   "nbconvert_exporter": "python",
   "pygments_lexer": "ipython3",
   "version": "3.10.11"
  },
  "orig_nbformat": 4,
  "vscode": {
   "interpreter": {
    "hash": "071f9ed38fb97a7a1cd3c2b1f2cbf78a0afe01867139a7716adf503c77e1dd7f"
   }
  }
 },
 "nbformat": 4,
 "nbformat_minor": 2
}
