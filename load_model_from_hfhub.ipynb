{
 "cells": [
  {
   "cell_type": "code",
   "execution_count": 18,
   "metadata": {},
   "outputs": [],
   "source": [
    "from transformers import AutoTokenizer, AutoModel, GPT2LMHeadModel, AutoModelForCausalLM,AutoModelWithLMHead\n",
    "\n",
    "# model = AutoModelWithLMHead.from_pretrained(\"neulab/gpt2-finetuned-wikitext103\")\n",
    "# model = GPT2LMHeadModel.from_pretrained(\"neulab/gpt2-finetuned-wikitext103\")\n",
    "# model = AutoModel.from_pretrained(\"../model_save/gpt2-finetuned-wikitext103\")\n",
    "model = GPT2LMHeadModel.from_pretrained(\"../model_save/gpt2-finetuned-wikitext103\")\n"
   ]
  },
  {
   "cell_type": "code",
   "execution_count": 19,
   "metadata": {},
   "outputs": [],
   "source": [
    "model.save_pretrained(\"../model_save/gpt2-finetuned-wikitext103-neulab/\")"
   ]
  },
  {
   "cell_type": "code",
   "execution_count": null,
   "metadata": {},
   "outputs": [],
   "source": [
    "for i in model.named_parameters():\n",
    "    print(i[0])\n",
    "    print(i[1].shape)"
   ]
  },
  {
   "cell_type": "code",
   "execution_count": 2,
   "metadata": {},
   "outputs": [
    {
     "name": "stdout",
     "output_type": "stream",
     "text": [
      "loading weights from pretrained gpt: gpt2\n",
      "forcing vocab_size=50257, block_size=1024, bias=True\n",
      "WARNING: using slow attention. Flash Attention requires PyTorch >= 2.0\n",
      "WARNING: using slow attention. Flash Attention requires PyTorch >= 2.0\n",
      "WARNING: using slow attention. Flash Attention requires PyTorch >= 2.0\n",
      "WARNING: using slow attention. Flash Attention requires PyTorch >= 2.0\n",
      "WARNING: using slow attention. Flash Attention requires PyTorch >= 2.0\n",
      "WARNING: using slow attention. Flash Attention requires PyTorch >= 2.0\n",
      "WARNING: using slow attention. Flash Attention requires PyTorch >= 2.0\n",
      "WARNING: using slow attention. Flash Attention requires PyTorch >= 2.0\n",
      "WARNING: using slow attention. Flash Attention requires PyTorch >= 2.0\n",
      "WARNING: using slow attention. Flash Attention requires PyTorch >= 2.0\n",
      "WARNING: using slow attention. Flash Attention requires PyTorch >= 2.0\n",
      "WARNING: using slow attention. Flash Attention requires PyTorch >= 2.0\n",
      "number of parameters: 123.65M\n"
     ]
    }
   ],
   "source": [
    "# 对应model-gpt2-hug-format\n",
    "\n",
    "from datasets import load_dataset, DatasetDict, load_from_disk\n",
    "import torch\n",
    "from model.model_gpt.model_gpt2_hug_formet import GPT, GPTConfig\n",
    "from transformers import GPT2LMHeadModel\n",
    "# from ..model.model_gpt.model_gpt2_hug_formet import GPT, GPTConfig\n",
    "# from model_gpt.model_gpt2_hug_formet import GPT, GPTConfig\n",
    "\n",
    "model_hf = GPT2LMHeadModel.from_pretrained(\"./model_save/gpt2_hug\")\n",
    "model2 = GPT.from_pretrained('gpt2',override_args=None,model_hf=model_hf)"
   ]
  },
  {
   "cell_type": "code",
   "execution_count": null,
   "metadata": {},
   "outputs": [],
   "source": [
    "for i in model2.named_parameters():\n",
    "    print(i[0])\n",
    "    print(i[1].shape)"
   ]
  },
  {
   "cell_type": "code",
   "execution_count": null,
   "metadata": {},
   "outputs": [],
   "source": [
    "for i in model2.state_dict().keys():\n",
    "    print(i)\n",
    "    print(model2.state_dict()[i].shape)"
   ]
  },
  {
   "cell_type": "code",
   "execution_count": null,
   "metadata": {},
   "outputs": [],
   "source": [
    "print(model2.state_dict()[\"transformer.wte.weight\"])\n",
    "print(model2.state_dict()[\"lm_head.weight\"])"
   ]
  },
  {
   "cell_type": "code",
   "execution_count": 1,
   "metadata": {},
   "outputs": [
    {
     "name": "stdout",
     "output_type": "stream",
     "text": [
      "True\n"
     ]
    }
   ],
   "source": [
    "import torch\n",
    "print(hasattr(torch.nn.functional, 'scaled_dot_product_attention'))"
   ]
  }
 ],
 "metadata": {
  "kernelspec": {
   "display_name": "Python 3.10.10 ('torch2')",
   "language": "python",
   "name": "python3"
  },
  "language_info": {
   "codemirror_mode": {
    "name": "ipython",
    "version": 3
   },
   "file_extension": ".py",
   "mimetype": "text/x-python",
   "name": "python",
   "nbconvert_exporter": "python",
   "pygments_lexer": "ipython3",
   "version": "3.10.11"
  },
  "orig_nbformat": 4,
  "vscode": {
   "interpreter": {
    "hash": "4bae638749de99b6ff4d3c89722eb24bfc7a26c4d8a51eb08420447fcfd661c0"
   }
  }
 },
 "nbformat": 4,
 "nbformat_minor": 2
}
