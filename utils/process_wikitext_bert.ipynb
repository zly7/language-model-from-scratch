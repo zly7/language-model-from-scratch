{
 "cells": [
  {
   "cell_type": "code",
   "execution_count": 2,
   "metadata": {},
   "outputs": [],
   "source": [
    "from datasets import load_dataset, DatasetDict, load_from_disk\n",
    "from transformers import AutoTokenizer\n",
    "\n",
    "# Load WikiText-103 dataset\n",
    "# dataset = load_dataset(\"wikitext\", \"wikitext-103-raw-v1\", split=\"train\")\n",
    "\n",
    "# dataset = load_from_disk(\"../wikitext-103-raw-train\")"
   ]
  },
  {
   "cell_type": "code",
   "execution_count": 3,
   "metadata": {},
   "outputs": [],
   "source": [
    "preprocessed_splits = load_from_disk(\"../wikitext-103-bert-512-without-test\")"
   ]
  },
  {
   "cell_type": "code",
   "execution_count": 4,
   "metadata": {},
   "outputs": [
    {
     "name": "stdout",
     "output_type": "stream",
     "text": [
      "Dataset({\n",
      "    features: ['input_ids', 'token_type_ids', 'attention_mask'],\n",
      "    num_rows: 217197\n",
      "})\n"
     ]
    }
   ],
   "source": [
    "print(preprocessed_splits[\"train\"])"
   ]
  },
  {
   "cell_type": "code",
   "execution_count": null,
   "metadata": {},
   "outputs": [],
   "source": [
    "# read next fast speed\n",
    "# dataset.save_to_disk(\"wikitext-103-raw-train\")"
   ]
  },
  {
   "cell_type": "code",
   "execution_count": 1,
   "metadata": {},
   "outputs": [
    {
     "name": "stdout",
     "output_type": "stream",
     "text": [
      "30522\n",
      "Tokenizer max length:  512\n",
      "Tokenizer max length after change:  512\n"
     ]
    },
    {
     "data": {
      "text/plain": [
       "('../tokenizer_save/tokenizer-bert-base-uncased-512/tokenizer_config.json',\n",
       " '../tokenizer_save/tokenizer-bert-base-uncased-512/special_tokens_map.json',\n",
       " '../tokenizer_save/tokenizer-bert-base-uncased-512/vocab.txt',\n",
       " '../tokenizer_save/tokenizer-bert-base-uncased-512/added_tokens.json',\n",
       " '../tokenizer_save/tokenizer-bert-base-uncased-512/tokenizer.json')"
      ]
     },
     "execution_count": 1,
     "metadata": {},
     "output_type": "execute_result"
    }
   ],
   "source": [
    "from transformers import BertTokenizerFast\n",
    "tokenizer = BertTokenizerFast.from_pretrained(\"bert-base-uncased\")\n",
    "print(tokenizer.vocab_size)\n",
    "print(\"Tokenizer max length: \", tokenizer.model_max_length)  # change your own model max input length\n",
    "tokenizer.model_max_length = 512\n",
    "print(\"Tokenizer max length after change: \", tokenizer.model_max_length) \n",
    "\n",
    "# Some tokenizer have a pad_token, which is used to pad a sequence up to max_length. But GPT2 tokenizer doesn't have it\n",
    "\n",
    "# convenient function to load tokenizer next time\n",
    "tokenizer.save_pretrained(f\"../tokenizer_save/tokenizer-{tokenizer.name_or_path}-{tokenizer.model_max_length}\")"
   ]
  },
  {
   "cell_type": "code",
   "execution_count": null,
   "metadata": {},
   "outputs": [
    {
     "name": "stdout",
     "output_type": "stream",
     "text": [
      "BertTokenizerFast(name_or_path='bert-base-uncased', vocab_size=30522, model_max_length=256, is_fast=True, padding_side='right', truncation_side='right', special_tokens={'unk_token': '[UNK]', 'sep_token': '[SEP]', 'pad_token': '[PAD]', 'cls_token': '[CLS]', 'mask_token': '[MASK]'})\n"
     ]
    }
   ],
   "source": [
    "print(tokenizer)"
   ]
  },
  {
   "cell_type": "code",
   "execution_count": null,
   "metadata": {},
   "outputs": [
    {
     "name": "stdout",
     "output_type": "stream",
     "text": [
      "103\n"
     ]
    }
   ],
   "source": [
    "print(tokenizer.mask_token_id)"
   ]
  },
  {
   "cell_type": "code",
   "execution_count": 3,
   "metadata": {},
   "outputs": [
    {
     "name": "stdout",
     "output_type": "stream",
     "text": [
      "{'text': ''}\n",
      "{'text': ' = Valkyria Chronicles III = \\n'}\n",
      "{'text': ''}\n",
      "{'text': ' Senjō no Valkyria 3 : Unrecorded Chronicles ( Japanese : 戦場のヴァルキュリア3 , lit . Valkyria of the Battlefield 3 ) , commonly referred to as Valkyria Chronicles III outside Japan , is a tactical role @-@ playing video game developed by Sega and Media.Vision for the PlayStation Portable . Released in January 2011 in Japan , it is the third game in the Valkyria series . Employing the same fusion of tactical and real @-@ time gameplay as its predecessors , the story runs parallel to the first game and follows the \" Nameless \" , a penal military unit serving the nation of Gallia during the Second Europan War who perform secret black operations and are pitted against the Imperial unit \" Calamaty Raven \" . \\n'}\n",
      "{'text': \" The game began development in 2010 , carrying over a large portion of the work done on Valkyria Chronicles II . While it retained the standard features of the series , it also underwent multiple adjustments , such as making the game more forgiving for series newcomers . Character designer Raita Honjou and composer Hitoshi Sakimoto both returned from previous entries , along with Valkyria Chronicles II director Takeshi Ozawa . A large team of writers handled the script . The game 's opening theme was sung by May 'n . \\n\"}\n",
      "{'text': \" It met with positive sales in Japan , and was praised by both Japanese and western critics . After release , it received downloadable content , along with an expanded edition in November of that year . It was also adapted into manga and an original video animation series . Due to low sales of Valkyria Chronicles II , Valkyria Chronicles III was not localized , but a fan translation compatible with the game 's expanded edition was released in 2014 . Media.Vision would return to the franchise with the development of Valkyria : Azure Revolution for the PlayStation 4 . \\n\"}\n",
      "{'text': ''}\n",
      "{'text': ' = = Gameplay = = \\n'}\n",
      "{'text': ''}\n",
      "{'text': \" As with previous Valkyira Chronicles games , Valkyria Chronicles III is a tactical role @-@ playing game where players take control of a military unit and take part in missions against enemy forces . Stories are told through comic book @-@ like panels with animated character portraits , with characters speaking partially through voiced speech bubbles and partially through unvoiced text . The player progresses through a series of linear missions , gradually unlocked as maps that can be freely scanned through and replayed as they are unlocked . The route to each story location on the map varies depending on an individual player 's approach : when one option is selected , the other is sealed off to the player . Outside missions , the player characters rest in a camp , where units can be customized and character growth occurs . Alongside the main story missions are character @-@ specific sub missions relating to different squad members . After the game 's completion , additional episodes are unlocked , some of them having a higher difficulty than those found in the rest of the game . There are also love simulation elements related to the game 's two main heroines , although they take a very minor role . \\n\"}\n"
     ]
    }
   ],
   "source": [
    "for i in range(10):\n",
    "    print(dataset[i])"
   ]
  },
  {
   "cell_type": "code",
   "execution_count": 4,
   "metadata": {},
   "outputs": [
    {
     "name": "stdout",
     "output_type": "stream",
     "text": [
      "The max length for the tokenizer is: 512\n"
     ]
    },
    {
     "data": {
      "application/vnd.jupyter.widget-view+json": {
       "model_id": "f277f8fef1be44dcbd50617611758416",
       "version_major": 2,
       "version_minor": 0
      },
      "text/plain": [
       "Map (num_proc=16):   0%|          | 0/1801350 [00:00<?, ? examples/s]"
      ]
     },
     "metadata": {},
     "output_type": "display_data"
    },
    {
     "name": "stderr",
     "output_type": "stream",
     "text": [
      "Token indices sequence length is longer than the specified maximum sequence length for this model (519 > 512). Running this sequence through the model will result in indexing errors\n",
      "Token indices sequence length is longer than the specified maximum sequence length for this model (606 > 512). Running this sequence through the model will result in indexing errors\n",
      "Token indices sequence length is longer than the specified maximum sequence length for this model (667 > 512). Running this sequence through the model will result in indexing errors\n",
      "Token indices sequence length is longer than the specified maximum sequence length for this model (516 > 512). Running this sequence through the model will result in indexing errors\n",
      "Token indices sequence length is longer than the specified maximum sequence length for this model (627 > 512). Running this sequence through the model will result in indexing errors\n",
      "Token indices sequence length is longer than the specified maximum sequence length for this model (540 > 512). Running this sequence through the model will result in indexing errors\n",
      "Token indices sequence length is longer than the specified maximum sequence length for this model (557 > 512). Running this sequence through the model will result in indexing errors\n",
      "Token indices sequence length is longer than the specified maximum sequence length for this model (524 > 512). Running this sequence through the model will result in indexing errors\n",
      "Token indices sequence length is longer than the specified maximum sequence length for this model (647 > 512). Running this sequence through the model will result in indexing errors\n",
      "Token indices sequence length is longer than the specified maximum sequence length for this model (554 > 512). Running this sequence through the model will result in indexing errors\n",
      "Token indices sequence length is longer than the specified maximum sequence length for this model (537 > 512). Running this sequence through the model will result in indexing errors\n",
      "Token indices sequence length is longer than the specified maximum sequence length for this model (586 > 512). Running this sequence through the model will result in indexing errors\n",
      "Token indices sequence length is longer than the specified maximum sequence length for this model (520 > 512). Running this sequence through the model will result in indexing errors\n",
      "Token indices sequence length is longer than the specified maximum sequence length for this model (690 > 512). Running this sequence through the model will result in indexing errors\n",
      "Token indices sequence length is longer than the specified maximum sequence length for this model (584 > 512). Running this sequence through the model will result in indexing errors\n",
      "Token indices sequence length is longer than the specified maximum sequence length for this model (589 > 512). Running this sequence through the model will result in indexing errors\n"
     ]
    },
    {
     "data": {
      "text/plain": [
       "{'input_ids': Sequence(feature=Value(dtype='int32', id=None), length=-1, id=None),\n",
       " 'token_type_ids': Sequence(feature=Value(dtype='int8', id=None), length=-1, id=None),\n",
       " 'attention_mask': Sequence(feature=Value(dtype='int8', id=None), length=-1, id=None)}"
      ]
     },
     "execution_count": 4,
     "metadata": {},
     "output_type": "execute_result"
    }
   ],
   "source": [
    "import multiprocessing\n",
    "\n",
    "num_proc = multiprocessing.cpu_count()\n",
    "print(f\"The max length for the tokenizer is: {tokenizer.model_max_length}\")\n",
    "\n",
    "def group_texts(examples):\n",
    "    tokenized_inputs = tokenizer(\n",
    "       examples[\"text\"], \n",
    "    )\n",
    "    return tokenized_inputs\n",
    "\n",
    "# preprocess dataset\n",
    "tokenized_datasets = dataset.map(group_texts, batched=True, remove_columns=[\"text\"], num_proc=num_proc)\n",
    "tokenized_datasets.features\n",
    "\n"
   ]
  },
  {
   "cell_type": "code",
   "execution_count": 6,
   "metadata": {},
   "outputs": [
    {
     "name": "stdout",
     "output_type": "stream",
     "text": [
      "{'input_ids': [101, 102], 'token_type_ids': [0, 0], 'attention_mask': [1, 1]}\n",
      "{'input_ids': [101, 1027, 11748, 4801, 4360, 11906, 3523, 1027, 102], 'token_type_ids': [0, 0, 0, 0, 0, 0, 0, 0, 0], 'attention_mask': [1, 1, 1, 1, 1, 1, 1, 1, 1]}\n",
      "{'input_ids': [101, 102], 'token_type_ids': [0, 0], 'attention_mask': [1, 1]}\n",
      "{'input_ids': [101, 12411, 5558, 2053, 11748, 4801, 4360, 1017, 1024, 4895, 2890, 27108, 5732, 11906, 1006, 2887, 1024, 1856, 1806, 1671, 30222, 30218, 30259, 30227, 30255, 30258, 30219, 2509, 1010, 5507, 1012, 11748, 4801, 4360, 1997, 1996, 11686, 1017, 1007, 1010, 4141, 3615, 2000, 2004, 11748, 4801, 4360, 11906, 3523, 2648, 2900, 1010, 2003, 1037, 8608, 2535, 1030, 1011, 1030, 2652, 2678, 2208, 2764, 2011, 16562, 1998, 2865, 1012, 4432, 2005, 1996, 9160, 12109, 1012, 2207, 1999, 2254, 2249, 1999, 2900, 1010, 2009, 2003, 1996, 2353, 2208, 1999, 1996, 11748, 4801, 4360, 2186, 1012, 15440, 1996, 2168, 10077, 1997, 8608, 1998, 2613, 1030, 1011, 1030, 2051, 11247, 2004, 2049, 16372, 1010, 1996, 2466, 3216, 5903, 2000, 1996, 2034, 2208, 1998, 4076, 1996, 1000, 2171, 3238, 1000, 1010, 1037, 18476, 2510, 3131, 3529, 1996, 3842, 1997, 26033, 2401, 2076, 1996, 2117, 12124, 2078, 2162, 2040, 4685, 3595, 2304, 3136, 1998, 2024, 25895, 2114, 1996, 4461, 3131, 1000, 10250, 8067, 3723, 10000, 1000, 1012, 102], 'token_type_ids': [0, 0, 0, 0, 0, 0, 0, 0, 0, 0, 0, 0, 0, 0, 0, 0, 0, 0, 0, 0, 0, 0, 0, 0, 0, 0, 0, 0, 0, 0, 0, 0, 0, 0, 0, 0, 0, 0, 0, 0, 0, 0, 0, 0, 0, 0, 0, 0, 0, 0, 0, 0, 0, 0, 0, 0, 0, 0, 0, 0, 0, 0, 0, 0, 0, 0, 0, 0, 0, 0, 0, 0, 0, 0, 0, 0, 0, 0, 0, 0, 0, 0, 0, 0, 0, 0, 0, 0, 0, 0, 0, 0, 0, 0, 0, 0, 0, 0, 0, 0, 0, 0, 0, 0, 0, 0, 0, 0, 0, 0, 0, 0, 0, 0, 0, 0, 0, 0, 0, 0, 0, 0, 0, 0, 0, 0, 0, 0, 0, 0, 0, 0, 0, 0, 0, 0, 0, 0, 0, 0, 0, 0, 0, 0, 0, 0, 0, 0, 0, 0, 0, 0, 0, 0, 0, 0, 0, 0, 0, 0, 0, 0], 'attention_mask': [1, 1, 1, 1, 1, 1, 1, 1, 1, 1, 1, 1, 1, 1, 1, 1, 1, 1, 1, 1, 1, 1, 1, 1, 1, 1, 1, 1, 1, 1, 1, 1, 1, 1, 1, 1, 1, 1, 1, 1, 1, 1, 1, 1, 1, 1, 1, 1, 1, 1, 1, 1, 1, 1, 1, 1, 1, 1, 1, 1, 1, 1, 1, 1, 1, 1, 1, 1, 1, 1, 1, 1, 1, 1, 1, 1, 1, 1, 1, 1, 1, 1, 1, 1, 1, 1, 1, 1, 1, 1, 1, 1, 1, 1, 1, 1, 1, 1, 1, 1, 1, 1, 1, 1, 1, 1, 1, 1, 1, 1, 1, 1, 1, 1, 1, 1, 1, 1, 1, 1, 1, 1, 1, 1, 1, 1, 1, 1, 1, 1, 1, 1, 1, 1, 1, 1, 1, 1, 1, 1, 1, 1, 1, 1, 1, 1, 1, 1, 1, 1, 1, 1, 1, 1, 1, 1, 1, 1, 1, 1, 1, 1]}\n",
      "{'input_ids': [101, 1996, 2208, 2211, 2458, 1999, 2230, 1010, 4755, 2058, 1037, 2312, 4664, 1997, 1996, 2147, 2589, 2006, 11748, 4801, 4360, 11906, 2462, 1012, 2096, 2009, 6025, 1996, 3115, 2838, 1997, 1996, 2186, 1010, 2009, 2036, 9601, 3674, 24081, 1010, 2107, 2004, 2437, 1996, 2208, 2062, 2005, 23795, 2005, 2186, 24159, 1012, 2839, 5859, 15547, 2696, 10189, 23099, 1998, 4543, 2718, 24303, 7842, 21138, 11439, 2119, 2513, 2013, 3025, 10445, 1010, 2247, 2007, 11748, 4801, 4360, 11906, 2462, 2472, 3138, 4048, 11472, 10830, 1012, 1037, 2312, 2136, 1997, 4898, 8971, 1996, 5896, 1012, 1996, 2208, 1005, 1055, 3098, 4323, 2001, 7042, 2011, 2089, 1005, 1050, 1012, 102], 'token_type_ids': [0, 0, 0, 0, 0, 0, 0, 0, 0, 0, 0, 0, 0, 0, 0, 0, 0, 0, 0, 0, 0, 0, 0, 0, 0, 0, 0, 0, 0, 0, 0, 0, 0, 0, 0, 0, 0, 0, 0, 0, 0, 0, 0, 0, 0, 0, 0, 0, 0, 0, 0, 0, 0, 0, 0, 0, 0, 0, 0, 0, 0, 0, 0, 0, 0, 0, 0, 0, 0, 0, 0, 0, 0, 0, 0, 0, 0, 0, 0, 0, 0, 0, 0, 0, 0, 0, 0, 0, 0, 0, 0, 0, 0, 0, 0, 0, 0, 0, 0, 0, 0, 0, 0, 0, 0, 0, 0], 'attention_mask': [1, 1, 1, 1, 1, 1, 1, 1, 1, 1, 1, 1, 1, 1, 1, 1, 1, 1, 1, 1, 1, 1, 1, 1, 1, 1, 1, 1, 1, 1, 1, 1, 1, 1, 1, 1, 1, 1, 1, 1, 1, 1, 1, 1, 1, 1, 1, 1, 1, 1, 1, 1, 1, 1, 1, 1, 1, 1, 1, 1, 1, 1, 1, 1, 1, 1, 1, 1, 1, 1, 1, 1, 1, 1, 1, 1, 1, 1, 1, 1, 1, 1, 1, 1, 1, 1, 1, 1, 1, 1, 1, 1, 1, 1, 1, 1, 1, 1, 1, 1, 1, 1, 1, 1, 1, 1, 1]}\n",
      "{'input_ids': [101, 2009, 2777, 2007, 3893, 4341, 1999, 2900, 1010, 1998, 2001, 5868, 2011, 2119, 2887, 1998, 2530, 4401, 1012, 2044, 2713, 1010, 2009, 2363, 26720, 4180, 1010, 2247, 2007, 2019, 4423, 3179, 1999, 2281, 1997, 2008, 2095, 1012, 2009, 2001, 2036, 5967, 2046, 8952, 1998, 2019, 2434, 2678, 7284, 2186, 1012, 2349, 2000, 2659, 4341, 1997, 11748, 4801, 4360, 11906, 2462, 1010, 11748, 4801, 4360, 11906, 3523, 2001, 2025, 22574, 1010, 2021, 1037, 5470, 5449, 11892, 2007, 1996, 2208, 1005, 1055, 4423, 3179, 2001, 2207, 1999, 2297, 1012, 2865, 1012, 4432, 2052, 2709, 2000, 1996, 6329, 2007, 1996, 2458, 1997, 11748, 4801, 4360, 1024, 24296, 4329, 2005, 1996, 9160, 1018, 1012, 102], 'token_type_ids': [0, 0, 0, 0, 0, 0, 0, 0, 0, 0, 0, 0, 0, 0, 0, 0, 0, 0, 0, 0, 0, 0, 0, 0, 0, 0, 0, 0, 0, 0, 0, 0, 0, 0, 0, 0, 0, 0, 0, 0, 0, 0, 0, 0, 0, 0, 0, 0, 0, 0, 0, 0, 0, 0, 0, 0, 0, 0, 0, 0, 0, 0, 0, 0, 0, 0, 0, 0, 0, 0, 0, 0, 0, 0, 0, 0, 0, 0, 0, 0, 0, 0, 0, 0, 0, 0, 0, 0, 0, 0, 0, 0, 0, 0, 0, 0, 0, 0, 0, 0, 0, 0, 0, 0, 0, 0, 0, 0, 0, 0, 0, 0], 'attention_mask': [1, 1, 1, 1, 1, 1, 1, 1, 1, 1, 1, 1, 1, 1, 1, 1, 1, 1, 1, 1, 1, 1, 1, 1, 1, 1, 1, 1, 1, 1, 1, 1, 1, 1, 1, 1, 1, 1, 1, 1, 1, 1, 1, 1, 1, 1, 1, 1, 1, 1, 1, 1, 1, 1, 1, 1, 1, 1, 1, 1, 1, 1, 1, 1, 1, 1, 1, 1, 1, 1, 1, 1, 1, 1, 1, 1, 1, 1, 1, 1, 1, 1, 1, 1, 1, 1, 1, 1, 1, 1, 1, 1, 1, 1, 1, 1, 1, 1, 1, 1, 1, 1, 1, 1, 1, 1, 1, 1, 1, 1, 1, 1]}\n",
      "{'input_ids': [101, 102], 'token_type_ids': [0, 0], 'attention_mask': [1, 1]}\n",
      "{'input_ids': [101, 1027, 1027, 11247, 1027, 1027, 102], 'token_type_ids': [0, 0, 0, 0, 0, 0, 0], 'attention_mask': [1, 1, 1, 1, 1, 1, 1]}\n",
      "{'input_ids': [101, 102], 'token_type_ids': [0, 0], 'attention_mask': [1, 1]}\n",
      "{'input_ids': [101, 2004, 2007, 3025, 11748, 4801, 7895, 11906, 2399, 1010, 11748, 4801, 4360, 11906, 3523, 2003, 1037, 8608, 2535, 1030, 1011, 1030, 2652, 2208, 2073, 2867, 2202, 2491, 1997, 1037, 2510, 3131, 1998, 2202, 2112, 1999, 6416, 2114, 4099, 2749, 1012, 3441, 2024, 2409, 2083, 5021, 2338, 1030, 1011, 1030, 2066, 9320, 2007, 6579, 2839, 9668, 1010, 2007, 3494, 4092, 6822, 2083, 6126, 4613, 17255, 1998, 6822, 2083, 4895, 6767, 6610, 2094, 3793, 1012, 1996, 2447, 22901, 2083, 1037, 2186, 1997, 7399, 6416, 1010, 6360, 14058, 2004, 7341, 2008, 2064, 2022, 10350, 11728, 2083, 1998, 15712, 2098, 2004, 2027, 2024, 14058, 1012, 1996, 2799, 2000, 2169, 2466, 3295, 2006, 1996, 4949, 9783, 5834, 2006, 2019, 3265, 2447, 1005, 1055, 3921, 1024, 2043, 2028, 5724, 2003, 3479, 1010, 1996, 2060, 2003, 10203, 2125, 2000, 1996, 2447, 1012, 2648, 6416, 1010, 1996, 2447, 3494, 2717, 1999, 1037, 3409, 1010, 2073, 3197, 2064, 2022, 28749, 1998, 2839, 3930, 5158, 1012, 4077, 1996, 2364, 2466, 6416, 2024, 2839, 1030, 1011, 1030, 3563, 4942, 6416, 8800, 2000, 2367, 4686, 2372, 1012, 2044, 1996, 2208, 1005, 1055, 6503, 1010, 3176, 4178, 2024, 14058, 1010, 2070, 1997, 2068, 2383, 1037, 3020, 7669, 2084, 2216, 2179, 1999, 1996, 2717, 1997, 1996, 2208, 1012, 2045, 2024, 2036, 2293, 12504, 3787, 3141, 2000, 1996, 2208, 1005, 1055, 2048, 2364, 18869, 2015, 1010, 2348, 2027, 2202, 1037, 2200, 3576, 2535, 1012, 102], 'token_type_ids': [0, 0, 0, 0, 0, 0, 0, 0, 0, 0, 0, 0, 0, 0, 0, 0, 0, 0, 0, 0, 0, 0, 0, 0, 0, 0, 0, 0, 0, 0, 0, 0, 0, 0, 0, 0, 0, 0, 0, 0, 0, 0, 0, 0, 0, 0, 0, 0, 0, 0, 0, 0, 0, 0, 0, 0, 0, 0, 0, 0, 0, 0, 0, 0, 0, 0, 0, 0, 0, 0, 0, 0, 0, 0, 0, 0, 0, 0, 0, 0, 0, 0, 0, 0, 0, 0, 0, 0, 0, 0, 0, 0, 0, 0, 0, 0, 0, 0, 0, 0, 0, 0, 0, 0, 0, 0, 0, 0, 0, 0, 0, 0, 0, 0, 0, 0, 0, 0, 0, 0, 0, 0, 0, 0, 0, 0, 0, 0, 0, 0, 0, 0, 0, 0, 0, 0, 0, 0, 0, 0, 0, 0, 0, 0, 0, 0, 0, 0, 0, 0, 0, 0, 0, 0, 0, 0, 0, 0, 0, 0, 0, 0, 0, 0, 0, 0, 0, 0, 0, 0, 0, 0, 0, 0, 0, 0, 0, 0, 0, 0, 0, 0, 0, 0, 0, 0, 0, 0, 0, 0, 0, 0, 0, 0, 0, 0, 0, 0, 0, 0, 0, 0, 0, 0, 0, 0, 0, 0, 0, 0, 0, 0, 0, 0, 0, 0, 0, 0, 0, 0, 0, 0, 0, 0, 0, 0, 0, 0, 0, 0, 0], 'attention_mask': [1, 1, 1, 1, 1, 1, 1, 1, 1, 1, 1, 1, 1, 1, 1, 1, 1, 1, 1, 1, 1, 1, 1, 1, 1, 1, 1, 1, 1, 1, 1, 1, 1, 1, 1, 1, 1, 1, 1, 1, 1, 1, 1, 1, 1, 1, 1, 1, 1, 1, 1, 1, 1, 1, 1, 1, 1, 1, 1, 1, 1, 1, 1, 1, 1, 1, 1, 1, 1, 1, 1, 1, 1, 1, 1, 1, 1, 1, 1, 1, 1, 1, 1, 1, 1, 1, 1, 1, 1, 1, 1, 1, 1, 1, 1, 1, 1, 1, 1, 1, 1, 1, 1, 1, 1, 1, 1, 1, 1, 1, 1, 1, 1, 1, 1, 1, 1, 1, 1, 1, 1, 1, 1, 1, 1, 1, 1, 1, 1, 1, 1, 1, 1, 1, 1, 1, 1, 1, 1, 1, 1, 1, 1, 1, 1, 1, 1, 1, 1, 1, 1, 1, 1, 1, 1, 1, 1, 1, 1, 1, 1, 1, 1, 1, 1, 1, 1, 1, 1, 1, 1, 1, 1, 1, 1, 1, 1, 1, 1, 1, 1, 1, 1, 1, 1, 1, 1, 1, 1, 1, 1, 1, 1, 1, 1, 1, 1, 1, 1, 1, 1, 1, 1, 1, 1, 1, 1, 1, 1, 1, 1, 1, 1, 1, 1, 1, 1, 1, 1, 1, 1, 1, 1, 1, 1, 1, 1, 1, 1, 1, 1]}\n"
     ]
    }
   ],
   "source": [
    "for i in range(10):\n",
    "    print(tokenized_datasets[i])"
   ]
  },
  {
   "cell_type": "code",
   "execution_count": 7,
   "metadata": {},
   "outputs": [
    {
     "data": {
      "application/vnd.jupyter.widget-view+json": {
       "model_id": "500595881c0f4dd9b23f699bcf16d968",
       "version_major": 2,
       "version_minor": 0
      },
      "text/plain": [
       "Map (num_proc=16):   0%|          | 0/1801350 [00:00<?, ? examples/s]"
      ]
     },
     "metadata": {},
     "output_type": "display_data"
    },
    {
     "name": "stdout",
     "output_type": "stream",
     "text": [
      "the dataset contains in total 117058048 tokens\n"
     ]
    }
   ],
   "source": [
    "from itertools import chain\n",
    "\n",
    "# Main data processing function that will concatenate all texts from our dataset and generate chunks of\n",
    "# max_seq_length.\n",
    "def group_texts(examples):\n",
    "    # Concatenate all texts.\n",
    "    concatenated_examples = {k: list(chain(*examples[k])) for k in examples.keys()}\n",
    "    total_length = len(concatenated_examples[list(examples.keys())[0]])\n",
    "    # We drop the small remainder, we could add padding if the model supported it instead of this drop, you can\n",
    "    # customize this part to your needs.\n",
    "    if total_length >= tokenizer.model_max_length:\n",
    "        total_length = (total_length // tokenizer.model_max_length) * tokenizer.model_max_length\n",
    "        # residal_length = total_length % tokenizer.model_max_length\n",
    "    # Split by chunks of max_len.\n",
    "    result = {\n",
    "        k: [t[i : i + tokenizer.model_max_length] for i in range(0, total_length, tokenizer.model_max_length)]\n",
    "        for k, t in concatenated_examples.items()\n",
    "    }\n",
    "    # if residal_length > 5:\n",
    "        \n",
    "    return result\n",
    "\n",
    "tokenized_datasets = tokenized_datasets.map(group_texts, batched=True, num_proc=num_proc)\n",
    "# shuffle dataset\n",
    "tokenized_datasets = tokenized_datasets.shuffle(seed=34)\n",
    "\n",
    "print(f\"the dataset contains in total {len(tokenized_datasets)*tokenizer.model_max_length} tokens\")\n",
    "# the dataset contains in total 3417216000 tokens\n"
   ]
  },
  {
   "cell_type": "code",
   "execution_count": 8,
   "metadata": {},
   "outputs": [
    {
     "name": "stdout",
     "output_type": "stream",
     "text": [
      "{'input_ids': [102, 101, 2096, 8026, 14887, 1005, 1055, 2303, 2001, 2579, 2011, 1057, 1012, 1055, 1012, 2749, 1010, 1996, 4230, 1997, 1996, 2176, 2500, 2730, 1999, 1996, 8118, 2020, 2187, 2369, 2012, 1996, 7328, 1998, 2101, 2579, 2046, 9889, 9968, 1012, 102, 101, 102, 101, 1027, 1027, 1027, 1027, 10236, 1030, 1011, 1030, 2039, 1027, 1027, 1027, 1027, 102, 101, 102, 101, 1996, 8118, 2001, 3832, 2000, 2202, 2871, 2781, 1012, 2035, 2409, 1010, 1996, 2051, 2090, 1996, 2136, 1005, 1055, 4443, 1999, 1998, 6164, 2013, 1996, 7328, 2001, 4229, 2781, 1012, 2429, 2000, 1996, 3378, 2811, 1010, 1996, 6101, 2001, 2949, 1999, 1996, 2034, 2321, 2781, 1012, 102, 101, 2051, 1999, 1996, 7328, 2001, 2985, 4288, 12534, 1010, 1000, 3048, 5362, 2083, 1996, 7328, 1010, 2282, 2000, 2282, 1010, 2723, 2000, 2723, 1000, 12329, 1996, 2308, 1998, 2336, 1010, 8430, 1000, 4255, 2358, 11823, 2229, 1998, 19820, 5555, 6155, 1000, 2164, 1037, 6270, 2341, 1010, 1998, 6575, 1996, 7328, 2005, 2592, 1012, 1057, 1012, 1055, 1012, 5073, 6757, 2093, 17712, 1030, 1011, 1030, 4700, 2015, 1998, 2048, 18248, 1010, 2702, 3274, 2524, 9297, 1010, 5491, 1010, 22477, 1010, 2471, 1037, 3634, 7639, 9297, 1010, 1037, 6474, 3526, 11640, 1010, 1998, 1000, 4816, 3941, 1000, 2005, 2101, 4106, 1012, 1996, 13945, 2036, 3603, 1037, 2312, 3815, 1997, 21075, 8250, 1999, 1996, 2160, 1012, 102, 101, 2144, 1996, 7739, 2008, 2018, 2081, 1996, 5057, 4899, 2001, 5591, 1998, 4039, 2000, 4875, 1996, 2136, 2041, 1010, 2009, 2001, 3908, 2000, 28805, 2049, 6219, 3941, 1010, 2164, 2019, 6835, 22150, 10673, 1012, 1996, 4405, 14368, 1000, 1996, 6602, 5997, 1010, 1996, 2557, 1010, 1998, 1996, 2060, 6219, 17407, 2503, 1996, 13828, 1000, 1010, 1998, 1996, 13945, 1000, 1031, 8966, 1033, 1996, 7739, 2007, 14792, 1998, 1031, 8682, 1033, 2009, 2039, 1000, 1012, 2144, 1996, 7744, 2136, 2001, 4359, 2000, 2028, 6515, 7739, 1010, 2028, 1997, 1996, 2048, 5413, 14659, 2015, 2218, 1999, 3914, 2001, 14501, 2000, 4287, 2112, 1997, 1996, 2136, 1998, 8026, 14887, 1005, 1055, 2303, 2041, 1997, 4501, 1012, 102, 101, 2096, 1996, 2880, 2533, 1997, 3639, 7984, 2106, 2025, 5254, 1996, 2250, 15058, 2015, 2109, 1999, 1996, 3169, 1010, 2101, 6115, 5393, 2008, 1996, 12400, 2513, 2000, 4524, 6444, 9087, 1012, 1996, 2303, 1997, 9808, 8067, 8026, 14887, 2001, 10583, 2013, 4524, 6444, 2000, 1996, 2948, 6839, 7234, 5529, 19354, 3385, 1999, 1037, 1058, 1030, 1011, 1030, 2570, 9808, 28139, 2100, 17010, 21709, 2953, 2948, 13127, 2011, 2048, 1057, 1012, 1055, 1012, 3212, 1042, 1013, 1037, 1030, 1011, 1030, 2324, 4959, 9924, 1012, 102, 101, 2429, 2000, 1057, 1012, 1055, 1012, 4584, 1010, 8026, 14887, 2001, 3950, 2012, 2712, 2138, 2053, 2406, 2052, 5138, 2010, 3464, 1012, 2077, 4487, 13102, 18606, 1997, 1996, 2303, 1010, 1996, 1057, 1012, 1055, 1012, 2170, 1996, 8174, 2231, 1010, 2040, 4844, 1997, 20491, 1996, 2303, 1999, 1996, 4153, 1012, 5152, 3412, 17105, 2020, 2864, 7548, 5529, 19354, 3385, 1999, 1996, 2167, 13771, 2712, 2306, 2484, 2847, 1997, 8026, 14887, 1005, 1055, 2331, 1012, 12929, 2211, 2012, 2184, 1024, 2184, 2572, 2334, 2051, 1998, 2012, 1030, 1011, 1030], 'token_type_ids': [0, 0, 0, 0, 0, 0, 0, 0, 0, 0, 0, 0, 0, 0, 0, 0, 0, 0, 0, 0, 0, 0, 0, 0, 0, 0, 0, 0, 0, 0, 0, 0, 0, 0, 0, 0, 0, 0, 0, 0, 0, 0, 0, 0, 0, 0, 0, 0, 0, 0, 0, 0, 0, 0, 0, 0, 0, 0, 0, 0, 0, 0, 0, 0, 0, 0, 0, 0, 0, 0, 0, 0, 0, 0, 0, 0, 0, 0, 0, 0, 0, 0, 0, 0, 0, 0, 0, 0, 0, 0, 0, 0, 0, 0, 0, 0, 0, 0, 0, 0, 0, 0, 0, 0, 0, 0, 0, 0, 0, 0, 0, 0, 0, 0, 0, 0, 0, 0, 0, 0, 0, 0, 0, 0, 0, 0, 0, 0, 0, 0, 0, 0, 0, 0, 0, 0, 0, 0, 0, 0, 0, 0, 0, 0, 0, 0, 0, 0, 0, 0, 0, 0, 0, 0, 0, 0, 0, 0, 0, 0, 0, 0, 0, 0, 0, 0, 0, 0, 0, 0, 0, 0, 0, 0, 0, 0, 0, 0, 0, 0, 0, 0, 0, 0, 0, 0, 0, 0, 0, 0, 0, 0, 0, 0, 0, 0, 0, 0, 0, 0, 0, 0, 0, 0, 0, 0, 0, 0, 0, 0, 0, 0, 0, 0, 0, 0, 0, 0, 0, 0, 0, 0, 0, 0, 0, 0, 0, 0, 0, 0, 0, 0, 0, 0, 0, 0, 0, 0, 0, 0, 0, 0, 0, 0, 0, 0, 0, 0, 0, 0, 0, 0, 0, 0, 0, 0, 0, 0, 0, 0, 0, 0, 0, 0, 0, 0, 0, 0, 0, 0, 0, 0, 0, 0, 0, 0, 0, 0, 0, 0, 0, 0, 0, 0, 0, 0, 0, 0, 0, 0, 0, 0, 0, 0, 0, 0, 0, 0, 0, 0, 0, 0, 0, 0, 0, 0, 0, 0, 0, 0, 0, 0, 0, 0, 0, 0, 0, 0, 0, 0, 0, 0, 0, 0, 0, 0, 0, 0, 0, 0, 0, 0, 0, 0, 0, 0, 0, 0, 0, 0, 0, 0, 0, 0, 0, 0, 0, 0, 0, 0, 0, 0, 0, 0, 0, 0, 0, 0, 0, 0, 0, 0, 0, 0, 0, 0, 0, 0, 0, 0, 0, 0, 0, 0, 0, 0, 0, 0, 0, 0, 0, 0, 0, 0, 0, 0, 0, 0, 0, 0, 0, 0, 0, 0, 0, 0, 0, 0, 0, 0, 0, 0, 0, 0, 0, 0, 0, 0, 0, 0, 0, 0, 0, 0, 0, 0, 0, 0, 0, 0, 0, 0, 0, 0, 0, 0, 0, 0, 0, 0, 0, 0, 0, 0, 0, 0, 0, 0, 0, 0, 0, 0, 0, 0, 0, 0, 0, 0, 0, 0, 0, 0, 0, 0, 0, 0, 0, 0, 0, 0, 0, 0, 0, 0, 0, 0, 0, 0, 0, 0, 0, 0, 0, 0, 0, 0, 0, 0, 0, 0, 0, 0, 0, 0, 0, 0, 0, 0, 0, 0, 0, 0, 0, 0, 0, 0, 0, 0, 0, 0, 0, 0, 0, 0, 0, 0, 0, 0, 0, 0, 0, 0], 'attention_mask': [1, 1, 1, 1, 1, 1, 1, 1, 1, 1, 1, 1, 1, 1, 1, 1, 1, 1, 1, 1, 1, 1, 1, 1, 1, 1, 1, 1, 1, 1, 1, 1, 1, 1, 1, 1, 1, 1, 1, 1, 1, 1, 1, 1, 1, 1, 1, 1, 1, 1, 1, 1, 1, 1, 1, 1, 1, 1, 1, 1, 1, 1, 1, 1, 1, 1, 1, 1, 1, 1, 1, 1, 1, 1, 1, 1, 1, 1, 1, 1, 1, 1, 1, 1, 1, 1, 1, 1, 1, 1, 1, 1, 1, 1, 1, 1, 1, 1, 1, 1, 1, 1, 1, 1, 1, 1, 1, 1, 1, 1, 1, 1, 1, 1, 1, 1, 1, 1, 1, 1, 1, 1, 1, 1, 1, 1, 1, 1, 1, 1, 1, 1, 1, 1, 1, 1, 1, 1, 1, 1, 1, 1, 1, 1, 1, 1, 1, 1, 1, 1, 1, 1, 1, 1, 1, 1, 1, 1, 1, 1, 1, 1, 1, 1, 1, 1, 1, 1, 1, 1, 1, 1, 1, 1, 1, 1, 1, 1, 1, 1, 1, 1, 1, 1, 1, 1, 1, 1, 1, 1, 1, 1, 1, 1, 1, 1, 1, 1, 1, 1, 1, 1, 1, 1, 1, 1, 1, 1, 1, 1, 1, 1, 1, 1, 1, 1, 1, 1, 1, 1, 1, 1, 1, 1, 1, 1, 1, 1, 1, 1, 1, 1, 1, 1, 1, 1, 1, 1, 1, 1, 1, 1, 1, 1, 1, 1, 1, 1, 1, 1, 1, 1, 1, 1, 1, 1, 1, 1, 1, 1, 1, 1, 1, 1, 1, 1, 1, 1, 1, 1, 1, 1, 1, 1, 1, 1, 1, 1, 1, 1, 1, 1, 1, 1, 1, 1, 1, 1, 1, 1, 1, 1, 1, 1, 1, 1, 1, 1, 1, 1, 1, 1, 1, 1, 1, 1, 1, 1, 1, 1, 1, 1, 1, 1, 1, 1, 1, 1, 1, 1, 1, 1, 1, 1, 1, 1, 1, 1, 1, 1, 1, 1, 1, 1, 1, 1, 1, 1, 1, 1, 1, 1, 1, 1, 1, 1, 1, 1, 1, 1, 1, 1, 1, 1, 1, 1, 1, 1, 1, 1, 1, 1, 1, 1, 1, 1, 1, 1, 1, 1, 1, 1, 1, 1, 1, 1, 1, 1, 1, 1, 1, 1, 1, 1, 1, 1, 1, 1, 1, 1, 1, 1, 1, 1, 1, 1, 1, 1, 1, 1, 1, 1, 1, 1, 1, 1, 1, 1, 1, 1, 1, 1, 1, 1, 1, 1, 1, 1, 1, 1, 1, 1, 1, 1, 1, 1, 1, 1, 1, 1, 1, 1, 1, 1, 1, 1, 1, 1, 1, 1, 1, 1, 1, 1, 1, 1, 1, 1, 1, 1, 1, 1, 1, 1, 1, 1, 1, 1, 1, 1, 1, 1, 1, 1, 1, 1, 1, 1, 1, 1, 1, 1, 1, 1, 1, 1, 1, 1, 1, 1, 1, 1, 1, 1, 1, 1, 1, 1, 1, 1, 1, 1, 1, 1, 1, 1, 1, 1, 1, 1, 1, 1, 1, 1, 1, 1, 1, 1, 1, 1, 1, 1]}\n",
      "---------------------------------------------------------\n",
      "{'input_ids': [1012, 102, 101, 1996, 2034, 7991, 2961, 1997, 1996, 7398, 2001, 8902, 1012, 11668, 17107, 1010, 2040, 2001, 2920, 1999, 1996, 22863, 2437, 3068, 1999, 6688, 24431, 1010, 4404, 1998, 2018, 2042, 1037, 2350, 2236, 1999, 1996, 4404, 6951, 8396, 3188, 2000, 1996, 2162, 1012, 2429, 2000, 2798, 24547, 13124, 1010, 1996, 17604, 5272, 1010, 2750, 17107, 1005, 1055, 5109, 1997, 3325, 2007, 1996, 2110, 8396, 1010, 2002, 2001, 1010, 1000, 4498, 4078, 3775, 24518, 1997, 5268, 2135, 12024, 2030, 4382, 1010, 6919, 2135, 21591, 1997, 2510, 12913, 1998, 23055, 2226, 24790, 1010, 1998, 1037, 23277, 29574, 5860, 11514, 13786, 6862, 1012, 1000, 102, 101, 1996, 3483, 1010, 2761, 15200, 3621, 2062, 2084, 1015, 1030, 1010, 1030, 2199, 2273, 1010, 7745, 12539, 2006, 2257, 2603, 1010, 6863, 1012, 2027, 2020, 4273, 2007, 14092, 5744, 12821, 2063, 14163, 17140, 3215, 2008, 2018, 2042, 4991, 2013, 13493, 7878, 2000, 6333, 5843, 1012, 2044, 1037, 4766, 1010, 2021, 9049, 1010, 2093, 1030, 1011, 1030, 2154, 4372, 26468, 3672, 1999, 6222, 1010, 1996, 3483, 2333, 2000, 1996, 2142, 2163, 3987, 2914, 1999, 24889, 1010, 5374, 1010, 7194, 2006, 2257, 2382, 1012, 1996, 3483, 8427, 2098, 1996, 3987, 2914, 2005, 2176, 2706, 1012, 2009, 2001, 1037, 6625, 2695, 1012, 16686, 1012, 2520, 1055, 1012, 5215, 1997, 1996, 7398, 2626, 2008, 1996, 3483, 2001, 1000, 26380, 2135, 4350, 1010, 9107, 1996, 2200, 7472, 1997, 2162, 1012, 1000, 102, 101, 2076, 2037, 2994, 1999, 24889, 1010, 1996, 2273, 1997, 7398, 7197, 1999, 1996, 4019, 1997, 1037, 6658, 7495, 2000, 5374, 3099, 2726, 7570, 6894, 10259, 17221, 1012, 2096, 1996, 6658, 2001, 5023, 1999, 1037, 17321, 1999, 2028, 1997, 1996, 3987, 2914, 10492, 1010, 3099, 17221, 1005, 1055, 5567, 7670, 2005, 2010, 2709, 2020, 4188, 2011, 1996, 3738, 1997, 1996, 3483, 1012, 102, 101, 2006, 2285, 2322, 1010, 6863, 1010, 1996, 7398, 2001, 4137, 2000, 1996, 3023, 2407, 6311, 2011, 16686, 1012, 8991, 1012, 15675, 7641, 5178, 2005, 3136, 1999, 2167, 3792, 1012, 1996, 7398, 2001, 1996, 2034, 3483, 3479, 2011, 16908, 1012, 8991, 1012, 7627, 17738, 2005, 2010, 4250, 1012, 1996, 7398, 4404, 2052, 5114, 1037, 2307, 4847, 1998, 12242, 2005, 17738, 1010, 2040, 2034, 2419, 2037, 4250, 1998, 2101, 1996, 11814, 3650, 1997, 2029, 1996, 7398, 2001, 1037, 2112, 1012, 102, 101, 102, 101, 1027, 1027, 2167, 3792, 1027, 1027, 102, 101, 102, 101, 2004, 1996, 3483, 4810, 2005, 6712, 1010, 4327, 11668, 17107, 2787, 2000, 3961, 2012, 1996, 3987, 2914, 1010, 3110, 2008, 8427, 4611, 2001, 1010, 2429, 2000, 5272, 2508, 16208, 1010, 1000, 2062, 2000, 2010, 5510, 1012, 1000, 8318, 1012, 8902, 1012, 4789, 23848, 5856, 1010, 2019, 3059, 2011, 4182, 2040, 2018, 2366, 2104, 12574, 11721, 3089, 28807, 1010, 2165, 3094, 1997, 1996, 3483, 2006, 2254, 1016, 1010, 6889, 1012, 23848, 5856, 2018, 2042, 10132, 16021, 12083, 8551, 14776, 2000, 17107, 2349, 2000, 1996, 3732, 1005, 1055, 3768, 1997, 2510, 9009, 1012, 2010, 11213, 1997, 3094, 1010, 2004, 2092, 2004, 1996, 3277, 1997, 2047, 25821, 5883, 2094, 14163, 17140, 3215, 1010, 5301, 1996, 19292, 1997, 1996, 3483, 1012, 102, 101, 1996, 7398, 1010, 2055, 26637], 'token_type_ids': [0, 0, 0, 0, 0, 0, 0, 0, 0, 0, 0, 0, 0, 0, 0, 0, 0, 0, 0, 0, 0, 0, 0, 0, 0, 0, 0, 0, 0, 0, 0, 0, 0, 0, 0, 0, 0, 0, 0, 0, 0, 0, 0, 0, 0, 0, 0, 0, 0, 0, 0, 0, 0, 0, 0, 0, 0, 0, 0, 0, 0, 0, 0, 0, 0, 0, 0, 0, 0, 0, 0, 0, 0, 0, 0, 0, 0, 0, 0, 0, 0, 0, 0, 0, 0, 0, 0, 0, 0, 0, 0, 0, 0, 0, 0, 0, 0, 0, 0, 0, 0, 0, 0, 0, 0, 0, 0, 0, 0, 0, 0, 0, 0, 0, 0, 0, 0, 0, 0, 0, 0, 0, 0, 0, 0, 0, 0, 0, 0, 0, 0, 0, 0, 0, 0, 0, 0, 0, 0, 0, 0, 0, 0, 0, 0, 0, 0, 0, 0, 0, 0, 0, 0, 0, 0, 0, 0, 0, 0, 0, 0, 0, 0, 0, 0, 0, 0, 0, 0, 0, 0, 0, 0, 0, 0, 0, 0, 0, 0, 0, 0, 0, 0, 0, 0, 0, 0, 0, 0, 0, 0, 0, 0, 0, 0, 0, 0, 0, 0, 0, 0, 0, 0, 0, 0, 0, 0, 0, 0, 0, 0, 0, 0, 0, 0, 0, 0, 0, 0, 0, 0, 0, 0, 0, 0, 0, 0, 0, 0, 0, 0, 0, 0, 0, 0, 0, 0, 0, 0, 0, 0, 0, 0, 0, 0, 0, 0, 0, 0, 0, 0, 0, 0, 0, 0, 0, 0, 0, 0, 0, 0, 0, 0, 0, 0, 0, 0, 0, 0, 0, 0, 0, 0, 0, 0, 0, 0, 0, 0, 0, 0, 0, 0, 0, 0, 0, 0, 0, 0, 0, 0, 0, 0, 0, 0, 0, 0, 0, 0, 0, 0, 0, 0, 0, 0, 0, 0, 0, 0, 0, 0, 0, 0, 0, 0, 0, 0, 0, 0, 0, 0, 0, 0, 0, 0, 0, 0, 0, 0, 0, 0, 0, 0, 0, 0, 0, 0, 0, 0, 0, 0, 0, 0, 0, 0, 0, 0, 0, 0, 0, 0, 0, 0, 0, 0, 0, 0, 0, 0, 0, 0, 0, 0, 0, 0, 0, 0, 0, 0, 0, 0, 0, 0, 0, 0, 0, 0, 0, 0, 0, 0, 0, 0, 0, 0, 0, 0, 0, 0, 0, 0, 0, 0, 0, 0, 0, 0, 0, 0, 0, 0, 0, 0, 0, 0, 0, 0, 0, 0, 0, 0, 0, 0, 0, 0, 0, 0, 0, 0, 0, 0, 0, 0, 0, 0, 0, 0, 0, 0, 0, 0, 0, 0, 0, 0, 0, 0, 0, 0, 0, 0, 0, 0, 0, 0, 0, 0, 0, 0, 0, 0, 0, 0, 0, 0, 0, 0, 0, 0, 0, 0, 0, 0, 0, 0, 0, 0, 0, 0, 0, 0, 0, 0, 0, 0, 0, 0, 0, 0, 0, 0, 0, 0, 0, 0, 0, 0, 0, 0, 0, 0, 0, 0, 0, 0, 0, 0, 0, 0, 0, 0, 0, 0, 0, 0, 0, 0, 0, 0, 0, 0, 0], 'attention_mask': [1, 1, 1, 1, 1, 1, 1, 1, 1, 1, 1, 1, 1, 1, 1, 1, 1, 1, 1, 1, 1, 1, 1, 1, 1, 1, 1, 1, 1, 1, 1, 1, 1, 1, 1, 1, 1, 1, 1, 1, 1, 1, 1, 1, 1, 1, 1, 1, 1, 1, 1, 1, 1, 1, 1, 1, 1, 1, 1, 1, 1, 1, 1, 1, 1, 1, 1, 1, 1, 1, 1, 1, 1, 1, 1, 1, 1, 1, 1, 1, 1, 1, 1, 1, 1, 1, 1, 1, 1, 1, 1, 1, 1, 1, 1, 1, 1, 1, 1, 1, 1, 1, 1, 1, 1, 1, 1, 1, 1, 1, 1, 1, 1, 1, 1, 1, 1, 1, 1, 1, 1, 1, 1, 1, 1, 1, 1, 1, 1, 1, 1, 1, 1, 1, 1, 1, 1, 1, 1, 1, 1, 1, 1, 1, 1, 1, 1, 1, 1, 1, 1, 1, 1, 1, 1, 1, 1, 1, 1, 1, 1, 1, 1, 1, 1, 1, 1, 1, 1, 1, 1, 1, 1, 1, 1, 1, 1, 1, 1, 1, 1, 1, 1, 1, 1, 1, 1, 1, 1, 1, 1, 1, 1, 1, 1, 1, 1, 1, 1, 1, 1, 1, 1, 1, 1, 1, 1, 1, 1, 1, 1, 1, 1, 1, 1, 1, 1, 1, 1, 1, 1, 1, 1, 1, 1, 1, 1, 1, 1, 1, 1, 1, 1, 1, 1, 1, 1, 1, 1, 1, 1, 1, 1, 1, 1, 1, 1, 1, 1, 1, 1, 1, 1, 1, 1, 1, 1, 1, 1, 1, 1, 1, 1, 1, 1, 1, 1, 1, 1, 1, 1, 1, 1, 1, 1, 1, 1, 1, 1, 1, 1, 1, 1, 1, 1, 1, 1, 1, 1, 1, 1, 1, 1, 1, 1, 1, 1, 1, 1, 1, 1, 1, 1, 1, 1, 1, 1, 1, 1, 1, 1, 1, 1, 1, 1, 1, 1, 1, 1, 1, 1, 1, 1, 1, 1, 1, 1, 1, 1, 1, 1, 1, 1, 1, 1, 1, 1, 1, 1, 1, 1, 1, 1, 1, 1, 1, 1, 1, 1, 1, 1, 1, 1, 1, 1, 1, 1, 1, 1, 1, 1, 1, 1, 1, 1, 1, 1, 1, 1, 1, 1, 1, 1, 1, 1, 1, 1, 1, 1, 1, 1, 1, 1, 1, 1, 1, 1, 1, 1, 1, 1, 1, 1, 1, 1, 1, 1, 1, 1, 1, 1, 1, 1, 1, 1, 1, 1, 1, 1, 1, 1, 1, 1, 1, 1, 1, 1, 1, 1, 1, 1, 1, 1, 1, 1, 1, 1, 1, 1, 1, 1, 1, 1, 1, 1, 1, 1, 1, 1, 1, 1, 1, 1, 1, 1, 1, 1, 1, 1, 1, 1, 1, 1, 1, 1, 1, 1, 1, 1, 1, 1, 1, 1, 1, 1, 1, 1, 1, 1, 1, 1, 1, 1, 1, 1, 1, 1, 1, 1, 1, 1, 1, 1, 1, 1, 1, 1, 1, 1, 1, 1, 1, 1, 1, 1, 1, 1, 1, 1, 1, 1, 1, 1, 1, 1, 1, 1, 1, 1, 1, 1, 1]}\n",
      "---------------------------------------------------------\n",
      "{'input_ids': [3080, 2567, 2703, 1012, 1999, 4662, 2002, 3230, 1996, 5285, 5705, 11624, 9307, 1010, 1037, 3078, 2082, 1010, 1999, 1996, 2272, 20447, 1030, 1011, 1030, 2395, 1012, 2058, 10957, 1999, 4673, 2002, 4015, 2000, 1996, 11406, 1030, 1011, 1030, 8048, 3905, 2082, 9070, 1030, 1011, 1030, 11288, 1012, 102, 101, 1999, 4260, 1010, 24547, 21804, 2078, 4162, 2005, 1037, 2476, 2004, 2019, 2961, 1999, 1996, 17740, 2005, 1996, 2034, 2051, 1012, 8932, 2000, 4068, 1010, 2002, 2001, 8357, 7218, 2021, 2012, 1996, 2287, 1997, 2385, 2001, 2205, 2402, 2000, 6951, 2005, 2510, 2326, 1012, 2044, 1996, 8293, 1997, 2088, 2162, 2462, 1010, 2096, 2145, 2012, 2082, 1010, 24547, 21804, 2078, 1998, 2010, 3507, 2493, 2020, 3140, 2046, 14770, 4428, 2326, 1006, 14365, 10286, 19205, 3215, 10265, 23808, 1007, 1012, 24547, 21804, 2078, 2001, 4137, 2000, 1996, 9192, 6228, 3330, 2820, 1012, 2144, 24547, 21804, 2078, 2018, 3832, 2000, 2817, 2948, 2810, 2044, 2010, 2510, 2326, 1010, 2002, 2001, 18026, 2000, 1996, 2820, 1997, 25010, 6005, 6483, 1998, 3462, 23879, 6779, 2012, 1996, 21909, 11624, 27204, 1030, 1011, 1030, 11333, 13871, 2819, 9087, 2104, 1996, 4105, 1997, 11268, 1012, 2852, 1012, 10952, 12849, 21512, 1012, 102, 101, 2012, 1996, 2203, 1997, 2233, 3878, 1010, 24547, 21804, 2078, 3852, 2013, 2082, 2007, 2010, 11113, 4183, 3126, 1006, 9827, 1007, 1012, 2044, 2023, 2002, 2001, 3970, 2046, 1996, 17740, 1010, 2048, 2086, 2044, 2010, 3988, 4646, 1012, 25819, 1999, 2251, 3878, 1010, 2002, 12543, 2260, 3134, 1997, 3937, 2510, 2731, 2007, 13109, 28872, 6906, 2271, 14454, 27584, 5620, 2890, 5856, 3672, 5824, 1006, 5824, 4859, 3462, 2731, 3483, 1007, 2012, 10768, 4877, 2572, 11333, 13113, 1999, 5118, 1012, 2588, 6503, 1010, 24547, 21804, 2078, 2001, 4015, 2000, 1996, 19857, 2290, 4371, 15916, 11263, 17875, 11624, 9307, 1037, 1013, 1038, 5824, 1006, 3462, 2082, 2005, 1996, 4405, 6105, 1007, 2012, 16387, 11592, 2379, 7569, 2102, 14955, 6528, 1999, 2220, 2255, 3878, 1012, 2809, 2420, 2101, 2010, 2731, 2177, 2513, 2000, 10768, 4877, 2572, 11333, 13113, 2138, 16387, 11592, 2001, 2058, 24375, 5732, 2007, 2060, 3462, 5352, 1012, 2947, 3462, 2731, 2318, 2006, 1996, 19641, 9087, 2302, 18284, 2015, 2012, 10768, 4877, 2572, 11333, 13113, 1012, 2010, 2034, 5220, 6648, 3462, 2001, 2006, 2385, 2255, 3878, 1010, 1999, 1037, 10131, 2121, 20934, 14677, 1000, 11810, 5804, 1000, 28686, 4417, 1000, 28879, 10354, 1000, 1012, 24547, 21804, 2078, 26618, 2010, 2034, 3948, 3462, 2006, 2410, 2281, 3878, 2012, 5641, 1024, 2459, 1999, 1037, 20934, 14677, 1000, 1039, 16206, 2140, 1000, 1010, 4899, 2153, 2044, 2416, 2781, 1997, 3462, 2051, 1012, 2010, 2731, 2177, 2513, 2000, 16387, 11592, 1999, 2337, 3874, 1012, 2013, 2182, 1010, 2002, 4146, 2010, 2034, 2892, 1030, 1011, 1030, 2406, 7599, 2006, 1996, 20934, 14677, 1000, 11810, 5804, 1000, 2004, 2092, 2004, 1996, 1042, 7432, 2063, 1030, 1011, 1030, 8814, 10270, 1042, 2860, 4008, 1000, 2358, 28872, 24725, 1000, 1012, 1996, 3484, 1997, 1996, 2892, 1030, 1011, 1030, 2406, 7599, 2020, 10583, 2006, 1996, 25976, 2050, 2175, 13741, 1012, 2013, 1018, 2258, 2000, 2654, 2258, 3874, 2002, 2081, 1996, 2461, 4440, 2013, 16387, 11592, 2000], 'token_type_ids': [0, 0, 0, 0, 0, 0, 0, 0, 0, 0, 0, 0, 0, 0, 0, 0, 0, 0, 0, 0, 0, 0, 0, 0, 0, 0, 0, 0, 0, 0, 0, 0, 0, 0, 0, 0, 0, 0, 0, 0, 0, 0, 0, 0, 0, 0, 0, 0, 0, 0, 0, 0, 0, 0, 0, 0, 0, 0, 0, 0, 0, 0, 0, 0, 0, 0, 0, 0, 0, 0, 0, 0, 0, 0, 0, 0, 0, 0, 0, 0, 0, 0, 0, 0, 0, 0, 0, 0, 0, 0, 0, 0, 0, 0, 0, 0, 0, 0, 0, 0, 0, 0, 0, 0, 0, 0, 0, 0, 0, 0, 0, 0, 0, 0, 0, 0, 0, 0, 0, 0, 0, 0, 0, 0, 0, 0, 0, 0, 0, 0, 0, 0, 0, 0, 0, 0, 0, 0, 0, 0, 0, 0, 0, 0, 0, 0, 0, 0, 0, 0, 0, 0, 0, 0, 0, 0, 0, 0, 0, 0, 0, 0, 0, 0, 0, 0, 0, 0, 0, 0, 0, 0, 0, 0, 0, 0, 0, 0, 0, 0, 0, 0, 0, 0, 0, 0, 0, 0, 0, 0, 0, 0, 0, 0, 0, 0, 0, 0, 0, 0, 0, 0, 0, 0, 0, 0, 0, 0, 0, 0, 0, 0, 0, 0, 0, 0, 0, 0, 0, 0, 0, 0, 0, 0, 0, 0, 0, 0, 0, 0, 0, 0, 0, 0, 0, 0, 0, 0, 0, 0, 0, 0, 0, 0, 0, 0, 0, 0, 0, 0, 0, 0, 0, 0, 0, 0, 0, 0, 0, 0, 0, 0, 0, 0, 0, 0, 0, 0, 0, 0, 0, 0, 0, 0, 0, 0, 0, 0, 0, 0, 0, 0, 0, 0, 0, 0, 0, 0, 0, 0, 0, 0, 0, 0, 0, 0, 0, 0, 0, 0, 0, 0, 0, 0, 0, 0, 0, 0, 0, 0, 0, 0, 0, 0, 0, 0, 0, 0, 0, 0, 0, 0, 0, 0, 0, 0, 0, 0, 0, 0, 0, 0, 0, 0, 0, 0, 0, 0, 0, 0, 0, 0, 0, 0, 0, 0, 0, 0, 0, 0, 0, 0, 0, 0, 0, 0, 0, 0, 0, 0, 0, 0, 0, 0, 0, 0, 0, 0, 0, 0, 0, 0, 0, 0, 0, 0, 0, 0, 0, 0, 0, 0, 0, 0, 0, 0, 0, 0, 0, 0, 0, 0, 0, 0, 0, 0, 0, 0, 0, 0, 0, 0, 0, 0, 0, 0, 0, 0, 0, 0, 0, 0, 0, 0, 0, 0, 0, 0, 0, 0, 0, 0, 0, 0, 0, 0, 0, 0, 0, 0, 0, 0, 0, 0, 0, 0, 0, 0, 0, 0, 0, 0, 0, 0, 0, 0, 0, 0, 0, 0, 0, 0, 0, 0, 0, 0, 0, 0, 0, 0, 0, 0, 0, 0, 0, 0, 0, 0, 0, 0, 0, 0, 0, 0, 0, 0, 0, 0, 0, 0, 0, 0, 0, 0, 0, 0, 0, 0, 0, 0, 0, 0, 0, 0, 0, 0, 0, 0, 0, 0, 0, 0, 0, 0, 0, 0, 0, 0, 0, 0, 0, 0], 'attention_mask': [1, 1, 1, 1, 1, 1, 1, 1, 1, 1, 1, 1, 1, 1, 1, 1, 1, 1, 1, 1, 1, 1, 1, 1, 1, 1, 1, 1, 1, 1, 1, 1, 1, 1, 1, 1, 1, 1, 1, 1, 1, 1, 1, 1, 1, 1, 1, 1, 1, 1, 1, 1, 1, 1, 1, 1, 1, 1, 1, 1, 1, 1, 1, 1, 1, 1, 1, 1, 1, 1, 1, 1, 1, 1, 1, 1, 1, 1, 1, 1, 1, 1, 1, 1, 1, 1, 1, 1, 1, 1, 1, 1, 1, 1, 1, 1, 1, 1, 1, 1, 1, 1, 1, 1, 1, 1, 1, 1, 1, 1, 1, 1, 1, 1, 1, 1, 1, 1, 1, 1, 1, 1, 1, 1, 1, 1, 1, 1, 1, 1, 1, 1, 1, 1, 1, 1, 1, 1, 1, 1, 1, 1, 1, 1, 1, 1, 1, 1, 1, 1, 1, 1, 1, 1, 1, 1, 1, 1, 1, 1, 1, 1, 1, 1, 1, 1, 1, 1, 1, 1, 1, 1, 1, 1, 1, 1, 1, 1, 1, 1, 1, 1, 1, 1, 1, 1, 1, 1, 1, 1, 1, 1, 1, 1, 1, 1, 1, 1, 1, 1, 1, 1, 1, 1, 1, 1, 1, 1, 1, 1, 1, 1, 1, 1, 1, 1, 1, 1, 1, 1, 1, 1, 1, 1, 1, 1, 1, 1, 1, 1, 1, 1, 1, 1, 1, 1, 1, 1, 1, 1, 1, 1, 1, 1, 1, 1, 1, 1, 1, 1, 1, 1, 1, 1, 1, 1, 1, 1, 1, 1, 1, 1, 1, 1, 1, 1, 1, 1, 1, 1, 1, 1, 1, 1, 1, 1, 1, 1, 1, 1, 1, 1, 1, 1, 1, 1, 1, 1, 1, 1, 1, 1, 1, 1, 1, 1, 1, 1, 1, 1, 1, 1, 1, 1, 1, 1, 1, 1, 1, 1, 1, 1, 1, 1, 1, 1, 1, 1, 1, 1, 1, 1, 1, 1, 1, 1, 1, 1, 1, 1, 1, 1, 1, 1, 1, 1, 1, 1, 1, 1, 1, 1, 1, 1, 1, 1, 1, 1, 1, 1, 1, 1, 1, 1, 1, 1, 1, 1, 1, 1, 1, 1, 1, 1, 1, 1, 1, 1, 1, 1, 1, 1, 1, 1, 1, 1, 1, 1, 1, 1, 1, 1, 1, 1, 1, 1, 1, 1, 1, 1, 1, 1, 1, 1, 1, 1, 1, 1, 1, 1, 1, 1, 1, 1, 1, 1, 1, 1, 1, 1, 1, 1, 1, 1, 1, 1, 1, 1, 1, 1, 1, 1, 1, 1, 1, 1, 1, 1, 1, 1, 1, 1, 1, 1, 1, 1, 1, 1, 1, 1, 1, 1, 1, 1, 1, 1, 1, 1, 1, 1, 1, 1, 1, 1, 1, 1, 1, 1, 1, 1, 1, 1, 1, 1, 1, 1, 1, 1, 1, 1, 1, 1, 1, 1, 1, 1, 1, 1, 1, 1, 1, 1, 1, 1, 1, 1, 1, 1, 1, 1, 1, 1, 1, 1, 1, 1, 1, 1, 1, 1, 1, 1, 1, 1, 1, 1, 1, 1, 1, 1, 1, 1]}\n",
      "---------------------------------------------------------\n",
      "{'input_ids': [2008, 24209, 8490, 14503, 2063, 1005, 1055, 2269, 2038, 2018, 1037, 3348, 2689, 1998, 7657, 16096, 1005, 1055, 2171, 1010, 4422, 10919, 2008, 2002, 2038, 2018, 3348, 2007, 24209, 8490, 14503, 2063, 1005, 1055, 9099, 3366, 2595, 8787, 2269, 1998, 23251, 2015, 2005, 2756, 4895, 18447, 2121, 21531, 3064, 3823, 2077, 1996, 2048, 1997, 2068, 6634, 1012, 2012, 1996, 2168, 2051, 1010, 16096, 5651, 2000, 24209, 8490, 14503, 2063, 1005, 1055, 2188, 1998, 12134, 2015, 1010, 1998, 24209, 8490, 14503, 2063, 5651, 1996, 5684, 1010, 28667, 2239, 6895, 2989, 2037, 3276, 1012, 16096, 4136, 24209, 8490, 14503, 2063, 2008, 2016, 2777, 2619, 1010, 1998, 2043, 2016, 2758, 2009, 2001, 4422, 1010, 3183, 24209, 8490, 14503, 2063, 4078, 18136, 2229, 1010, 2002, 4150, 9943, 1012, 4422, 2003, 12603, 23355, 2044, 4531, 2041, 2055, 16096, 1998, 1010, 2043, 2002, 14994, 24209, 8490, 14503, 2063, 2272, 2503, 1996, 2160, 1010, 2002, 5363, 2000, 5342, 2104, 2848, 1998, 15815, 1005, 2793, 1010, 2021, 24209, 8490, 14503, 2063, 4858, 2032, 4089, 1010, 2138, 4422, 1005, 1055, 2519, 2020, 13423, 2041, 2013, 2104, 1996, 2793, 1010, 1998, 23197, 10299, 2032, 1010, 2947, 8701, 2000, 6271, 2010, 2132, 2125, 2065, 2002, 3632, 2379, 24209, 8490, 14503, 2063, 1005, 1055, 2160, 1012, 4422, 4152, 1996, 2345, 2773, 1517, 1000, 4931, 1010, 1045, 21746, 2115, 3611, 1012, 1000, 1517, 1998, 14136, 25967, 1996, 2341, 3844, 1012, 102, 101, 102, 101, 1027, 1027, 2537, 1998, 2458, 1027, 1027, 102, 101, 102, 101, 1996, 2792, 2001, 2517, 2011, 3419, 16475, 20147, 2100, 1998, 2856, 2011, 2186, 3180, 6969, 8709, 2015, 1012, 2009, 2003, 1996, 2117, 2792, 1997, 1996, 2161, 16475, 20147, 2100, 1998, 8709, 2015, 2499, 2006, 1010, 1996, 2034, 2108, 1000, 4422, 1005, 1055, 2288, 1037, 4435, 2047, 4524, 1000, 1010, 2077, 1996, 7091, 1997, 2161, 1022, 1012, 1996, 2792, 2387, 1996, 4955, 1997, 24209, 8490, 14503, 2063, 1005, 1055, 2269, 1010, 3812, 3474, 4907, 24209, 8490, 14503, 2063, 1010, 1037, 2280, 2961, 2007, 1996, 2142, 2163, 3212, 2040, 2101, 4150, 16096, 24209, 8490, 14503, 2063, 1012, 1996, 2839, 2001, 6126, 2011, 2364, 3459, 2266, 1010, 2186, 8543, 1998, 3237, 3135, 6662, 6097, 23511, 1012, 2186, 24945, 2848, 12277, 1998, 2508, 16405, 4103, 2819, 2366, 2004, 21238, 5501, 1010, 2007, 4080, 18522, 1998, 4074, 5708, 2551, 2004, 3095, 4898, 2005, 1996, 2792, 1012, 4543, 6902, 3557, 1010, 2040, 2038, 2499, 2006, 1996, 2186, 2144, 2049, 12149, 1010, 2513, 2000, 17202, 1996, 2189, 2005, 1000, 24209, 8490, 14503, 2063, 1005, 1055, 3611, 1000, 1012, 1996, 2434, 2640, 1997, 16096, 24209, 8490, 14503, 2063, 2001, 2580, 2011, 6097, 23511, 1010, 1998, 2881, 2000, 13014, 2394, 3364, 2703, 6655, 5794, 2100, 1012, 2009, 2001, 2101, 5967, 2588, 2011, 6969, 8709, 2015, 1012, 102, 101, 1000, 24209, 8490, 14503, 2063, 1005, 1055, 3611, 1000, 1010, 2247, 2007, 1996, 5408, 2060, 4178, 2013, 2155, 3124, 1005, 1055, 5964, 2161, 1010, 2001, 2207, 2006, 1037, 2093, 1030, 1011, 1030, 5860, 4966, 2275, 1999, 1996, 2142, 2163, 2006, 2285, 2410, 1010, 2249, 1012, 1996, 4520, 2421, 4766, 5746, 21241, 2011, 2536, 3626, 1998, 3459, 2372, 2005, 2195, 4178, 1010], 'token_type_ids': [0, 0, 0, 0, 0, 0, 0, 0, 0, 0, 0, 0, 0, 0, 0, 0, 0, 0, 0, 0, 0, 0, 0, 0, 0, 0, 0, 0, 0, 0, 0, 0, 0, 0, 0, 0, 0, 0, 0, 0, 0, 0, 0, 0, 0, 0, 0, 0, 0, 0, 0, 0, 0, 0, 0, 0, 0, 0, 0, 0, 0, 0, 0, 0, 0, 0, 0, 0, 0, 0, 0, 0, 0, 0, 0, 0, 0, 0, 0, 0, 0, 0, 0, 0, 0, 0, 0, 0, 0, 0, 0, 0, 0, 0, 0, 0, 0, 0, 0, 0, 0, 0, 0, 0, 0, 0, 0, 0, 0, 0, 0, 0, 0, 0, 0, 0, 0, 0, 0, 0, 0, 0, 0, 0, 0, 0, 0, 0, 0, 0, 0, 0, 0, 0, 0, 0, 0, 0, 0, 0, 0, 0, 0, 0, 0, 0, 0, 0, 0, 0, 0, 0, 0, 0, 0, 0, 0, 0, 0, 0, 0, 0, 0, 0, 0, 0, 0, 0, 0, 0, 0, 0, 0, 0, 0, 0, 0, 0, 0, 0, 0, 0, 0, 0, 0, 0, 0, 0, 0, 0, 0, 0, 0, 0, 0, 0, 0, 0, 0, 0, 0, 0, 0, 0, 0, 0, 0, 0, 0, 0, 0, 0, 0, 0, 0, 0, 0, 0, 0, 0, 0, 0, 0, 0, 0, 0, 0, 0, 0, 0, 0, 0, 0, 0, 0, 0, 0, 0, 0, 0, 0, 0, 0, 0, 0, 0, 0, 0, 0, 0, 0, 0, 0, 0, 0, 0, 0, 0, 0, 0, 0, 0, 0, 0, 0, 0, 0, 0, 0, 0, 0, 0, 0, 0, 0, 0, 0, 0, 0, 0, 0, 0, 0, 0, 0, 0, 0, 0, 0, 0, 0, 0, 0, 0, 0, 0, 0, 0, 0, 0, 0, 0, 0, 0, 0, 0, 0, 0, 0, 0, 0, 0, 0, 0, 0, 0, 0, 0, 0, 0, 0, 0, 0, 0, 0, 0, 0, 0, 0, 0, 0, 0, 0, 0, 0, 0, 0, 0, 0, 0, 0, 0, 0, 0, 0, 0, 0, 0, 0, 0, 0, 0, 0, 0, 0, 0, 0, 0, 0, 0, 0, 0, 0, 0, 0, 0, 0, 0, 0, 0, 0, 0, 0, 0, 0, 0, 0, 0, 0, 0, 0, 0, 0, 0, 0, 0, 0, 0, 0, 0, 0, 0, 0, 0, 0, 0, 0, 0, 0, 0, 0, 0, 0, 0, 0, 0, 0, 0, 0, 0, 0, 0, 0, 0, 0, 0, 0, 0, 0, 0, 0, 0, 0, 0, 0, 0, 0, 0, 0, 0, 0, 0, 0, 0, 0, 0, 0, 0, 0, 0, 0, 0, 0, 0, 0, 0, 0, 0, 0, 0, 0, 0, 0, 0, 0, 0, 0, 0, 0, 0, 0, 0, 0, 0, 0, 0, 0, 0, 0, 0, 0, 0, 0, 0, 0, 0, 0, 0, 0, 0, 0, 0, 0, 0, 0, 0, 0, 0, 0, 0, 0, 0, 0, 0, 0, 0, 0, 0, 0, 0, 0, 0, 0, 0, 0, 0, 0, 0, 0, 0, 0, 0], 'attention_mask': [1, 1, 1, 1, 1, 1, 1, 1, 1, 1, 1, 1, 1, 1, 1, 1, 1, 1, 1, 1, 1, 1, 1, 1, 1, 1, 1, 1, 1, 1, 1, 1, 1, 1, 1, 1, 1, 1, 1, 1, 1, 1, 1, 1, 1, 1, 1, 1, 1, 1, 1, 1, 1, 1, 1, 1, 1, 1, 1, 1, 1, 1, 1, 1, 1, 1, 1, 1, 1, 1, 1, 1, 1, 1, 1, 1, 1, 1, 1, 1, 1, 1, 1, 1, 1, 1, 1, 1, 1, 1, 1, 1, 1, 1, 1, 1, 1, 1, 1, 1, 1, 1, 1, 1, 1, 1, 1, 1, 1, 1, 1, 1, 1, 1, 1, 1, 1, 1, 1, 1, 1, 1, 1, 1, 1, 1, 1, 1, 1, 1, 1, 1, 1, 1, 1, 1, 1, 1, 1, 1, 1, 1, 1, 1, 1, 1, 1, 1, 1, 1, 1, 1, 1, 1, 1, 1, 1, 1, 1, 1, 1, 1, 1, 1, 1, 1, 1, 1, 1, 1, 1, 1, 1, 1, 1, 1, 1, 1, 1, 1, 1, 1, 1, 1, 1, 1, 1, 1, 1, 1, 1, 1, 1, 1, 1, 1, 1, 1, 1, 1, 1, 1, 1, 1, 1, 1, 1, 1, 1, 1, 1, 1, 1, 1, 1, 1, 1, 1, 1, 1, 1, 1, 1, 1, 1, 1, 1, 1, 1, 1, 1, 1, 1, 1, 1, 1, 1, 1, 1, 1, 1, 1, 1, 1, 1, 1, 1, 1, 1, 1, 1, 1, 1, 1, 1, 1, 1, 1, 1, 1, 1, 1, 1, 1, 1, 1, 1, 1, 1, 1, 1, 1, 1, 1, 1, 1, 1, 1, 1, 1, 1, 1, 1, 1, 1, 1, 1, 1, 1, 1, 1, 1, 1, 1, 1, 1, 1, 1, 1, 1, 1, 1, 1, 1, 1, 1, 1, 1, 1, 1, 1, 1, 1, 1, 1, 1, 1, 1, 1, 1, 1, 1, 1, 1, 1, 1, 1, 1, 1, 1, 1, 1, 1, 1, 1, 1, 1, 1, 1, 1, 1, 1, 1, 1, 1, 1, 1, 1, 1, 1, 1, 1, 1, 1, 1, 1, 1, 1, 1, 1, 1, 1, 1, 1, 1, 1, 1, 1, 1, 1, 1, 1, 1, 1, 1, 1, 1, 1, 1, 1, 1, 1, 1, 1, 1, 1, 1, 1, 1, 1, 1, 1, 1, 1, 1, 1, 1, 1, 1, 1, 1, 1, 1, 1, 1, 1, 1, 1, 1, 1, 1, 1, 1, 1, 1, 1, 1, 1, 1, 1, 1, 1, 1, 1, 1, 1, 1, 1, 1, 1, 1, 1, 1, 1, 1, 1, 1, 1, 1, 1, 1, 1, 1, 1, 1, 1, 1, 1, 1, 1, 1, 1, 1, 1, 1, 1, 1, 1, 1, 1, 1, 1, 1, 1, 1, 1, 1, 1, 1, 1, 1, 1, 1, 1, 1, 1, 1, 1, 1, 1, 1, 1, 1, 1, 1, 1, 1, 1, 1, 1, 1, 1, 1, 1, 1, 1, 1, 1, 1, 1, 1, 1, 1, 1, 1, 1, 1, 1, 1, 1, 1, 1]}\n",
      "---------------------------------------------------------\n",
      "{'input_ids': [1997, 1069, 3438, 1030, 1010, 1030, 2199, 2005, 1996, 6032, 1998, 2039, 20553, 2361, 1997, 1037, 4673, 3346, 2007, 2261, 3293, 1998, 3318, 1030, 1011, 1030, 11717, 6695, 1000, 2004, 1996, 3114, 2005, 1996, 2506, 2342, 2000, 2693, 2000, 1037, 2047, 3346, 1012, 102, 101, 2750, 1996, 2252, 7989, 2000, 6246, 6709, 1037, 2609, 2011, 1996, 2203, 1997, 2289, 1010, 3361, 12408, 2020, 2025, 22667, 1010, 2004, 1996, 1042, 5332, 2546, 2020, 8510, 2007, 1996, 5082, 2081, 1012, 2174, 1010, 17919, 2056, 3488, 2007, 1996, 6871, 2609, 2018, 2598, 2000, 1037, 9190, 2011, 2233, 2263, 1012, 2103, 1997, 2259, 2473, 2623, 2049, 8426, 2000, 2311, 1037, 2451, 3346, 1999, 2089, 2263, 1010, 2029, 2052, 2022, 2109, 2011, 2259, 1998, 1996, 2103, 1005, 1055, 4043, 2223, 2252, 1010, 2259, 2103, 7307, 1012, 1999, 2251, 2230, 1996, 2473, 4900, 1996, 5724, 1997, 2311, 1037, 1020, 1030, 1010, 1030, 2199, 2035, 1030, 1011, 1030, 23392, 3346, 2012, 9978, 2892, 1999, 16364, 1010, 2006, 1996, 2609, 1997, 16364, 3346, 1012, 1999, 2257, 2297, 13861, 12257, 5183, 2020, 2315, 2004, 1996, 2473, 1005, 1055, 6871, 7226, 4063, 2000, 8116, 2019, 1022, 1030, 1010, 1030, 2199, 2035, 1030, 1011, 1030, 23392, 3346, 1010, 1037, 12257, 3375, 1998, 1037, 2451, 9594, 1012, 2810, 2003, 3517, 2000, 2707, 1999, 1996, 2621, 1997, 2355, 1010, 2005, 6503, 1999, 2220, 2760, 1012, 102, 101, 102, 101, 1027, 1027, 3252, 1998, 4128, 1027, 1027, 102, 101, 102, 101, 1996, 2598, 2064, 8752, 1022, 1030, 1010, 1030, 17273, 6793, 1010, 2164, 10747, 2005, 1017, 1030, 1010, 1030, 2871, 2683, 1010, 1998, 8681, 2176, 4832, 1025, 1996, 2364, 3233, 1010, 1996, 2759, 3233, 1010, 1996, 2585, 2146, 10510, 3233, 1998, 1996, 24665, 2891, 26806, 2346, 2203, 1012, 102, 101, 1996, 2364, 3233, 1010, 2029, 2064, 2835, 1015, 1030, 1010, 1030, 4293, 2581, 12405, 1010, 2003, 2019, 2035, 1030, 1011, 1030, 8901, 3233, 2029, 3216, 2105, 2048, 1030, 1011, 1030, 12263, 1997, 1996, 6510, 1012, 2009, 3397, 1996, 11225, 4734, 1010, 2252, 4822, 1010, 7281, 4822, 1998, 15961, 19796, 1010, 1998, 3397, 1037, 2193, 1997, 4637, 13766, 1012, 1996, 3233, 2038, 2330, 8413, 2000, 2593, 2217, 1010, 2028, 1997, 2029, 2003, 2073, 1996, 6793, 1005, 2252, 2003, 2284, 1010, 1998, 2000, 1996, 4373, 2038, 7266, 24410, 2015, 2000, 2593, 2217, 1012, 2012, 1996, 2392, 1997, 2009, 2003, 1996, 2155, 3233, 1010, 2029, 4107, 10426, 6165, 2005, 2336, 1998, 2037, 2729, 2869, 1012, 4500, 2003, 1996, 2759, 3233, 1010, 1037, 3139, 2035, 1030, 1011, 1030, 8901, 3233, 1010, 2029, 3397, 1037, 2193, 1997, 4637, 13766, 1998, 4324, 1037, 2547, 25957, 11129, 2006, 2049, 4412, 1012, 2009, 2064, 2835, 1015, 1030, 1010, 1030, 3515, 2475, 12405, 1012, 102, 101, 1996, 22037, 3233, 1997, 1996, 2598, 2003, 1996, 2585, 2146, 10510, 3233, 1010, 2029, 2003, 1037, 3139, 11134, 2005, 2188, 6793, 1998, 2038, 1037, 5216, 1997, 4637, 13766, 2408, 2049, 2392, 1012, 1996, 3233, 2001, 2761, 2124, 2004, 1996, 2911, 2669, 2395, 2203, 1010, 2021, 2001, 4096, 2206, 1996, 2331, 1997, 2585, 2146, 10510, 1010, 1998, 2038, 1037, 3977, 1997, 1017, 1030, 1010, 1030, 5757, 2475, 1012, 4500, 2003], 'token_type_ids': [0, 0, 0, 0, 0, 0, 0, 0, 0, 0, 0, 0, 0, 0, 0, 0, 0, 0, 0, 0, 0, 0, 0, 0, 0, 0, 0, 0, 0, 0, 0, 0, 0, 0, 0, 0, 0, 0, 0, 0, 0, 0, 0, 0, 0, 0, 0, 0, 0, 0, 0, 0, 0, 0, 0, 0, 0, 0, 0, 0, 0, 0, 0, 0, 0, 0, 0, 0, 0, 0, 0, 0, 0, 0, 0, 0, 0, 0, 0, 0, 0, 0, 0, 0, 0, 0, 0, 0, 0, 0, 0, 0, 0, 0, 0, 0, 0, 0, 0, 0, 0, 0, 0, 0, 0, 0, 0, 0, 0, 0, 0, 0, 0, 0, 0, 0, 0, 0, 0, 0, 0, 0, 0, 0, 0, 0, 0, 0, 0, 0, 0, 0, 0, 0, 0, 0, 0, 0, 0, 0, 0, 0, 0, 0, 0, 0, 0, 0, 0, 0, 0, 0, 0, 0, 0, 0, 0, 0, 0, 0, 0, 0, 0, 0, 0, 0, 0, 0, 0, 0, 0, 0, 0, 0, 0, 0, 0, 0, 0, 0, 0, 0, 0, 0, 0, 0, 0, 0, 0, 0, 0, 0, 0, 0, 0, 0, 0, 0, 0, 0, 0, 0, 0, 0, 0, 0, 0, 0, 0, 0, 0, 0, 0, 0, 0, 0, 0, 0, 0, 0, 0, 0, 0, 0, 0, 0, 0, 0, 0, 0, 0, 0, 0, 0, 0, 0, 0, 0, 0, 0, 0, 0, 0, 0, 0, 0, 0, 0, 0, 0, 0, 0, 0, 0, 0, 0, 0, 0, 0, 0, 0, 0, 0, 0, 0, 0, 0, 0, 0, 0, 0, 0, 0, 0, 0, 0, 0, 0, 0, 0, 0, 0, 0, 0, 0, 0, 0, 0, 0, 0, 0, 0, 0, 0, 0, 0, 0, 0, 0, 0, 0, 0, 0, 0, 0, 0, 0, 0, 0, 0, 0, 0, 0, 0, 0, 0, 0, 0, 0, 0, 0, 0, 0, 0, 0, 0, 0, 0, 0, 0, 0, 0, 0, 0, 0, 0, 0, 0, 0, 0, 0, 0, 0, 0, 0, 0, 0, 0, 0, 0, 0, 0, 0, 0, 0, 0, 0, 0, 0, 0, 0, 0, 0, 0, 0, 0, 0, 0, 0, 0, 0, 0, 0, 0, 0, 0, 0, 0, 0, 0, 0, 0, 0, 0, 0, 0, 0, 0, 0, 0, 0, 0, 0, 0, 0, 0, 0, 0, 0, 0, 0, 0, 0, 0, 0, 0, 0, 0, 0, 0, 0, 0, 0, 0, 0, 0, 0, 0, 0, 0, 0, 0, 0, 0, 0, 0, 0, 0, 0, 0, 0, 0, 0, 0, 0, 0, 0, 0, 0, 0, 0, 0, 0, 0, 0, 0, 0, 0, 0, 0, 0, 0, 0, 0, 0, 0, 0, 0, 0, 0, 0, 0, 0, 0, 0, 0, 0, 0, 0, 0, 0, 0, 0, 0, 0, 0, 0, 0, 0, 0, 0, 0, 0, 0, 0, 0, 0, 0, 0, 0, 0, 0, 0, 0, 0, 0, 0, 0, 0, 0, 0, 0, 0, 0, 0, 0, 0, 0, 0, 0, 0, 0], 'attention_mask': [1, 1, 1, 1, 1, 1, 1, 1, 1, 1, 1, 1, 1, 1, 1, 1, 1, 1, 1, 1, 1, 1, 1, 1, 1, 1, 1, 1, 1, 1, 1, 1, 1, 1, 1, 1, 1, 1, 1, 1, 1, 1, 1, 1, 1, 1, 1, 1, 1, 1, 1, 1, 1, 1, 1, 1, 1, 1, 1, 1, 1, 1, 1, 1, 1, 1, 1, 1, 1, 1, 1, 1, 1, 1, 1, 1, 1, 1, 1, 1, 1, 1, 1, 1, 1, 1, 1, 1, 1, 1, 1, 1, 1, 1, 1, 1, 1, 1, 1, 1, 1, 1, 1, 1, 1, 1, 1, 1, 1, 1, 1, 1, 1, 1, 1, 1, 1, 1, 1, 1, 1, 1, 1, 1, 1, 1, 1, 1, 1, 1, 1, 1, 1, 1, 1, 1, 1, 1, 1, 1, 1, 1, 1, 1, 1, 1, 1, 1, 1, 1, 1, 1, 1, 1, 1, 1, 1, 1, 1, 1, 1, 1, 1, 1, 1, 1, 1, 1, 1, 1, 1, 1, 1, 1, 1, 1, 1, 1, 1, 1, 1, 1, 1, 1, 1, 1, 1, 1, 1, 1, 1, 1, 1, 1, 1, 1, 1, 1, 1, 1, 1, 1, 1, 1, 1, 1, 1, 1, 1, 1, 1, 1, 1, 1, 1, 1, 1, 1, 1, 1, 1, 1, 1, 1, 1, 1, 1, 1, 1, 1, 1, 1, 1, 1, 1, 1, 1, 1, 1, 1, 1, 1, 1, 1, 1, 1, 1, 1, 1, 1, 1, 1, 1, 1, 1, 1, 1, 1, 1, 1, 1, 1, 1, 1, 1, 1, 1, 1, 1, 1, 1, 1, 1, 1, 1, 1, 1, 1, 1, 1, 1, 1, 1, 1, 1, 1, 1, 1, 1, 1, 1, 1, 1, 1, 1, 1, 1, 1, 1, 1, 1, 1, 1, 1, 1, 1, 1, 1, 1, 1, 1, 1, 1, 1, 1, 1, 1, 1, 1, 1, 1, 1, 1, 1, 1, 1, 1, 1, 1, 1, 1, 1, 1, 1, 1, 1, 1, 1, 1, 1, 1, 1, 1, 1, 1, 1, 1, 1, 1, 1, 1, 1, 1, 1, 1, 1, 1, 1, 1, 1, 1, 1, 1, 1, 1, 1, 1, 1, 1, 1, 1, 1, 1, 1, 1, 1, 1, 1, 1, 1, 1, 1, 1, 1, 1, 1, 1, 1, 1, 1, 1, 1, 1, 1, 1, 1, 1, 1, 1, 1, 1, 1, 1, 1, 1, 1, 1, 1, 1, 1, 1, 1, 1, 1, 1, 1, 1, 1, 1, 1, 1, 1, 1, 1, 1, 1, 1, 1, 1, 1, 1, 1, 1, 1, 1, 1, 1, 1, 1, 1, 1, 1, 1, 1, 1, 1, 1, 1, 1, 1, 1, 1, 1, 1, 1, 1, 1, 1, 1, 1, 1, 1, 1, 1, 1, 1, 1, 1, 1, 1, 1, 1, 1, 1, 1, 1, 1, 1, 1, 1, 1, 1, 1, 1, 1, 1, 1, 1, 1, 1, 1, 1, 1, 1, 1, 1, 1, 1, 1, 1, 1, 1, 1, 1, 1, 1, 1, 1, 1, 1, 1, 1]}\n",
      "---------------------------------------------------------\n",
      "{'input_ids': [2233, 2249, 1010, 2007, 16560, 28101, 2669, 2034, 2000, 2022, 3459, 1010, 17274, 2931, 2599, 6819, 13469, 2078, 25546, 1012, 28101, 2669, 3090, 2008, 2016, 2165, 1037, 3891, 1999, 2635, 1996, 2535, 1997, 6819, 13469, 2078, 1012, 2043, 7104, 3591, 1996, 2535, 2000, 2014, 1010, 2002, 2056, 1024, 1000, 2023, 2003, 2242, 2057, 1005, 2310, 2196, 2464, 2017, 2079, 2077, 1012, 2009, 2097, 2022, 3810, 2054, 2017, 1005, 2310, 2074, 2042, 2725, 2006, 2049, 4540, 1012, 1000, 2016, 2001, 18896, 2011, 2054, 2002, 2018, 3591, 2014, 1998, 4821, 2787, 2000, 2202, 1996, 2112, 1012, 1999, 2019, 4357, 2007, 4024, 4882, 1010, 2186, 2522, 1030, 1011, 1030, 8543, 4575, 7104, 3090, 2008, 2002, 2018, 2409, 16560, 28101, 2669, 1010, 2220, 2006, 1010, 2008, 2014, 2839, 6819, 13469, 2078, 2052, 3280, 1999, 1996, 2034, 2161, 1012, 1000, 2057, 1005, 2310, 2428, 2018, 1996, 2878, 2161, 17715, 2041, 2013, 1996, 2927, 1010, 1000, 2002, 2056, 1012, 1000, 1999, 1996, 6295, 2007, 1996, 4563, 5889, 1010, 1996, 2093, 5260, 2108, 16560, 1010, 7758, 1031, 11338, 29370, 1033, 1998, 8201, 1031, 21395, 1033, 1010, 2004, 2057, 2699, 2000, 1055, 26148, 2068, 2057, 2020, 2583, 2000, 2360, 2023, 2003, 2073, 2017, 2707, 1010, 2023, 2003, 1996, 2690, 1010, 1998, 2023, 2003, 2073, 2017, 2203, 2039, 1012, 2061, 1010, 2748, 1010, 1045, 2001, 2583, 2000, 2425, 16560, 2428, 1996, 2878, 2448, 1997, 1996, 2186, 1012, 1000, 102, 101, 11064, 1051, 1005, 14263, 2587, 1996, 3459, 1999, 2397, 2233, 2249, 2004, 6554, 7702, 1012, 8201, 21395, 2587, 1996, 3459, 1999, 2258, 2249, 2004, 15713, 1010, 10060, 2014, 2034, 3180, 2535, 2006, 2547, 1012, 21395, 2001, 6296, 2000, 1996, 2535, 2138, 2009, 2134, 1005, 1056, 5478, 1037, 2570, 1030, 1011, 1030, 2792, 8426, 2066, 1037, 2186, 2006, 1037, 3743, 2897, 1012, 1000, 2008, 2001, 4121, 2005, 2033, 999, 1000, 2016, 2056, 1012, 1000, 1045, 2347, 1005, 1056, 2055, 2000, 10797, 2000, 1010, 2017, 2113, 1010, 2416, 2706, 1012, 2009, 2001, 5830, 1010, 2738, 2084, 2897, 1012, 1012, 1012, 1045, 1005, 2310, 2042, 3253, 2897, 1031, 3065, 1033, 2077, 1010, 1998, 4340, 2025, 2000, 2079, 2009, 1010, 2074, 2138, 1045, 2064, 1005, 1056, 2191, 2008, 2785, 1997, 2051, 8426, 1012, 1000, 102, 101, 7758, 11338, 29370, 2001, 3459, 2004, 1996, 2599, 3841, 25546, 1999, 2397, 2258, 2249, 1012, 2010, 2839, 2001, 3322, 2649, 2004, 1000, 1037, 8502, 1998, 14818, 2021, 7591, 19294, 2040, 7459, 2010, 2155, 2021, 2038, 3480, 2010, 2564, 1012, 1000, 11338, 29370, 3090, 2008, 2002, 2359, 2000, 2079, 1996, 2535, 2000, 3338, 2185, 2013, 2010, 3025, 2535, 2004, 6173, 18016, 1999, 1996, 5925, 2186, 1996, 3218, 1012, 1000, 2023, 2001, 3599, 2339, 1045, 2359, 2000, 2079, 2023, 2265, 1516, 2000, 2689, 2009, 2039, 1998, 2079, 1037, 2367, 2785, 1997, 2839, 1012, 2111, 2228, 1997, 2033, 2004, 1996, 3124, 2013, 1996, 3218, 1012, 1012, 1012, 1045, 2359, 2000, 2735, 2008, 1031, 9366, 1033, 2006, 2049, 2132, 1998, 11504, 1045, 1005, 1049, 2725, 2008, 1031, 2007, 2023, 2265, 1033, 1000, 1010, 2002, 2056, 1012, 102, 101, 1999, 2089, 2249, 1010, 13843, 11488, 3888, 13340, 1998, 9340, 12420, 2020, 1996, 2197, 2599], 'token_type_ids': [0, 0, 0, 0, 0, 0, 0, 0, 0, 0, 0, 0, 0, 0, 0, 0, 0, 0, 0, 0, 0, 0, 0, 0, 0, 0, 0, 0, 0, 0, 0, 0, 0, 0, 0, 0, 0, 0, 0, 0, 0, 0, 0, 0, 0, 0, 0, 0, 0, 0, 0, 0, 0, 0, 0, 0, 0, 0, 0, 0, 0, 0, 0, 0, 0, 0, 0, 0, 0, 0, 0, 0, 0, 0, 0, 0, 0, 0, 0, 0, 0, 0, 0, 0, 0, 0, 0, 0, 0, 0, 0, 0, 0, 0, 0, 0, 0, 0, 0, 0, 0, 0, 0, 0, 0, 0, 0, 0, 0, 0, 0, 0, 0, 0, 0, 0, 0, 0, 0, 0, 0, 0, 0, 0, 0, 0, 0, 0, 0, 0, 0, 0, 0, 0, 0, 0, 0, 0, 0, 0, 0, 0, 0, 0, 0, 0, 0, 0, 0, 0, 0, 0, 0, 0, 0, 0, 0, 0, 0, 0, 0, 0, 0, 0, 0, 0, 0, 0, 0, 0, 0, 0, 0, 0, 0, 0, 0, 0, 0, 0, 0, 0, 0, 0, 0, 0, 0, 0, 0, 0, 0, 0, 0, 0, 0, 0, 0, 0, 0, 0, 0, 0, 0, 0, 0, 0, 0, 0, 0, 0, 0, 0, 0, 0, 0, 0, 0, 0, 0, 0, 0, 0, 0, 0, 0, 0, 0, 0, 0, 0, 0, 0, 0, 0, 0, 0, 0, 0, 0, 0, 0, 0, 0, 0, 0, 0, 0, 0, 0, 0, 0, 0, 0, 0, 0, 0, 0, 0, 0, 0, 0, 0, 0, 0, 0, 0, 0, 0, 0, 0, 0, 0, 0, 0, 0, 0, 0, 0, 0, 0, 0, 0, 0, 0, 0, 0, 0, 0, 0, 0, 0, 0, 0, 0, 0, 0, 0, 0, 0, 0, 0, 0, 0, 0, 0, 0, 0, 0, 0, 0, 0, 0, 0, 0, 0, 0, 0, 0, 0, 0, 0, 0, 0, 0, 0, 0, 0, 0, 0, 0, 0, 0, 0, 0, 0, 0, 0, 0, 0, 0, 0, 0, 0, 0, 0, 0, 0, 0, 0, 0, 0, 0, 0, 0, 0, 0, 0, 0, 0, 0, 0, 0, 0, 0, 0, 0, 0, 0, 0, 0, 0, 0, 0, 0, 0, 0, 0, 0, 0, 0, 0, 0, 0, 0, 0, 0, 0, 0, 0, 0, 0, 0, 0, 0, 0, 0, 0, 0, 0, 0, 0, 0, 0, 0, 0, 0, 0, 0, 0, 0, 0, 0, 0, 0, 0, 0, 0, 0, 0, 0, 0, 0, 0, 0, 0, 0, 0, 0, 0, 0, 0, 0, 0, 0, 0, 0, 0, 0, 0, 0, 0, 0, 0, 0, 0, 0, 0, 0, 0, 0, 0, 0, 0, 0, 0, 0, 0, 0, 0, 0, 0, 0, 0, 0, 0, 0, 0, 0, 0, 0, 0, 0, 0, 0, 0, 0, 0, 0, 0, 0, 0, 0, 0, 0, 0, 0, 0, 0, 0, 0, 0, 0, 0, 0, 0, 0, 0, 0, 0, 0, 0, 0, 0, 0, 0, 0, 0, 0, 0, 0, 0, 0], 'attention_mask': [1, 1, 1, 1, 1, 1, 1, 1, 1, 1, 1, 1, 1, 1, 1, 1, 1, 1, 1, 1, 1, 1, 1, 1, 1, 1, 1, 1, 1, 1, 1, 1, 1, 1, 1, 1, 1, 1, 1, 1, 1, 1, 1, 1, 1, 1, 1, 1, 1, 1, 1, 1, 1, 1, 1, 1, 1, 1, 1, 1, 1, 1, 1, 1, 1, 1, 1, 1, 1, 1, 1, 1, 1, 1, 1, 1, 1, 1, 1, 1, 1, 1, 1, 1, 1, 1, 1, 1, 1, 1, 1, 1, 1, 1, 1, 1, 1, 1, 1, 1, 1, 1, 1, 1, 1, 1, 1, 1, 1, 1, 1, 1, 1, 1, 1, 1, 1, 1, 1, 1, 1, 1, 1, 1, 1, 1, 1, 1, 1, 1, 1, 1, 1, 1, 1, 1, 1, 1, 1, 1, 1, 1, 1, 1, 1, 1, 1, 1, 1, 1, 1, 1, 1, 1, 1, 1, 1, 1, 1, 1, 1, 1, 1, 1, 1, 1, 1, 1, 1, 1, 1, 1, 1, 1, 1, 1, 1, 1, 1, 1, 1, 1, 1, 1, 1, 1, 1, 1, 1, 1, 1, 1, 1, 1, 1, 1, 1, 1, 1, 1, 1, 1, 1, 1, 1, 1, 1, 1, 1, 1, 1, 1, 1, 1, 1, 1, 1, 1, 1, 1, 1, 1, 1, 1, 1, 1, 1, 1, 1, 1, 1, 1, 1, 1, 1, 1, 1, 1, 1, 1, 1, 1, 1, 1, 1, 1, 1, 1, 1, 1, 1, 1, 1, 1, 1, 1, 1, 1, 1, 1, 1, 1, 1, 1, 1, 1, 1, 1, 1, 1, 1, 1, 1, 1, 1, 1, 1, 1, 1, 1, 1, 1, 1, 1, 1, 1, 1, 1, 1, 1, 1, 1, 1, 1, 1, 1, 1, 1, 1, 1, 1, 1, 1, 1, 1, 1, 1, 1, 1, 1, 1, 1, 1, 1, 1, 1, 1, 1, 1, 1, 1, 1, 1, 1, 1, 1, 1, 1, 1, 1, 1, 1, 1, 1, 1, 1, 1, 1, 1, 1, 1, 1, 1, 1, 1, 1, 1, 1, 1, 1, 1, 1, 1, 1, 1, 1, 1, 1, 1, 1, 1, 1, 1, 1, 1, 1, 1, 1, 1, 1, 1, 1, 1, 1, 1, 1, 1, 1, 1, 1, 1, 1, 1, 1, 1, 1, 1, 1, 1, 1, 1, 1, 1, 1, 1, 1, 1, 1, 1, 1, 1, 1, 1, 1, 1, 1, 1, 1, 1, 1, 1, 1, 1, 1, 1, 1, 1, 1, 1, 1, 1, 1, 1, 1, 1, 1, 1, 1, 1, 1, 1, 1, 1, 1, 1, 1, 1, 1, 1, 1, 1, 1, 1, 1, 1, 1, 1, 1, 1, 1, 1, 1, 1, 1, 1, 1, 1, 1, 1, 1, 1, 1, 1, 1, 1, 1, 1, 1, 1, 1, 1, 1, 1, 1, 1, 1, 1, 1, 1, 1, 1, 1, 1, 1, 1, 1, 1, 1, 1, 1, 1, 1, 1, 1, 1, 1, 1, 1, 1, 1, 1, 1, 1, 1, 1, 1, 1, 1, 1, 1, 1, 1]}\n",
      "---------------------------------------------------------\n",
      "{'input_ids': [2000, 3760, 2825, 5041, 7363, 2015, 1010, 1998, 1996, 6034, 3635, 2872, 2006, 1996, 3903, 1997, 1996, 3719, 2419, 2000, 17153, 10992, 2389, 6911, 1998, 5291, 1999, 8743, 2401, 1012, 102, 101, 2004, 1996, 3176, 2364, 6046, 21088, 2007, 2037, 3378, 7298, 2109, 1037, 2307, 3815, 1997, 2686, 2306, 2169, 2525, 1030, 1011, 1030, 3132, 2911, 1010, 6178, 4523, 2001, 3140, 2000, 17338, 3630, 4328, 4371, 1999, 2060, 3971, 2000, 2994, 2306, 1996, 10228, 27031, 5787, 1012, 10394, 2018, 2000, 2022, 2328, 3760, 2084, 3671, 2000, 4906, 1999, 1996, 2686, 2090, 1996, 18921, 1998, 16638, 7298, 1010, 2119, 1997, 2029, 2020, 3469, 2084, 5156, 1012, 15635, 4734, 2020, 2333, 1999, 6277, 2000, 2191, 2282, 2005, 9862, 3860, 1012, 1996, 5221, 4009, 5963, 2001, 1999, 16404, 1024, 2045, 2001, 2053, 2282, 2005, 5209, 2008, 2071, 3073, 1996, 2168, 3815, 1997, 2373, 2004, 2006, 3025, 21327, 1012, 6178, 4523, 4081, 6276, 2091, 1996, 2193, 1997, 20412, 2011, 2028, 1030, 1011, 1030, 2353, 2000, 2191, 2282, 1025, 2009, 2089, 2031, 2042, 2012, 2023, 2391, 2008, 2002, 2641, 14027, 16404, 1010, 2005, 2029, 2002, 2052, 2031, 2734, 4469, 2282, 1012, 2035, 1996, 4879, 1997, 3330, 2071, 3749, 1999, 3433, 2001, 2062, 9233, 15635, 4734, 2011, 15349, 2415, 4179, 9625, 13038, 1012, 102, 101, 1996, 11216, 2020, 2770, 2046, 1996, 3291, 2008, 18486, 4455, 1996, 1000, 11025, 1000, 1024, 1996, 6827, 3787, 1997, 1037, 17224, 1006, 14410, 1010, 16404, 10394, 1010, 1998, 8177, 1007, 4050, 2794, 2039, 2000, 2055, 8442, 3867, 1997, 2037, 2640, 13508, 1025, 5684, 2075, 2028, 1997, 2122, 5876, 1010, 1996, 1000, 2093, 3078, 2510, 11647, 1000, 1010, 2052, 2812, 10564, 12014, 2015, 1999, 2028, 2030, 2119, 1997, 1996, 2500, 1012, 102, 101, 1999, 1996, 2203, 1010, 1996, 3601, 1997, 14410, 1998, 8177, 3214, 2008, 1996, 2148, 3792, 2015, 2327, 3177, 2001, 2896, 2084, 7220, 14436, 3630, 18533, 1010, 1996, 17283, 2329, 2911, 2328, 3859, 2077, 1996, 2148, 3792, 2015, 1010, 1998, 2035, 2925, 2149, 21327, 1012, 102, 101, 102, 101, 1027, 1027, 15480, 1027, 1027, 102, 101, 102, 101, 2012, 1037, 2640, 13508, 1997, 2385, 1030, 1010, 1030, 2199, 2146, 6197, 1010, 1996, 2148, 3792, 2465, 14436, 3630, 18533, 2015, 2020, 1996, 2168, 2946, 2004, 2037, 6117, 1030, 1011, 1030, 2465, 3653, 1030, 1011, 1030, 14436, 3630, 18533, 16372, 1012, 1999, 2326, 1010, 2027, 2071, 2941, 2022, 9442, 1024, 5773, 2018, 1037, 3115, 13508, 1997, 2321, 1030, 1010, 1030, 24231, 2146, 6197, 1006, 2321, 1030, 1010, 1030, 4868, 2581, 1056, 1007, 1010, 2096, 4174, 2001, 2069, 2403, 1030, 1010, 1030, 6486, 2487, 2146, 6197, 1006, 2321, 1030, 1010, 1030, 7558, 1056, 1007, 2011, 1996, 2168, 10903, 1012, 1996, 2911, 1005, 1055, 6738, 2946, 2001, 2036, 12435, 2000, 1996, 6117, 2015, 1010, 2007, 1037, 3091, 1997, 3429, 2475, 3027, 1023, 1999, 1006, 15028, 1049, 1007, 3452, 1010, 10332, 3027, 1006, 14989, 1049, 1007, 2090, 19581, 2015, 1010, 1998, 1996, 2168, 2012, 1996, 2300, 4179, 1012, 1996, 2465, 1005, 7504, 2001, 3770, 3027, 1016, 1030, 1012, 1030, 1019, 1999, 1006, 2484, 1049, 1007, 1010, 4433, 2001, 2484, 3027, 1020, 1999, 1006, 1021, 1049, 1007, 1010], 'token_type_ids': [0, 0, 0, 0, 0, 0, 0, 0, 0, 0, 0, 0, 0, 0, 0, 0, 0, 0, 0, 0, 0, 0, 0, 0, 0, 0, 0, 0, 0, 0, 0, 0, 0, 0, 0, 0, 0, 0, 0, 0, 0, 0, 0, 0, 0, 0, 0, 0, 0, 0, 0, 0, 0, 0, 0, 0, 0, 0, 0, 0, 0, 0, 0, 0, 0, 0, 0, 0, 0, 0, 0, 0, 0, 0, 0, 0, 0, 0, 0, 0, 0, 0, 0, 0, 0, 0, 0, 0, 0, 0, 0, 0, 0, 0, 0, 0, 0, 0, 0, 0, 0, 0, 0, 0, 0, 0, 0, 0, 0, 0, 0, 0, 0, 0, 0, 0, 0, 0, 0, 0, 0, 0, 0, 0, 0, 0, 0, 0, 0, 0, 0, 0, 0, 0, 0, 0, 0, 0, 0, 0, 0, 0, 0, 0, 0, 0, 0, 0, 0, 0, 0, 0, 0, 0, 0, 0, 0, 0, 0, 0, 0, 0, 0, 0, 0, 0, 0, 0, 0, 0, 0, 0, 0, 0, 0, 0, 0, 0, 0, 0, 0, 0, 0, 0, 0, 0, 0, 0, 0, 0, 0, 0, 0, 0, 0, 0, 0, 0, 0, 0, 0, 0, 0, 0, 0, 0, 0, 0, 0, 0, 0, 0, 0, 0, 0, 0, 0, 0, 0, 0, 0, 0, 0, 0, 0, 0, 0, 0, 0, 0, 0, 0, 0, 0, 0, 0, 0, 0, 0, 0, 0, 0, 0, 0, 0, 0, 0, 0, 0, 0, 0, 0, 0, 0, 0, 0, 0, 0, 0, 0, 0, 0, 0, 0, 0, 0, 0, 0, 0, 0, 0, 0, 0, 0, 0, 0, 0, 0, 0, 0, 0, 0, 0, 0, 0, 0, 0, 0, 0, 0, 0, 0, 0, 0, 0, 0, 0, 0, 0, 0, 0, 0, 0, 0, 0, 0, 0, 0, 0, 0, 0, 0, 0, 0, 0, 0, 0, 0, 0, 0, 0, 0, 0, 0, 0, 0, 0, 0, 0, 0, 0, 0, 0, 0, 0, 0, 0, 0, 0, 0, 0, 0, 0, 0, 0, 0, 0, 0, 0, 0, 0, 0, 0, 0, 0, 0, 0, 0, 0, 0, 0, 0, 0, 0, 0, 0, 0, 0, 0, 0, 0, 0, 0, 0, 0, 0, 0, 0, 0, 0, 0, 0, 0, 0, 0, 0, 0, 0, 0, 0, 0, 0, 0, 0, 0, 0, 0, 0, 0, 0, 0, 0, 0, 0, 0, 0, 0, 0, 0, 0, 0, 0, 0, 0, 0, 0, 0, 0, 0, 0, 0, 0, 0, 0, 0, 0, 0, 0, 0, 0, 0, 0, 0, 0, 0, 0, 0, 0, 0, 0, 0, 0, 0, 0, 0, 0, 0, 0, 0, 0, 0, 0, 0, 0, 0, 0, 0, 0, 0, 0, 0, 0, 0, 0, 0, 0, 0, 0, 0, 0, 0, 0, 0, 0, 0, 0, 0, 0, 0, 0, 0, 0, 0, 0, 0, 0, 0, 0, 0, 0, 0, 0, 0, 0, 0, 0, 0, 0, 0, 0, 0, 0, 0, 0, 0, 0, 0, 0, 0, 0, 0, 0], 'attention_mask': [1, 1, 1, 1, 1, 1, 1, 1, 1, 1, 1, 1, 1, 1, 1, 1, 1, 1, 1, 1, 1, 1, 1, 1, 1, 1, 1, 1, 1, 1, 1, 1, 1, 1, 1, 1, 1, 1, 1, 1, 1, 1, 1, 1, 1, 1, 1, 1, 1, 1, 1, 1, 1, 1, 1, 1, 1, 1, 1, 1, 1, 1, 1, 1, 1, 1, 1, 1, 1, 1, 1, 1, 1, 1, 1, 1, 1, 1, 1, 1, 1, 1, 1, 1, 1, 1, 1, 1, 1, 1, 1, 1, 1, 1, 1, 1, 1, 1, 1, 1, 1, 1, 1, 1, 1, 1, 1, 1, 1, 1, 1, 1, 1, 1, 1, 1, 1, 1, 1, 1, 1, 1, 1, 1, 1, 1, 1, 1, 1, 1, 1, 1, 1, 1, 1, 1, 1, 1, 1, 1, 1, 1, 1, 1, 1, 1, 1, 1, 1, 1, 1, 1, 1, 1, 1, 1, 1, 1, 1, 1, 1, 1, 1, 1, 1, 1, 1, 1, 1, 1, 1, 1, 1, 1, 1, 1, 1, 1, 1, 1, 1, 1, 1, 1, 1, 1, 1, 1, 1, 1, 1, 1, 1, 1, 1, 1, 1, 1, 1, 1, 1, 1, 1, 1, 1, 1, 1, 1, 1, 1, 1, 1, 1, 1, 1, 1, 1, 1, 1, 1, 1, 1, 1, 1, 1, 1, 1, 1, 1, 1, 1, 1, 1, 1, 1, 1, 1, 1, 1, 1, 1, 1, 1, 1, 1, 1, 1, 1, 1, 1, 1, 1, 1, 1, 1, 1, 1, 1, 1, 1, 1, 1, 1, 1, 1, 1, 1, 1, 1, 1, 1, 1, 1, 1, 1, 1, 1, 1, 1, 1, 1, 1, 1, 1, 1, 1, 1, 1, 1, 1, 1, 1, 1, 1, 1, 1, 1, 1, 1, 1, 1, 1, 1, 1, 1, 1, 1, 1, 1, 1, 1, 1, 1, 1, 1, 1, 1, 1, 1, 1, 1, 1, 1, 1, 1, 1, 1, 1, 1, 1, 1, 1, 1, 1, 1, 1, 1, 1, 1, 1, 1, 1, 1, 1, 1, 1, 1, 1, 1, 1, 1, 1, 1, 1, 1, 1, 1, 1, 1, 1, 1, 1, 1, 1, 1, 1, 1, 1, 1, 1, 1, 1, 1, 1, 1, 1, 1, 1, 1, 1, 1, 1, 1, 1, 1, 1, 1, 1, 1, 1, 1, 1, 1, 1, 1, 1, 1, 1, 1, 1, 1, 1, 1, 1, 1, 1, 1, 1, 1, 1, 1, 1, 1, 1, 1, 1, 1, 1, 1, 1, 1, 1, 1, 1, 1, 1, 1, 1, 1, 1, 1, 1, 1, 1, 1, 1, 1, 1, 1, 1, 1, 1, 1, 1, 1, 1, 1, 1, 1, 1, 1, 1, 1, 1, 1, 1, 1, 1, 1, 1, 1, 1, 1, 1, 1, 1, 1, 1, 1, 1, 1, 1, 1, 1, 1, 1, 1, 1, 1, 1, 1, 1, 1, 1, 1, 1, 1, 1, 1, 1, 1, 1, 1, 1, 1, 1, 1, 1, 1, 1, 1, 1, 1, 1, 1, 1, 1, 1, 1, 1, 1, 1]}\n",
      "---------------------------------------------------------\n",
      "{'input_ids': [15028, 2661, 1006, 1017, 1030, 1012, 1030, 28015, 2463, 1007, 2146, 1010, 3079, 2011, 2897, 4334, 2006, 1037, 2799, 2747, 3498, 3701, 2011, 2642, 4334, 1012, 2009, 2001, 3833, 2076, 9512, 1516, 9037, 2006, 1996, 5292, 18933, 5867, 2240, 1010, 4755, 3541, 1998, 14334, 5467, 2090, 7570, 2869, 15628, 1998, 2396, 12053, 2669, 1999, 2225, 7018, 1010, 2563, 1012, 2009, 2003, 3862, 2005, 2049, 3091, 1010, 2005, 2049, 13675, 8625, 4571, 3064, 2167, 9445, 1010, 2029, 2003, 3694, 2462, 3205, 1010, 1998, 2005, 1996, 6677, 1997, 2484, 2273, 2076, 2049, 2810, 1010, 19131, 1999, 27178, 3051, 19812, 2007, 1037, 14542, 4571, 3064, 15059, 1997, 1996, 2167, 9445, 1012, 102, 101, 2009, 2001, 3833, 2011, 2726, 8982, 4590, 1010, 3992, 1998, 2508, 19743, 1010, 17467, 2099, 1010, 2040, 2275, 2039, 2048, 29426, 7626, 1998, 2059, 3174, 20542, 2247, 1996, 2240, 1997, 1996, 5234, 1012, 2273, 8655, 23190, 2013, 2122, 20542, 2127, 1996, 10443, 2015, 2587, 2039, 1999, 7993, 1012, 5190, 1997, 6583, 2615, 25929, 2973, 7246, 1999, 2119, 3111, 2007, 2037, 2945, 1010, 1998, 8655, 1999, 4795, 1998, 4954, 3785, 2000, 10956, 1996, 2882, 3098, 1999, 9037, 1012, 102, 101, 102, 101, 1027, 1027, 2381, 1027, 1027, 102, 101, 102, 101, 1996, 5234, 2001, 2034, 3818, 1999, 10075, 2007, 2019, 10197, 1997, 1069, 5385, 1030, 1010, 1030, 2199, 4844, 1999, 9512, 1010, 2295, 1996, 2345, 3465, 2011, 9037, 2001, 1069, 1016, 1030, 1010, 1030, 5018, 1030, 1010, 1030, 22997, 1998, 1996, 3268, 1997, 2484, 2273, 1012, 2726, 8982, 4590, 2001, 1996, 3992, 1998, 2508, 19743, 2001, 1996, 11016, 17467, 2099, 1999, 9512, 2005, 1996, 2810, 1997, 1996, 7570, 2869, 15628, 1516, 2396, 12053, 2669, 5234, 2104, 20839, 26441, 1998, 1996, 5526, 2090, 4836, 9453, 1998, 16435, 11960, 2571, 1012, 19743, 2001, 1037, 7873, 3707, 1998, 8782, 3910, 1010, 1998, 3130, 3833, 1996, 22794, 19250, 2100, 5234, 1010, 9999, 1012, 102, 101, 2048, 29426, 7626, 2020, 2328, 2005, 1996, 6145, 2000, 2562, 1996, 2240, 2995, 1010, 2059, 2013, 2322, 2255, 9512, 3174, 20542, 2020, 10417, 2000, 9585, 3229, 2005, 5234, 2989, 1012, 5234, 2989, 2318, 2044, 1996, 3192, 2962, 2001, 4201, 2012, 1996, 3953, 1997, 2053, 1012, 1015, 14369, 3270, 6199, 1999, 2251, 9244, 1012, 1996, 3584, 10443, 2015, 2034, 2587, 2039, 2046, 2028, 2146, 5234, 2006, 2676, 2281, 7993, 1010, 1998, 2009, 2001, 2949, 1999, 2621, 9037, 1012, 102, 101, 1996, 2670, 4211, 2030, 9445, 2003, 2788, 2649, 2004, 5810, 1010, 2021, 2003, 12749, 2011, 2070, 1012, 1996, 2167, 9445, 2003, 14542, 4571, 3064, 1010, 1998, 2044, 2009, 2001, 2736, 2001, 2973, 1999, 2005, 1037, 2096, 2011, 2737, 3667, 1012, 1996, 2167, 9445, 2001, 3205, 3694, 2462, 1999, 2997, 1012, 1996, 2736, 5234, 2003, 1016, 2661, 1010, 22884, 21076, 2030, 1016, 1030, 1012, 1030, 15028, 2661, 1006, 1017, 1030, 1012, 1030, 28015, 2463, 1007, 2146, 1025, 2423, 1030, 1012, 1030, 1019, 2519, 1006, 1021, 1030, 1012, 1030, 1022, 1049, 1007, 2898, 2011, 2423, 2519, 1006, 1021, 1030, 1012, 1030, 1020, 1049, 1007, 2152, 1012, 2009, 2003, 1037, 3313, 2650, 5234, 1010, 2007, 1037, 17978, 1997, 1015, 1999, 6365, 1006, 1014, 1030, 1012, 1030], 'token_type_ids': [0, 0, 0, 0, 0, 0, 0, 0, 0, 0, 0, 0, 0, 0, 0, 0, 0, 0, 0, 0, 0, 0, 0, 0, 0, 0, 0, 0, 0, 0, 0, 0, 0, 0, 0, 0, 0, 0, 0, 0, 0, 0, 0, 0, 0, 0, 0, 0, 0, 0, 0, 0, 0, 0, 0, 0, 0, 0, 0, 0, 0, 0, 0, 0, 0, 0, 0, 0, 0, 0, 0, 0, 0, 0, 0, 0, 0, 0, 0, 0, 0, 0, 0, 0, 0, 0, 0, 0, 0, 0, 0, 0, 0, 0, 0, 0, 0, 0, 0, 0, 0, 0, 0, 0, 0, 0, 0, 0, 0, 0, 0, 0, 0, 0, 0, 0, 0, 0, 0, 0, 0, 0, 0, 0, 0, 0, 0, 0, 0, 0, 0, 0, 0, 0, 0, 0, 0, 0, 0, 0, 0, 0, 0, 0, 0, 0, 0, 0, 0, 0, 0, 0, 0, 0, 0, 0, 0, 0, 0, 0, 0, 0, 0, 0, 0, 0, 0, 0, 0, 0, 0, 0, 0, 0, 0, 0, 0, 0, 0, 0, 0, 0, 0, 0, 0, 0, 0, 0, 0, 0, 0, 0, 0, 0, 0, 0, 0, 0, 0, 0, 0, 0, 0, 0, 0, 0, 0, 0, 0, 0, 0, 0, 0, 0, 0, 0, 0, 0, 0, 0, 0, 0, 0, 0, 0, 0, 0, 0, 0, 0, 0, 0, 0, 0, 0, 0, 0, 0, 0, 0, 0, 0, 0, 0, 0, 0, 0, 0, 0, 0, 0, 0, 0, 0, 0, 0, 0, 0, 0, 0, 0, 0, 0, 0, 0, 0, 0, 0, 0, 0, 0, 0, 0, 0, 0, 0, 0, 0, 0, 0, 0, 0, 0, 0, 0, 0, 0, 0, 0, 0, 0, 0, 0, 0, 0, 0, 0, 0, 0, 0, 0, 0, 0, 0, 0, 0, 0, 0, 0, 0, 0, 0, 0, 0, 0, 0, 0, 0, 0, 0, 0, 0, 0, 0, 0, 0, 0, 0, 0, 0, 0, 0, 0, 0, 0, 0, 0, 0, 0, 0, 0, 0, 0, 0, 0, 0, 0, 0, 0, 0, 0, 0, 0, 0, 0, 0, 0, 0, 0, 0, 0, 0, 0, 0, 0, 0, 0, 0, 0, 0, 0, 0, 0, 0, 0, 0, 0, 0, 0, 0, 0, 0, 0, 0, 0, 0, 0, 0, 0, 0, 0, 0, 0, 0, 0, 0, 0, 0, 0, 0, 0, 0, 0, 0, 0, 0, 0, 0, 0, 0, 0, 0, 0, 0, 0, 0, 0, 0, 0, 0, 0, 0, 0, 0, 0, 0, 0, 0, 0, 0, 0, 0, 0, 0, 0, 0, 0, 0, 0, 0, 0, 0, 0, 0, 0, 0, 0, 0, 0, 0, 0, 0, 0, 0, 0, 0, 0, 0, 0, 0, 0, 0, 0, 0, 0, 0, 0, 0, 0, 0, 0, 0, 0, 0, 0, 0, 0, 0, 0, 0, 0, 0, 0, 0, 0, 0, 0, 0, 0, 0, 0, 0, 0, 0, 0, 0, 0, 0, 0, 0, 0, 0, 0, 0, 0, 0, 0, 0, 0, 0, 0, 0], 'attention_mask': [1, 1, 1, 1, 1, 1, 1, 1, 1, 1, 1, 1, 1, 1, 1, 1, 1, 1, 1, 1, 1, 1, 1, 1, 1, 1, 1, 1, 1, 1, 1, 1, 1, 1, 1, 1, 1, 1, 1, 1, 1, 1, 1, 1, 1, 1, 1, 1, 1, 1, 1, 1, 1, 1, 1, 1, 1, 1, 1, 1, 1, 1, 1, 1, 1, 1, 1, 1, 1, 1, 1, 1, 1, 1, 1, 1, 1, 1, 1, 1, 1, 1, 1, 1, 1, 1, 1, 1, 1, 1, 1, 1, 1, 1, 1, 1, 1, 1, 1, 1, 1, 1, 1, 1, 1, 1, 1, 1, 1, 1, 1, 1, 1, 1, 1, 1, 1, 1, 1, 1, 1, 1, 1, 1, 1, 1, 1, 1, 1, 1, 1, 1, 1, 1, 1, 1, 1, 1, 1, 1, 1, 1, 1, 1, 1, 1, 1, 1, 1, 1, 1, 1, 1, 1, 1, 1, 1, 1, 1, 1, 1, 1, 1, 1, 1, 1, 1, 1, 1, 1, 1, 1, 1, 1, 1, 1, 1, 1, 1, 1, 1, 1, 1, 1, 1, 1, 1, 1, 1, 1, 1, 1, 1, 1, 1, 1, 1, 1, 1, 1, 1, 1, 1, 1, 1, 1, 1, 1, 1, 1, 1, 1, 1, 1, 1, 1, 1, 1, 1, 1, 1, 1, 1, 1, 1, 1, 1, 1, 1, 1, 1, 1, 1, 1, 1, 1, 1, 1, 1, 1, 1, 1, 1, 1, 1, 1, 1, 1, 1, 1, 1, 1, 1, 1, 1, 1, 1, 1, 1, 1, 1, 1, 1, 1, 1, 1, 1, 1, 1, 1, 1, 1, 1, 1, 1, 1, 1, 1, 1, 1, 1, 1, 1, 1, 1, 1, 1, 1, 1, 1, 1, 1, 1, 1, 1, 1, 1, 1, 1, 1, 1, 1, 1, 1, 1, 1, 1, 1, 1, 1, 1, 1, 1, 1, 1, 1, 1, 1, 1, 1, 1, 1, 1, 1, 1, 1, 1, 1, 1, 1, 1, 1, 1, 1, 1, 1, 1, 1, 1, 1, 1, 1, 1, 1, 1, 1, 1, 1, 1, 1, 1, 1, 1, 1, 1, 1, 1, 1, 1, 1, 1, 1, 1, 1, 1, 1, 1, 1, 1, 1, 1, 1, 1, 1, 1, 1, 1, 1, 1, 1, 1, 1, 1, 1, 1, 1, 1, 1, 1, 1, 1, 1, 1, 1, 1, 1, 1, 1, 1, 1, 1, 1, 1, 1, 1, 1, 1, 1, 1, 1, 1, 1, 1, 1, 1, 1, 1, 1, 1, 1, 1, 1, 1, 1, 1, 1, 1, 1, 1, 1, 1, 1, 1, 1, 1, 1, 1, 1, 1, 1, 1, 1, 1, 1, 1, 1, 1, 1, 1, 1, 1, 1, 1, 1, 1, 1, 1, 1, 1, 1, 1, 1, 1, 1, 1, 1, 1, 1, 1, 1, 1, 1, 1, 1, 1, 1, 1, 1, 1, 1, 1, 1, 1, 1, 1, 1, 1, 1, 1, 1, 1, 1, 1, 1, 1, 1, 1, 1, 1, 1, 1, 1, 1, 1, 1, 1, 1, 1, 1, 1, 1, 1]}\n",
      "---------------------------------------------------------\n",
      "{'input_ids': [2013, 12169, 2000, 12529, 1012, 1999, 12529, 1010, 1996, 2160, 15268, 1037, 5813, 16021, 26310, 3099, 6127, 14574, 2000, 13676, 2007, 1996, 11141, 1997, 5242, 1998, 4058, 2000, 5851, 6019, 1997, 6094, 9034, 4480, 1997, 2216, 2163, 2000, 2709, 21329, 7179, 1012, 4387, 2508, 1043, 1012, 12170, 27114, 22400, 4941, 1996, 5813, 1010, 1998, 2009, 2001, 3249, 1012, 1996, 4013, 1030, 1011, 1030, 8864, 2372, 1997, 1996, 2160, 2059, 24356, 2369, 14596, 1005, 1055, 4105, 2000, 3413, 1037, 7681, 5813, 2029, 16573, 1996, 2087, 22224, 3085, 2653, 2021, 6025, 1996, 2655, 2005, 21329, 6658, 6094, 1999, 5242, 1998, 4058, 1012, 102, 101, 102, 101, 1027, 1027, 4884, 9455, 1998, 2326, 2006, 1996, 2457, 1997, 9023, 1027, 1027, 102, 101, 102, 101, 14596, 2411, 2179, 2370, 1999, 5157, 2004, 2019, 2030, 8844, 1998, 3677, 1012, 1999, 2337, 12094, 1010, 2002, 2001, 4217, 2000, 7327, 21197, 4697, 2010, 2485, 2767, 1010, 2577, 7369, 5215, 1012, 1999, 2238, 12552, 1010, 1996, 4480, 1997, 11577, 4900, 2032, 2004, 2037, 2880, 3677, 2005, 1037, 5873, 2283, 2008, 2443, 2508, 9747, 1998, 4080, 4027, 1012, 1999, 2089, 11384, 1010, 2002, 2001, 2028, 1997, 7093, 2273, 4217, 2011, 1996, 4480, 1997, 11577, 2000, 10939, 1037, 7684, 2005, 1037, 3942, 2011, 1996, 13410, 2139, 14425, 1012, 102, 101, 14596, 2001, 2805, 2004, 1037, 3648, 1997, 1996, 5612, 2457, 1997, 9023, 1999, 12552, 1012, 2076, 2010, 2051, 2004, 1037, 3425, 1010, 2002, 5359, 1037, 3862, 5448, 10078, 1996, 6543, 3012, 1997, 6111, 2075, 1997, 1996, 2117, 2924, 1997, 1996, 2142, 2163, 1012, 2002, 2036, 26084, 2008, 1996, 2236, 3320, 2001, 2306, 2049, 27167, 4204, 2000, 4372, 18908, 1037, 4171, 2006, 1996, 2924, 1012, 1999, 1996, 2553, 1997, 23680, 18083, 11663, 1058, 1012, 5374, 1010, 1996, 1057, 1012, 1055, 1012, 4259, 2457, 5359, 1037, 27894, 5448, 1012, 25956, 2007, 1996, 21551, 1997, 2326, 2006, 1996, 6847, 1010, 14596, 5295, 2013, 1996, 2457, 1999, 11723, 1012, 2295, 2010, 2326, 2001, 4766, 1010, 2002, 2001, 3615, 2000, 2004, 1000, 3648, 14596, 1000, 2005, 1996, 2717, 1997, 2010, 2166, 1012, 102, 101, 2096, 14596, 2001, 2145, 1037, 3425, 1997, 1996, 2457, 1997, 9023, 1010, 1996, 2236, 3320, 4900, 2032, 1998, 2198, 1046, 1012, 13675, 27100, 25915, 2004, 12396, 2000, 10663, 1037, 3675, 7593, 2007, 5298, 1012, 1996, 7593, 2018, 13368, 2078, 2013, 2019, 9413, 20793, 3560, 5002, 1997, 1996, 3675, 2240, 4146, 2011, 2852, 1012, 2726, 5232, 2086, 3041, 1012, 5232, 1005, 1055, 2240, 14386, 4383, 17192, 2013, 1996, 3832, 2240, 1006, 4029, 5445, 1010, 2382, 2781, 2167, 15250, 1007, 2011, 2070, 4376, 2661, 2011, 1996, 2051, 2009, 2584, 1996, 5298, 2314, 1012, 1996, 5298, 12396, 1010, 8383, 24665, 8630, 2100, 1998, 2520, 1048, 1012, 2829, 1010, 3818, 2008, 1010, 2138, 2009, 2018, 2042, 3970, 2005, 2061, 2146, 1010, 1996, 5232, 2240, 2022, 5159, 2004, 2521, 2225, 2004, 1996, 5298, 2314, 1010, 2007, 5612, 2108, 29258, 2007, 1037, 2062, 2148, 12561, 2240, 2090, 1996, 5298, 1998, 5900, 5485, 1012, 13675, 27100, 25915, 2001, 13050, 2000, 5138, 2023, 6378, 2007, 2070, 3576, 24081, 1010, 2021, 14596, 7278, 2008, 5298, 3932, 1996, 15201, 3675, 1997, 4029, 5445], 'token_type_ids': [0, 0, 0, 0, 0, 0, 0, 0, 0, 0, 0, 0, 0, 0, 0, 0, 0, 0, 0, 0, 0, 0, 0, 0, 0, 0, 0, 0, 0, 0, 0, 0, 0, 0, 0, 0, 0, 0, 0, 0, 0, 0, 0, 0, 0, 0, 0, 0, 0, 0, 0, 0, 0, 0, 0, 0, 0, 0, 0, 0, 0, 0, 0, 0, 0, 0, 0, 0, 0, 0, 0, 0, 0, 0, 0, 0, 0, 0, 0, 0, 0, 0, 0, 0, 0, 0, 0, 0, 0, 0, 0, 0, 0, 0, 0, 0, 0, 0, 0, 0, 0, 0, 0, 0, 0, 0, 0, 0, 0, 0, 0, 0, 0, 0, 0, 0, 0, 0, 0, 0, 0, 0, 0, 0, 0, 0, 0, 0, 0, 0, 0, 0, 0, 0, 0, 0, 0, 0, 0, 0, 0, 0, 0, 0, 0, 0, 0, 0, 0, 0, 0, 0, 0, 0, 0, 0, 0, 0, 0, 0, 0, 0, 0, 0, 0, 0, 0, 0, 0, 0, 0, 0, 0, 0, 0, 0, 0, 0, 0, 0, 0, 0, 0, 0, 0, 0, 0, 0, 0, 0, 0, 0, 0, 0, 0, 0, 0, 0, 0, 0, 0, 0, 0, 0, 0, 0, 0, 0, 0, 0, 0, 0, 0, 0, 0, 0, 0, 0, 0, 0, 0, 0, 0, 0, 0, 0, 0, 0, 0, 0, 0, 0, 0, 0, 0, 0, 0, 0, 0, 0, 0, 0, 0, 0, 0, 0, 0, 0, 0, 0, 0, 0, 0, 0, 0, 0, 0, 0, 0, 0, 0, 0, 0, 0, 0, 0, 0, 0, 0, 0, 0, 0, 0, 0, 0, 0, 0, 0, 0, 0, 0, 0, 0, 0, 0, 0, 0, 0, 0, 0, 0, 0, 0, 0, 0, 0, 0, 0, 0, 0, 0, 0, 0, 0, 0, 0, 0, 0, 0, 0, 0, 0, 0, 0, 0, 0, 0, 0, 0, 0, 0, 0, 0, 0, 0, 0, 0, 0, 0, 0, 0, 0, 0, 0, 0, 0, 0, 0, 0, 0, 0, 0, 0, 0, 0, 0, 0, 0, 0, 0, 0, 0, 0, 0, 0, 0, 0, 0, 0, 0, 0, 0, 0, 0, 0, 0, 0, 0, 0, 0, 0, 0, 0, 0, 0, 0, 0, 0, 0, 0, 0, 0, 0, 0, 0, 0, 0, 0, 0, 0, 0, 0, 0, 0, 0, 0, 0, 0, 0, 0, 0, 0, 0, 0, 0, 0, 0, 0, 0, 0, 0, 0, 0, 0, 0, 0, 0, 0, 0, 0, 0, 0, 0, 0, 0, 0, 0, 0, 0, 0, 0, 0, 0, 0, 0, 0, 0, 0, 0, 0, 0, 0, 0, 0, 0, 0, 0, 0, 0, 0, 0, 0, 0, 0, 0, 0, 0, 0, 0, 0, 0, 0, 0, 0, 0, 0, 0, 0, 0, 0, 0, 0, 0, 0, 0, 0, 0, 0, 0, 0, 0, 0, 0, 0, 0, 0, 0, 0, 0, 0, 0, 0, 0, 0, 0, 0, 0, 0, 0, 0, 0, 0, 0, 0, 0, 0, 0, 0, 0, 0, 0, 0], 'attention_mask': [1, 1, 1, 1, 1, 1, 1, 1, 1, 1, 1, 1, 1, 1, 1, 1, 1, 1, 1, 1, 1, 1, 1, 1, 1, 1, 1, 1, 1, 1, 1, 1, 1, 1, 1, 1, 1, 1, 1, 1, 1, 1, 1, 1, 1, 1, 1, 1, 1, 1, 1, 1, 1, 1, 1, 1, 1, 1, 1, 1, 1, 1, 1, 1, 1, 1, 1, 1, 1, 1, 1, 1, 1, 1, 1, 1, 1, 1, 1, 1, 1, 1, 1, 1, 1, 1, 1, 1, 1, 1, 1, 1, 1, 1, 1, 1, 1, 1, 1, 1, 1, 1, 1, 1, 1, 1, 1, 1, 1, 1, 1, 1, 1, 1, 1, 1, 1, 1, 1, 1, 1, 1, 1, 1, 1, 1, 1, 1, 1, 1, 1, 1, 1, 1, 1, 1, 1, 1, 1, 1, 1, 1, 1, 1, 1, 1, 1, 1, 1, 1, 1, 1, 1, 1, 1, 1, 1, 1, 1, 1, 1, 1, 1, 1, 1, 1, 1, 1, 1, 1, 1, 1, 1, 1, 1, 1, 1, 1, 1, 1, 1, 1, 1, 1, 1, 1, 1, 1, 1, 1, 1, 1, 1, 1, 1, 1, 1, 1, 1, 1, 1, 1, 1, 1, 1, 1, 1, 1, 1, 1, 1, 1, 1, 1, 1, 1, 1, 1, 1, 1, 1, 1, 1, 1, 1, 1, 1, 1, 1, 1, 1, 1, 1, 1, 1, 1, 1, 1, 1, 1, 1, 1, 1, 1, 1, 1, 1, 1, 1, 1, 1, 1, 1, 1, 1, 1, 1, 1, 1, 1, 1, 1, 1, 1, 1, 1, 1, 1, 1, 1, 1, 1, 1, 1, 1, 1, 1, 1, 1, 1, 1, 1, 1, 1, 1, 1, 1, 1, 1, 1, 1, 1, 1, 1, 1, 1, 1, 1, 1, 1, 1, 1, 1, 1, 1, 1, 1, 1, 1, 1, 1, 1, 1, 1, 1, 1, 1, 1, 1, 1, 1, 1, 1, 1, 1, 1, 1, 1, 1, 1, 1, 1, 1, 1, 1, 1, 1, 1, 1, 1, 1, 1, 1, 1, 1, 1, 1, 1, 1, 1, 1, 1, 1, 1, 1, 1, 1, 1, 1, 1, 1, 1, 1, 1, 1, 1, 1, 1, 1, 1, 1, 1, 1, 1, 1, 1, 1, 1, 1, 1, 1, 1, 1, 1, 1, 1, 1, 1, 1, 1, 1, 1, 1, 1, 1, 1, 1, 1, 1, 1, 1, 1, 1, 1, 1, 1, 1, 1, 1, 1, 1, 1, 1, 1, 1, 1, 1, 1, 1, 1, 1, 1, 1, 1, 1, 1, 1, 1, 1, 1, 1, 1, 1, 1, 1, 1, 1, 1, 1, 1, 1, 1, 1, 1, 1, 1, 1, 1, 1, 1, 1, 1, 1, 1, 1, 1, 1, 1, 1, 1, 1, 1, 1, 1, 1, 1, 1, 1, 1, 1, 1, 1, 1, 1, 1, 1, 1, 1, 1, 1, 1, 1, 1, 1, 1, 1, 1, 1, 1, 1, 1, 1, 1, 1, 1, 1, 1, 1, 1, 1, 1, 1, 1, 1, 1, 1, 1, 1, 1, 1, 1, 1]}\n",
      "---------------------------------------------------------\n",
      "{'input_ids': [27559, 3496, 2073, 11525, 2515, 2010, 6248, 2277, 3153, 2006, 2019, 9216, 1012, 1996, 3496, 2001, 2128, 7088, 8585, 2094, 2061, 2008, 11525, 2001, 5613, 6248, 1999, 1996, 2392, 5216, 1012, 102, 101, 2023, 2792, 2001, 1996, 2069, 3392, 4580, 1997, 5469, 2792, 2008, 2001, 2856, 2011, 2928, 11332, 3122, 1012, 2009, 2001, 2036, 1996, 2197, 2792, 8226, 4743, 2499, 2006, 1025, 2002, 2187, 1996, 2265, 2000, 3622, 1996, 3707, 5016, 1012, 1000, 3733, 1030, 1011, 1030, 8670, 3489, 25248, 1000, 2001, 2466, 6277, 2098, 2011, 11332, 3122, 1998, 1996, 15406, 2020, 2881, 2011, 9993, 18463, 1012, 2348, 16073, 1998, 12849, 12269, 2191, 4766, 3922, 1999, 2296, 3392, 4580, 1997, 5469, 2792, 1010, 2037, 4766, 3311, 1999, 2023, 2028, 2001, 3053, 3013, 1012, 2585, 1060, 1012, 9946, 3266, 2000, 13984, 1996, 6443, 2000, 2681, 1996, 3496, 1999, 1012, 102, 101, 102, 101, 1027, 1027, 3451, 7604, 1027, 1027, 102, 101, 102, 101, 2004, 2007, 1996, 3484, 1997, 1996, 3392, 4580, 1997, 5469, 4178, 1010, 3365, 3451, 7604, 2024, 2081, 2802, 1996, 2792, 1012, 1000, 1996, 1044, 29739, 4168, 3654, 2158, 1000, 2003, 2019, 3668, 14822, 2000, 2143, 1996, 14827, 2158, 1010, 2029, 2001, 2028, 1997, 3505, 25686, 1005, 1055, 5440, 5691, 2004, 1037, 2775, 1012, 1999, 1996, 2168, 6903, 1010, 11525, 3216, 2058, 5206, 1998, 9586, 3467, 2096, 14070, 1996, 23892, 11828, 2032, 1010, 11094, 15495, 2068, 2004, 23892, 2004, 1996, 3467, 3428, 2024, 2119, 2632, 21891, 1012, 102, 101, 1996, 2516, 1000, 4875, 5443, 1012, 4875, 1000, 2003, 1037, 4431, 2000, 1996, 5506, 2932, 5021, 6167, 1000, 8645, 5443, 1012, 8645, 1000, 1010, 2096, 1996, 6903, 2993, 2003, 2241, 2006, 1996, 2143, 1996, 4875, 1012, 1999, 1000, 3733, 1030, 1011, 1030, 8670, 3489, 25248, 1000, 1010, 1996, 25132, 2015, 14964, 1996, 2143, 1996, 13675, 21104, 2005, 2116, 1997, 2037, 5617, 1010, 1998, 21051, 1047, 2527, 3676, 27877, 2003, 4147, 1037, 11862, 1037, 1010, 2029, 2003, 1037, 4431, 2000, 1996, 3117, 1996, 11862, 3661, 1012, 102, 101, 102, 101, 1027, 1027, 7684, 1027, 1027, 102, 101, 102, 101, 1999, 2049, 2434, 3743, 1010, 1000, 3392, 4580, 1997, 5469, 9937, 1000, 2736, 4985, 1999, 8599, 2005, 1996, 2733, 1997, 2255, 2322, 1516, 2656, 1010, 2722, 1010, 2007, 1037, 13188, 5790, 1997, 2340, 1030, 1012, 1030, 1016, 1010, 5662, 2000, 3155, 2184, 1030, 1012, 1030, 1023, 2454, 10523, 3911, 1012, 2009, 2001, 1996, 3284, 1030, 1011, 1030, 6758, 2265, 2006, 1996, 4419, 2897, 2008, 2733, 1010, 6012, 2332, 1997, 1996, 2940, 1012, 102, 101, 1000, 3392, 4580, 1997, 5469, 9937, 1000, 2180, 1037, 3585, 15934, 2400, 1999, 2687, 2005, 1000, 2190, 2614, 9260, 1011, 2547, 6579, 19247, 1000, 2005, 2728, 11349, 7106, 1010, 10001, 4204, 1010, 13373, 23075, 1998, 6609, 11006, 1012, 24493, 11075, 2078, 2363, 2019, 10096, 2400, 6488, 2005, 1000, 5151, 2189, 5512, 2005, 1037, 2186, 1006, 6918, 2104, 9363, 2890, 1007, 1000, 2005, 2023, 2792, 1010, 2029, 2002, 4821, 2439, 1012, 1996, 1037, 1012, 1058, 1012, 2252, 2315, 5021, 2338, 3124, 1005, 1055, 2240, 1000, 2821, 1010, 1045, 1005, 2310, 13842, 2026, 2166, 1000, 2004, 2028, 1997, 1996, 16614, 2013, 1996], 'token_type_ids': [0, 0, 0, 0, 0, 0, 0, 0, 0, 0, 0, 0, 0, 0, 0, 0, 0, 0, 0, 0, 0, 0, 0, 0, 0, 0, 0, 0, 0, 0, 0, 0, 0, 0, 0, 0, 0, 0, 0, 0, 0, 0, 0, 0, 0, 0, 0, 0, 0, 0, 0, 0, 0, 0, 0, 0, 0, 0, 0, 0, 0, 0, 0, 0, 0, 0, 0, 0, 0, 0, 0, 0, 0, 0, 0, 0, 0, 0, 0, 0, 0, 0, 0, 0, 0, 0, 0, 0, 0, 0, 0, 0, 0, 0, 0, 0, 0, 0, 0, 0, 0, 0, 0, 0, 0, 0, 0, 0, 0, 0, 0, 0, 0, 0, 0, 0, 0, 0, 0, 0, 0, 0, 0, 0, 0, 0, 0, 0, 0, 0, 0, 0, 0, 0, 0, 0, 0, 0, 0, 0, 0, 0, 0, 0, 0, 0, 0, 0, 0, 0, 0, 0, 0, 0, 0, 0, 0, 0, 0, 0, 0, 0, 0, 0, 0, 0, 0, 0, 0, 0, 0, 0, 0, 0, 0, 0, 0, 0, 0, 0, 0, 0, 0, 0, 0, 0, 0, 0, 0, 0, 0, 0, 0, 0, 0, 0, 0, 0, 0, 0, 0, 0, 0, 0, 0, 0, 0, 0, 0, 0, 0, 0, 0, 0, 0, 0, 0, 0, 0, 0, 0, 0, 0, 0, 0, 0, 0, 0, 0, 0, 0, 0, 0, 0, 0, 0, 0, 0, 0, 0, 0, 0, 0, 0, 0, 0, 0, 0, 0, 0, 0, 0, 0, 0, 0, 0, 0, 0, 0, 0, 0, 0, 0, 0, 0, 0, 0, 0, 0, 0, 0, 0, 0, 0, 0, 0, 0, 0, 0, 0, 0, 0, 0, 0, 0, 0, 0, 0, 0, 0, 0, 0, 0, 0, 0, 0, 0, 0, 0, 0, 0, 0, 0, 0, 0, 0, 0, 0, 0, 0, 0, 0, 0, 0, 0, 0, 0, 0, 0, 0, 0, 0, 0, 0, 0, 0, 0, 0, 0, 0, 0, 0, 0, 0, 0, 0, 0, 0, 0, 0, 0, 0, 0, 0, 0, 0, 0, 0, 0, 0, 0, 0, 0, 0, 0, 0, 0, 0, 0, 0, 0, 0, 0, 0, 0, 0, 0, 0, 0, 0, 0, 0, 0, 0, 0, 0, 0, 0, 0, 0, 0, 0, 0, 0, 0, 0, 0, 0, 0, 0, 0, 0, 0, 0, 0, 0, 0, 0, 0, 0, 0, 0, 0, 0, 0, 0, 0, 0, 0, 0, 0, 0, 0, 0, 0, 0, 0, 0, 0, 0, 0, 0, 0, 0, 0, 0, 0, 0, 0, 0, 0, 0, 0, 0, 0, 0, 0, 0, 0, 0, 0, 0, 0, 0, 0, 0, 0, 0, 0, 0, 0, 0, 0, 0, 0, 0, 0, 0, 0, 0, 0, 0, 0, 0, 0, 0, 0, 0, 0, 0, 0, 0, 0, 0, 0, 0, 0, 0, 0, 0, 0, 0, 0, 0, 0, 0, 0, 0, 0, 0, 0, 0, 0, 0, 0, 0, 0, 0, 0, 0, 0, 0, 0, 0, 0, 0, 0, 0, 0, 0, 0, 0], 'attention_mask': [1, 1, 1, 1, 1, 1, 1, 1, 1, 1, 1, 1, 1, 1, 1, 1, 1, 1, 1, 1, 1, 1, 1, 1, 1, 1, 1, 1, 1, 1, 1, 1, 1, 1, 1, 1, 1, 1, 1, 1, 1, 1, 1, 1, 1, 1, 1, 1, 1, 1, 1, 1, 1, 1, 1, 1, 1, 1, 1, 1, 1, 1, 1, 1, 1, 1, 1, 1, 1, 1, 1, 1, 1, 1, 1, 1, 1, 1, 1, 1, 1, 1, 1, 1, 1, 1, 1, 1, 1, 1, 1, 1, 1, 1, 1, 1, 1, 1, 1, 1, 1, 1, 1, 1, 1, 1, 1, 1, 1, 1, 1, 1, 1, 1, 1, 1, 1, 1, 1, 1, 1, 1, 1, 1, 1, 1, 1, 1, 1, 1, 1, 1, 1, 1, 1, 1, 1, 1, 1, 1, 1, 1, 1, 1, 1, 1, 1, 1, 1, 1, 1, 1, 1, 1, 1, 1, 1, 1, 1, 1, 1, 1, 1, 1, 1, 1, 1, 1, 1, 1, 1, 1, 1, 1, 1, 1, 1, 1, 1, 1, 1, 1, 1, 1, 1, 1, 1, 1, 1, 1, 1, 1, 1, 1, 1, 1, 1, 1, 1, 1, 1, 1, 1, 1, 1, 1, 1, 1, 1, 1, 1, 1, 1, 1, 1, 1, 1, 1, 1, 1, 1, 1, 1, 1, 1, 1, 1, 1, 1, 1, 1, 1, 1, 1, 1, 1, 1, 1, 1, 1, 1, 1, 1, 1, 1, 1, 1, 1, 1, 1, 1, 1, 1, 1, 1, 1, 1, 1, 1, 1, 1, 1, 1, 1, 1, 1, 1, 1, 1, 1, 1, 1, 1, 1, 1, 1, 1, 1, 1, 1, 1, 1, 1, 1, 1, 1, 1, 1, 1, 1, 1, 1, 1, 1, 1, 1, 1, 1, 1, 1, 1, 1, 1, 1, 1, 1, 1, 1, 1, 1, 1, 1, 1, 1, 1, 1, 1, 1, 1, 1, 1, 1, 1, 1, 1, 1, 1, 1, 1, 1, 1, 1, 1, 1, 1, 1, 1, 1, 1, 1, 1, 1, 1, 1, 1, 1, 1, 1, 1, 1, 1, 1, 1, 1, 1, 1, 1, 1, 1, 1, 1, 1, 1, 1, 1, 1, 1, 1, 1, 1, 1, 1, 1, 1, 1, 1, 1, 1, 1, 1, 1, 1, 1, 1, 1, 1, 1, 1, 1, 1, 1, 1, 1, 1, 1, 1, 1, 1, 1, 1, 1, 1, 1, 1, 1, 1, 1, 1, 1, 1, 1, 1, 1, 1, 1, 1, 1, 1, 1, 1, 1, 1, 1, 1, 1, 1, 1, 1, 1, 1, 1, 1, 1, 1, 1, 1, 1, 1, 1, 1, 1, 1, 1, 1, 1, 1, 1, 1, 1, 1, 1, 1, 1, 1, 1, 1, 1, 1, 1, 1, 1, 1, 1, 1, 1, 1, 1, 1, 1, 1, 1, 1, 1, 1, 1, 1, 1, 1, 1, 1, 1, 1, 1, 1, 1, 1, 1, 1, 1, 1, 1, 1, 1, 1, 1, 1, 1, 1, 1, 1, 1, 1, 1, 1, 1, 1, 1, 1, 1, 1, 1, 1]}\n",
      "---------------------------------------------------------\n"
     ]
    }
   ],
   "source": [
    "for i in range(10):\n",
    "    # print(tokenizer.decode(tokenized_datasets[i][\"input_ids\"]))\n",
    "    print(tokenized_datasets[i])\n",
    "    print(\"---------------------------------------------------------\")"
   ]
  },
  {
   "cell_type": "code",
   "execution_count": 3,
   "metadata": {},
   "outputs": [],
   "source": [
    "# from datasets import load_dataset, DatasetDict, load_from_disk\n",
    "# from transformers import AutoTokenizer\n",
    "\n",
    "# tokenized_datasets = load_from_disk(\"wikitext-103-raw-train-bert-half-processed\")"
   ]
  },
  {
   "cell_type": "code",
   "execution_count": 10,
   "metadata": {},
   "outputs": [],
   "source": [
    "splits = tokenized_datasets.train_test_split(test_size=0.05, shuffle=True)"
   ]
  },
  {
   "cell_type": "code",
   "execution_count": 11,
   "metadata": {},
   "outputs": [],
   "source": [
    "preprocessed_splits = DatasetDict({\n",
    "    \"train\": splits[\"train\"],\n",
    "    \"validation\": splits[\"test\"],\n",
    "    # \"test\": load_dataset(\"wikitext\", \"wikitext-103-raw-v1\", split=\"test\")\n",
    "})"
   ]
  },
  {
   "cell_type": "code",
   "execution_count": 12,
   "metadata": {},
   "outputs": [
    {
     "data": {
      "application/vnd.jupyter.widget-view+json": {
       "model_id": "6075194887144d79bf80c5fd17a9c496",
       "version_major": 2,
       "version_minor": 0
      },
      "text/plain": [
       "Flattening the indices:   0%|          | 0/217197 [00:00<?, ? examples/s]"
      ]
     },
     "metadata": {},
     "output_type": "display_data"
    },
    {
     "data": {
      "application/vnd.jupyter.widget-view+json": {
       "model_id": "3f760e39bbbf4413ad557351a878abd7",
       "version_major": 2,
       "version_minor": 0
      },
      "text/plain": [
       "Saving the dataset (0/2 shards):   0%|          | 0/217197 [00:00<?, ? examples/s]"
      ]
     },
     "metadata": {},
     "output_type": "display_data"
    },
    {
     "data": {
      "application/vnd.jupyter.widget-view+json": {
       "model_id": "ca5ce08939424c5f9013d35521cbbb48",
       "version_major": 2,
       "version_minor": 0
      },
      "text/plain": [
       "Flattening the indices:   0%|          | 0/11432 [00:00<?, ? examples/s]"
      ]
     },
     "metadata": {},
     "output_type": "display_data"
    },
    {
     "data": {
      "application/vnd.jupyter.widget-view+json": {
       "model_id": "f679cba95c9847cf8f8c7451e8acd0a5",
       "version_major": 2,
       "version_minor": 0
      },
      "text/plain": [
       "Saving the dataset (0/1 shards):   0%|          | 0/11432 [00:00<?, ? examples/s]"
      ]
     },
     "metadata": {},
     "output_type": "display_data"
    }
   ],
   "source": [
    "preprocessed_splits.save_to_disk(\"../wikitext-103-bert-512-without-test\")"
   ]
  },
  {
   "cell_type": "markdown",
   "metadata": {},
   "source": [
    "### Then we can construct our own wikitext test data\n",
    "The biggest difference is that train and evaluate always stay with CrossEntry Loss, and won't care the real text effect, but text should have the overflowing tokens for GPT2\n",
    " "
   ]
  },
  {
   "cell_type": "code",
   "execution_count": null,
   "metadata": {},
   "outputs": [
    {
     "data": {
      "application/vnd.jupyter.widget-view+json": {
       "model_id": "ad7a963c18a247adaac2dfa1532049b0",
       "version_major": 2,
       "version_minor": 0
      },
      "text/plain": [
       "Map (num_proc=4):   0%|          | 0/4358 [00:00<?, ? examples/s]"
      ]
     },
     "metadata": {},
     "output_type": "display_data"
    }
   ],
   "source": [
    "def preprocess_function(example):\n",
    "    return_dic = tokenizer.__call__(example[\"text\"], padding=\"max_length\", truncation=True,   # 在这就不带文本了\n",
    "        max_length=tokenizer.model_max_length, return_overflowing_tokens=True) \n",
    "\n",
    "    # if len(return_dic[\"overflowing_tokens\"]) > 0:\n",
    "    #     return_dic[\"overflow_text\"] = tokenizer.decode(return_dic[\"overflowing_tokens\"])\n",
    "    # else:\n",
    "    #     return_dic[\"overflow_text\"] = \"\"\n",
    "    # return_dic[\"prompt\"] = tokenizer.decode(return_dic[\"input_ids\"])\n",
    "    return return_dic\n",
    "#Apply preprocessing to dataset\n",
    "preprocessed_splits[\"test\"] = preprocessed_splits[\"test\"].map(preprocess_function,batched=True, remove_columns=[\"text\"],num_proc=4)"
   ]
  },
  {
   "cell_type": "code",
   "execution_count": null,
   "metadata": {},
   "outputs": [
    {
     "data": {
      "application/vnd.jupyter.widget-view+json": {
       "model_id": "7f94a8f17ea34099bd01a9c154490e52",
       "version_major": 2,
       "version_minor": 0
      },
      "text/plain": [
       "Filter (num_proc=4):   0%|          | 0/4358 [00:00<?, ? examples/s]"
      ]
     },
     "metadata": {},
     "output_type": "display_data"
    }
   ],
   "source": [
    "\n",
    "def filter_function(example):  \n",
    "    return len(example['overflowing_tokens']) > 20 and len(example['overflowing_tokens']) < 300 \n",
    "\n",
    "preprocessed_splits[\"test\"] = preprocessed_splits[\"test\"].filter(filter_function,num_proc=4)"
   ]
  },
  {
   "cell_type": "code",
   "execution_count": null,
   "metadata": {},
   "outputs": [
    {
     "name": "stdout",
     "output_type": "stream",
     "text": [
      "134\n"
     ]
    }
   ],
   "source": [
    "print(len(preprocessed_splits[\"test\"]))"
   ]
  },
  {
   "cell_type": "code",
   "execution_count": null,
   "metadata": {},
   "outputs": [
    {
     "data": {
      "application/vnd.jupyter.widget-view+json": {
       "model_id": "251c583ad1e644dfa94b201ce1421316",
       "version_major": 2,
       "version_minor": 0
      },
      "text/plain": [
       "Map (num_proc=4):   0%|          | 0/134 [00:00<?, ? examples/s]"
      ]
     },
     "metadata": {},
     "output_type": "display_data"
    }
   ],
   "source": [
    "def preprocess_function_truncate(example, max_over_length=128):\n",
    "    # if isinstance(example[\"overflowing_tokens\"], list):\n",
    "    #     example[\"overflowing_tokens\"] = example[\"overflowing_tokens\"].truncate(max_over_length)\n",
    "    # else:\n",
    "    # print(\"type: \",type(example[\"overflowing_tokens\"]))\n",
    "    def complete_list(lst, length, value=tokenizer.eos_token_id):\n",
    "        l = len(lst)\n",
    "        return lst + [value] * (length - l)\n",
    "    if len(example[\"overflowing_tokens\"]) > max_over_length:\n",
    "        example[\"overflowing_tokens\"] = example[\"overflowing_tokens\"][:max_over_length]\n",
    "    else:\n",
    "        example[\"overflowing_tokens\"] = complete_list(example[\"overflowing_tokens\"], max_over_length)\n",
    "    return example\n",
    "\n",
    "preprocessed_splits[\"test\"] = preprocessed_splits[\"test\"].map(preprocess_function_truncate, batched=False, num_proc=4)"
   ]
  },
  {
   "cell_type": "code",
   "execution_count": null,
   "metadata": {},
   "outputs": [],
   "source": [
    "try:\n",
    "    preprocessed_splits[\"test\"] = preprocessed_splits[\"test\"].remove_columns([\"overflowing_tokens_ids\"])\n",
    "except:\n",
    "    pass\n",
    "try:\n",
    "    preprocessed_splits[\"test\"] = preprocessed_splits[\"test\"].remove_columns([\"num_truncated_tokens\"])\n",
    "except:\n",
    "    pass"
   ]
  },
  {
   "cell_type": "code",
   "execution_count": null,
   "metadata": {},
   "outputs": [
    {
     "data": {
      "application/vnd.jupyter.widget-view+json": {
       "model_id": "e9e62672609b4c368ef269de96eb1dd8",
       "version_major": 2,
       "version_minor": 0
      },
      "text/plain": [
       "Flattening the indices:   0%|          | 0/422993 [00:00<?, ? examples/s]"
      ]
     },
     "metadata": {},
     "output_type": "display_data"
    },
    {
     "data": {
      "application/vnd.jupyter.widget-view+json": {
       "model_id": "4aa4745e4af042b387e4e71101ac720d",
       "version_major": 2,
       "version_minor": 0
      },
      "text/plain": [
       "Saving the dataset (0/2 shards):   0%|          | 0/422993 [00:00<?, ? examples/s]"
      ]
     },
     "metadata": {},
     "output_type": "display_data"
    },
    {
     "data": {
      "application/vnd.jupyter.widget-view+json": {
       "model_id": "9c30dd5b84eb4778ad141dc6d5568c7f",
       "version_major": 2,
       "version_minor": 0
      },
      "text/plain": [
       "Flattening the indices:   0%|          | 0/47000 [00:00<?, ? examples/s]"
      ]
     },
     "metadata": {},
     "output_type": "display_data"
    },
    {
     "data": {
      "application/vnd.jupyter.widget-view+json": {
       "model_id": "762c41b110304da896068e525b5ad6e4",
       "version_major": 2,
       "version_minor": 0
      },
      "text/plain": [
       "Saving the dataset (0/1 shards):   0%|          | 0/47000 [00:00<?, ? examples/s]"
      ]
     },
     "metadata": {},
     "output_type": "display_data"
    },
    {
     "data": {
      "application/vnd.jupyter.widget-view+json": {
       "model_id": "aa3b20f4fe9c479c8cc677b75c294b40",
       "version_major": 2,
       "version_minor": 0
      },
      "text/plain": [
       "Saving the dataset (0/1 shards):   0%|          | 0/134 [00:00<?, ? examples/s]"
      ]
     },
     "metadata": {},
     "output_type": "display_data"
    }
   ],
   "source": [
    "preprocessed_splits.save_to_disk(\"../wikitext-103-preprocessed-ws-notext-gpt2-256-wtest\")"
   ]
  }
 ],
 "metadata": {
  "kernelspec": {
   "display_name": "Python 3.9.15 ('torch')",
   "language": "python",
   "name": "python3"
  },
  "language_info": {
   "codemirror_mode": {
    "name": "ipython",
    "version": 3
   },
   "file_extension": ".py",
   "mimetype": "text/x-python",
   "name": "python",
   "nbconvert_exporter": "python",
   "pygments_lexer": "ipython3",
   "version": "3.9.15"
  },
  "orig_nbformat": 4,
  "vscode": {
   "interpreter": {
    "hash": "e895937462a0f081aaf35a1b00d743630ae75cf7f3d3dbe937ee3f340de9cfa0"
   }
  }
 },
 "nbformat": 4,
 "nbformat_minor": 2
}
