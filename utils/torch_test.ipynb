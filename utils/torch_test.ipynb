{
 "cells": [
  {
   "cell_type": "code",
   "execution_count": 20,
   "metadata": {},
   "outputs": [],
   "source": [
    "import torch\n",
    "logits = torch.tensor([[5,4,3,2,1],[2,4,1,3,5],[1,2,3,4,5]])\n",
    "labels = torch.tensor([4,-100,3])\n",
    "active_loss_position = (labels != -100).nonzero().squeeze()\n",
    "active_loss_position = (labels != -100)\n",
    "top_k = 2\n",
    "top_k_preds = torch.topk(logits, k=top_k, dim=-1).indices\n",
    "top_k_correct = torch.eq(top_k_preds, labels.unsqueeze(-1)).any(dim=-1).float().sum()\n",
    "top_k_acc = top_k_correct / active_loss_position.size(0)\n",
    "preds = torch.argmax(logits, dim=-1)\n",
    "acc = (preds[active_loss_position] == labels[active_loss_position]).float().mean()  #这个True False的tensor可以直接作为index\n"
   ]
  },
  {
   "cell_type": "code",
   "execution_count": 18,
   "metadata": {},
   "outputs": [
    {
     "name": "stdout",
     "output_type": "stream",
     "text": [
      "tensor([[   4],\n",
      "        [-100],\n",
      "        [   3]])\n"
     ]
    }
   ],
   "source": [
    "print(labels.unsqueeze(-1))"
   ]
  },
  {
   "cell_type": "code",
   "execution_count": 15,
   "metadata": {},
   "outputs": [
    {
     "name": "stdout",
     "output_type": "stream",
     "text": [
      "tensor([0, 4])\n"
     ]
    }
   ],
   "source": [
    "print(preds[active_loss_position])"
   ]
  },
  {
   "cell_type": "code",
   "execution_count": 14,
   "metadata": {},
   "outputs": [
    {
     "name": "stdout",
     "output_type": "stream",
     "text": [
      "tensor([0, 4, 4])\n",
      "tensor(0.)\n"
     ]
    }
   ],
   "source": [
    "print(preds)\n",
    "print(acc)"
   ]
  },
  {
   "cell_type": "code",
   "execution_count": 11,
   "metadata": {},
   "outputs": [
    {
     "name": "stdout",
     "output_type": "stream",
     "text": [
      "tensor([ True, False,  True])\n"
     ]
    }
   ],
   "source": [
    "print(active_loss_position)"
   ]
  },
  {
   "cell_type": "code",
   "execution_count": 9,
   "metadata": {},
   "outputs": [
    {
     "name": "stdout",
     "output_type": "stream",
     "text": [
      "tensor([[0, 1],\n",
      "        [4, 1],\n",
      "        [4, 3]])\n"
     ]
    }
   ],
   "source": [
    "print(top_k_preds)"
   ]
  },
  {
   "cell_type": "code",
   "execution_count": 19,
   "metadata": {},
   "outputs": [
    {
     "name": "stdout",
     "output_type": "stream",
     "text": [
      "tensor(0.5000)\n"
     ]
    }
   ],
   "source": [
    "print(top_k_acc)"
   ]
  },
  {
   "cell_type": "code",
   "execution_count": 2,
   "metadata": {},
   "outputs": [],
   "source": [
    "a = [1,2]\n",
    "import torch\n",
    "a = torch.tensor(a,dtype=torch.float32)"
   ]
  },
  {
   "cell_type": "code",
   "execution_count": 3,
   "metadata": {},
   "outputs": [
    {
     "name": "stdout",
     "output_type": "stream",
     "text": [
      "tensor(1.5000)\n"
     ]
    }
   ],
   "source": [
    "print(a)"
   ]
  },
  {
   "cell_type": "code",
   "execution_count": 10,
   "metadata": {},
   "outputs": [],
   "source": [
    "a = [1]\n",
    "a = torch.tensor(a,dtype=torch.float32)"
   ]
  },
  {
   "cell_type": "code",
   "execution_count": 11,
   "metadata": {},
   "outputs": [
    {
     "name": "stdout",
     "output_type": "stream",
     "text": [
      "tensor([1.])\n"
     ]
    },
    {
     "name": "stderr",
     "output_type": "stream",
     "text": [
      "/tmp/ipykernel_3896031/2571157480.py:1: UserWarning: To copy construct from a tensor, it is recommended to use sourceTensor.clone().detach() or sourceTensor.clone().detach().requires_grad_(True), rather than torch.tensor(sourceTensor).\n",
      "  print(torch.tensor(a,dtype=torch.float32))\n"
     ]
    }
   ],
   "source": [
    "print(torch.tensor(a,dtype=torch.float32))"
   ]
  },
  {
   "cell_type": "code",
   "execution_count": 8,
   "metadata": {},
   "outputs": [
    {
     "name": "stdout",
     "output_type": "stream",
     "text": [
      "torch.Size([])\n"
     ]
    }
   ],
   "source": [
    "print(a.shape)"
   ]
  },
  {
   "cell_type": "code",
   "execution_count": 9,
   "metadata": {},
   "outputs": [
    {
     "name": "stdout",
     "output_type": "stream",
     "text": [
      "1.0\n"
     ]
    }
   ],
   "source": [
    "print(a.item())"
   ]
  },
  {
   "cell_type": "code",
   "execution_count": 1,
   "metadata": {},
   "outputs": [
    {
     "ename": "TypeError",
     "evalue": "float() argument must be a string or a number, not 'list'",
     "output_type": "error",
     "traceback": [
      "\u001b[0;31m---------------------------------------------------------------------------\u001b[0m",
      "\u001b[0;31mTypeError\u001b[0m                                 Traceback (most recent call last)",
      "Cell \u001b[0;32mIn[1], line 2\u001b[0m\n\u001b[1;32m      1\u001b[0m a \u001b[39m=\u001b[39m [\u001b[39m1.3\u001b[39m]\n\u001b[0;32m----> 2\u001b[0m \u001b[39mprint\u001b[39m(\u001b[39mfloat\u001b[39;49m(a))\n",
      "\u001b[0;31mTypeError\u001b[0m: float() argument must be a string or a number, not 'list'"
     ]
    }
   ],
   "source": [
    "a = [1.3]\n",
    "print(float(a))"
   ]
  },
  {
   "cell_type": "code",
   "execution_count": 6,
   "metadata": {},
   "outputs": [
    {
     "name": "stdout",
     "output_type": "stream",
     "text": [
      "tensor([1.5000, 1.6000, 1.5000, 1.6000])\n",
      "tensor([1.5000, 1.6000, 1.5000, 1.6000])\n"
     ]
    }
   ],
   "source": [
    "import torch\n",
    "c = [torch.tensor([1.5,1.6],dtype=torch.float),torch.tensor([1.5,1.6],dtype=torch.float)]\n",
    "\n",
    "# print(torch.tensor(c))\n",
    "print(torch.cat(c))\n",
    "print(torch.stack(c).flatten())"
   ]
  },
  {
   "cell_type": "code",
   "execution_count": 4,
   "metadata": {},
   "outputs": [
    {
     "name": "stdout",
     "output_type": "stream",
     "text": [
      "tensor([1.6000, 1.6000])\n"
     ]
    }
   ],
   "source": [
    "import torch\n",
    "d = [torch.tensor(1.6,dtype=torch.float),torch.tensor(1.6,dtype=torch.float)]\n",
    "\n",
    "\n",
    "# print(torch.cat(d)) # 报错zero-dimensional tensor (at position 0) cannot be concatenated\n",
    "\n",
    "print(torch.stack(d))"
   ]
  },
  {
   "cell_type": "code",
   "execution_count": 9,
   "metadata": {},
   "outputs": [
    {
     "name": "stdout",
     "output_type": "stream",
     "text": [
      "tensor([1.])\n",
      "torch.Size([1])\n",
      "tensor(1.)\n",
      "torch.Size([])\n"
     ]
    }
   ],
   "source": [
    "import torch \n",
    "f = torch.tensor([1],dtype=torch.float32)\n",
    "print(f)\n",
    "print(f.shape)\n",
    "e = torch.tensor(1,dtype=torch.float32)\n",
    "print(e)\n",
    "print(e.shape)"
   ]
  },
  {
   "cell_type": "code",
   "execution_count": 8,
   "metadata": {},
   "outputs": [],
   "source": [
    "import torch\n",
    "from transformers import get_linear_schedule_with_warmup,get_cosine_schedule_with_warmup\n",
    "from torch.optim import AdamW\n",
    "\n",
    "network = torch.nn.Linear(100,100)\n",
    "Adam = AdamW(network.parameters(),lr = 0.1)\n",
    "schedule = get_cosine_schedule_with_warmup(Adam,num_warmup_steps=1,num_training_steps=5)"
   ]
  },
  {
   "cell_type": "code",
   "execution_count": 9,
   "metadata": {},
   "outputs": [
    {
     "name": "stdout",
     "output_type": "stream",
     "text": [
      "0.0\n",
      "0.1\n",
      "0.08535533905932738\n",
      "0.05\n",
      "0.014644660940672627\n",
      "0.0\n"
     ]
    }
   ],
   "source": [
    "print(Adam.param_groups[0]['lr'])\n",
    "schedule.step()\n",
    "print(Adam.param_groups[0]['lr'])\n",
    "schedule.step()\n",
    "print(Adam.param_groups[0]['lr'])\n",
    "schedule.step()\n",
    "print(Adam.param_groups[0]['lr'])\n",
    "schedule.step()\n",
    "print(Adam.param_groups[0]['lr'])\n",
    "schedule.step()\n",
    "print(Adam.param_groups[0]['lr'])\n",
    "schedule.step()"
   ]
  }
 ],
 "metadata": {
  "kernelspec": {
   "display_name": "Python 3.9.15",
   "language": "python",
   "name": "python3"
  },
  "language_info": {
   "codemirror_mode": {
    "name": "ipython",
    "version": 3
   },
   "file_extension": ".py",
   "mimetype": "text/x-python",
   "name": "python",
   "nbconvert_exporter": "python",
   "pygments_lexer": "ipython3",
   "version": "3.9.15"
  },
  "orig_nbformat": 4,
  "vscode": {
   "interpreter": {
    "hash": "e895937462a0f081aaf35a1b00d743630ae75cf7f3d3dbe937ee3f340de9cfa0"
   }
  }
 },
 "nbformat": 4,
 "nbformat_minor": 2
}
