{
 "cells": [
  {
   "cell_type": "code",
   "execution_count": 1,
   "metadata": {},
   "outputs": [
    {
     "name": "stderr",
     "output_type": "stream",
     "text": [
      "Setting `pad_token_id` to `eos_token_id`:50256 for open-end generation.\n"
     ]
    },
    {
     "name": "stdout",
     "output_type": "stream",
     "text": [
      "The quick brown fox is primarily an occasional foe in the young fox's home, though it can become an almost lethal foe. The fox is not a strong leader, having primarily been driven through by superior strategy and stamina, but rather with good health\n"
     ]
    }
   ],
   "source": [
    "from transformers import pipeline\n",
    "\n",
    "# Load the pre-trained GPT-2 model and tokenizer\n",
    "generator = pipeline('text-generation', model='../hug_gpt_pretrain_hug_trainer/04-21-10-28/checkpoint-90000/', \n",
    "    tokenizer='../tokenizer_save/tokenizer-gpt2-512/')\n",
    "\n",
    "# Generate some text using the model\n",
    "prompt = \"The quick brown fox\"\n",
    "output = generator(prompt, max_length=50, do_sample=True)\n",
    "print(output[0]['generated_text'])"
   ]
  },
  {
   "cell_type": "code",
   "execution_count": 3,
   "metadata": {},
   "outputs": [
    {
     "name": "stderr",
     "output_type": "stream",
     "text": [
      "Setting `pad_token_id` to `eos_token_id`:50256 for open-end generation.\n"
     ]
    },
    {
     "name": "stdout",
     "output_type": "stream",
     "text": [
      "I want to play basketball, but also wanted to \" work off [ things ] well \" since the club was playing for a number of cities and lacked an atmosphere for the players. The team finished the regular season fifth in the Midwest and one sixth in the Midwest, earning the highest points of their two years of coachling. \n",
      " = = = = 2011 – 15 season = = = = \n",
      " After a promising start by the team, the 2011 – 12 team got off to a slow start and were only featured in the top 10 since last season. In the opening round of the season, they were eliminated in the first round from the playoffs and reached the Sweet Sixteen round of the playoffs. During the same season, they was playing one of eight consecutive games, finishing the season at in sixth place. This was led by the Oklahoma City Thunder in the first round, but the Thunder did not advance in the playoffs. \n",
      " The team spent December securing a 13 @-@ game playoff\n"
     ]
    }
   ],
   "source": [
    "prompt = \"I want to play basketball, but\"\n",
    "output = generator(prompt, max_length=200, do_sample=True)\n",
    "print(output[0]['generated_text'])"
   ]
  }
 ],
 "metadata": {
  "kernelspec": {
   "display_name": "Python 3.9.15 ('torch')",
   "language": "python",
   "name": "python3"
  },
  "language_info": {
   "codemirror_mode": {
    "name": "ipython",
    "version": 3
   },
   "file_extension": ".py",
   "mimetype": "text/x-python",
   "name": "python",
   "nbconvert_exporter": "python",
   "pygments_lexer": "ipython3",
   "version": "3.9.15"
  },
  "orig_nbformat": 4,
  "vscode": {
   "interpreter": {
    "hash": "e895937462a0f081aaf35a1b00d743630ae75cf7f3d3dbe937ee3f340de9cfa0"
   }
  }
 },
 "nbformat": 4,
 "nbformat_minor": 2
}
