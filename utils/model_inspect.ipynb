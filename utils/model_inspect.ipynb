{
 "cells": [
  {
   "cell_type": "code",
   "execution_count": 11,
   "metadata": {},
   "outputs": [
    {
     "name": "stdout",
     "output_type": "stream",
     "text": [
      "MB of parameters in model: 1238.3046875\n",
      "MB of parameters in model: 306.80078125\n",
      "MB of parameters in model: 514.201171875\n"
     ]
    }
   ],
   "source": [
    "import os\n",
    "import sys\n",
    "sys.path.append(\"../\")\n",
    "from model.model_retnet.retnet_gpt import RetnetGPT\n",
    "from torchscale.architecture.config import RetNetConfig,RetNetConfigDataclass\n",
    "from torch import nn\n",
    "\n",
    "def count_parameters_in_MB(model: nn.Module) -> float:\n",
    "    \"\"\"\n",
    "    Count the total size of parameters in a PyTorch model in MB.\n",
    "    \n",
    "    Args:\n",
    "    - model (nn.Module): The PyTorch model.\n",
    "    \n",
    "    Returns:\n",
    "    - float: Total size of parameters in MB.\n",
    "    \"\"\"\n",
    "    total_params = sum(p.numel() for p in model.parameters() if p.requires_grad)\n",
    "    \n",
    "    # Convert total parameters to MB (1 parameter = 4 bytes, 1MB = 2^20 bytes)\n",
    "    total_size_MB = total_params * 4 / (2**20)\n",
    "    \n",
    "    return total_size_MB\n",
    "\n",
    "base_config = RetNetConfigDataclass(\n",
    "    decoder_embed_dim=512,decoder_retention_heads=2,decoder_ffn_embed_dim=1024,decoder_layers=6,activation_fn=\"gelu\",\n",
    "    dropout=0.0,no_output_layer=False,vocab_size=60054,\n",
    ")\n",
    "base_medium_config = RetNetConfigDataclass(\n",
    "    decoder_embed_dim=768,decoder_retention_heads=3,decoder_ffn_embed_dim=768*2,decoder_layers=6,activation_fn=\"gelu\",\n",
    "    dropout=0.0,no_output_layer=False,vocab_size=60054,\n",
    ")\n",
    "medium_config = RetNetConfigDataclass(\n",
    "    decoder_embed_dim=1024,decoder_retention_heads=4,decoder_ffn_embed_dim=2048,decoder_layers=10,activation_fn=\"gelu\",\n",
    "    dropout=0.0,no_output_layer=False,vocab_size=60054,\n",
    ")\n",
    "large_config = RetNetConfigDataclass(\n",
    "    decoder_embed_dim=1024,decoder_retention_heads=4,decoder_ffn_embed_dim=2048,decoder_layers=16,activation_fn=\"gelu\",\n",
    "    dropout=0.0,no_output_layer=False,vocab_size=60054,\n",
    ")\n",
    "config = large_config\n",
    "model = RetnetGPT(config) \n",
    "print(f\"MB of parameters in model: {count_parameters_in_MB(model)}\")\n",
    "\n",
    "\n",
    "config = base_config\n",
    "model = RetnetGPT(config) \n",
    "print(f\"MB of parameters in model: {count_parameters_in_MB(model)}\")\n",
    "\n",
    "config = base_medium_config\n",
    "model = RetnetGPT(config) \n",
    "print(f\"MB of parameters in model: {count_parameters_in_MB(model)}\")"
   ]
  },
  {
   "cell_type": "code",
   "execution_count": 7,
   "metadata": {},
   "outputs": [
    {
     "name": "stdout",
     "output_type": "stream",
     "text": [
      "WARNING: using slow attention. Flash Attention requires PyTorch >= 2.0\n",
      "WARNING: using slow attention. Flash Attention requires PyTorch >= 2.0\n",
      "WARNING: using slow attention. Flash Attention requires PyTorch >= 2.0\n",
      "WARNING: using slow attention. Flash Attention requires PyTorch >= 2.0\n",
      "WARNING: using slow attention. Flash Attention requires PyTorch >= 2.0\n",
      "WARNING: using slow attention. Flash Attention requires PyTorch >= 2.0\n",
      "WARNING: using slow attention. Flash Attention requires PyTorch >= 2.0\n",
      "WARNING: using slow attention. Flash Attention requires PyTorch >= 2.0\n",
      "WARNING: using slow attention. Flash Attention requires PyTorch >= 2.0\n",
      "WARNING: using slow attention. Flash Attention requires PyTorch >= 2.0\n",
      "WARNING: using slow attention. Flash Attention requires PyTorch >= 2.0\n",
      "WARNING: using slow attention. Flash Attention requires PyTorch >= 2.0\n",
      "number of parameters: 131.08M\n",
      "MB of parameters in model: 506.0126953125\n"
     ]
    }
   ],
   "source": [
    "from model.model_gpt.model_gpt2_hug_formet import GPT, GPTConfig\n",
    "from transformers import GPT2Tokenizer\n",
    "\n",
    "\n",
    "config = GPTConfig(vocab_size=60054, n_embd=768, \n",
    "            n_layer=12, n_head=12, dropout=0.1, use_cosformer=False,block_size=2048)\n",
    "\n",
    "model = GPT(config)\n",
    "print(f\"MB of parameters in model: {count_parameters_in_MB(model)}\")"
   ]
  }
 ],
 "metadata": {
  "kernelspec": {
   "display_name": "Python 3.9.15 ('torch')",
   "language": "python",
   "name": "python3"
  },
  "language_info": {
   "codemirror_mode": {
    "name": "ipython",
    "version": 3
   },
   "file_extension": ".py",
   "mimetype": "text/x-python",
   "name": "python",
   "nbconvert_exporter": "python",
   "pygments_lexer": "ipython3",
   "version": "3.9.15"
  },
  "orig_nbformat": 4,
  "vscode": {
   "interpreter": {
    "hash": "e895937462a0f081aaf35a1b00d743630ae75cf7f3d3dbe937ee3f340de9cfa0"
   }
  }
 },
 "nbformat": 4,
 "nbformat_minor": 2
}
