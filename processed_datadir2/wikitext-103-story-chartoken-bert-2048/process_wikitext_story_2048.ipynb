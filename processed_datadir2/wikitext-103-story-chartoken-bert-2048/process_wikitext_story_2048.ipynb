{
 "cells": [
  {
   "cell_type": "code",
   "execution_count": 2,
   "metadata": {},
   "outputs": [],
   "source": [
    "from datasets import load_dataset, DatasetDict, load_from_disk\n",
    "from transformers import AutoTokenizer"
   ]
  },
  {
   "cell_type": "code",
   "execution_count": 3,
   "metadata": {},
   "outputs": [],
   "source": [
    "# read next fast speed\n",
    "dataset = load_from_disk(\"../processed_datadir/wikitext-103-story-train\")"
   ]
  },
  {
   "cell_type": "code",
   "execution_count": 4,
   "metadata": {},
   "outputs": [
    {
     "name": "stdout",
     "output_type": "stream",
     "text": [
      "{'text': Value(dtype='string', id=None)}\n",
      "29525\n"
     ]
    }
   ],
   "source": [
    "print(dataset.features)\n",
    "print(len(dataset))"
   ]
  },
  {
   "cell_type": "code",
   "execution_count": 7,
   "metadata": {},
   "outputs": [
    {
     "name": "stdout",
     "output_type": "stream",
     "text": [
      "20908\n",
      "21487\n",
      "16161\n",
      "3667\n",
      "6967\n",
      "17813\n",
      "42\n",
      "32\n",
      "98\n",
      "55\n",
      "29\n",
      "27\n",
      "72\n",
      "2518\n",
      "8582\n",
      "4915\n",
      "2981\n",
      "14842\n",
      "14228\n",
      "12193\n",
      "6010\n",
      "55982\n",
      "13192\n",
      "37173\n",
      "11058\n",
      "7686\n",
      "25354\n",
      "5632\n",
      "6170\n",
      "14778\n"
     ]
    }
   ],
   "source": [
    "for i in range(30):\n",
    "    print(len(dataset[i]['text']))"
   ]
  },
  {
   "cell_type": "code",
   "execution_count": 8,
   "metadata": {},
   "outputs": [],
   "source": [
    "from transformers import CanineTokenizer,ByT5Tokenizer\n",
    "tokenizer = ByT5Tokenizer.from_pretrained(\"../tokenizer_save/byt5-tokenizer\")"
   ]
  },
  {
   "cell_type": "code",
   "execution_count": 5,
   "metadata": {},
   "outputs": [
    {
     "name": "stdout",
     "output_type": "stream",
     "text": [
      "tensor([ 34, 242, 161, 154, 131,  34])\n",
      "[75, 104, 111, 111, 114, 47, 35, 124, 42, 100, 111, 111, 36, 35, 75, 114, 122, 35, 100, 117, 104, 35, 124, 114, 120, 35, 243, 162, 155, 132, 35, 66, 1]\n"
     ]
    }
   ],
   "source": [
    "import torch\n",
    "example = tokenizer.encode(\"Hello, y'all! How are you 😁 ?\")\n",
    "string = \" 😁 \"\n",
    "if not isinstance(string, bytes):\n",
    "    string = str.encode(string)\n",
    "print(torch.tensor([x + 2 for x in string]))\n",
    "print(example)"
   ]
  },
  {
   "cell_type": "code",
   "execution_count": 9,
   "metadata": {},
   "outputs": [],
   "source": [
    "tokenizer.model_max_length = 2048"
   ]
  },
  {
   "cell_type": "code",
   "execution_count": 7,
   "metadata": {},
   "outputs": [
    {
     "name": "stdout",
     "output_type": "stream",
     "text": [
      "Hello, y'all! How are you 😁?</s>\n"
     ]
    }
   ],
   "source": [
    "print(tokenizer.decode(example))"
   ]
  },
  {
   "cell_type": "code",
   "execution_count": 24,
   "metadata": {},
   "outputs": [
    {
     "name": "stdout",
     "output_type": "stream",
     "text": [
      "input_ids 2048\n",
      "attention_mask 2048\n"
     ]
    }
   ],
   "source": [
    "temp = tokenizer(\"abfawg\", truncation=True,    # 这样搞直接把20000多的文本截取到只剩下2048\n",
    "        max_length=tokenizer.model_max_length,padding=\"max_length\")\n",
    "for k in temp.keys():\n",
    "        if isinstance(temp[k],list):\n",
    "                print(k, len(temp[k]))\n",
    "        else:\n",
    "                print(k, temp[k])"
   ]
  },
  {
   "cell_type": "code",
   "execution_count": 25,
   "metadata": {},
   "outputs": [
    {
     "name": "stdout",
     "output_type": "stream",
     "text": [
      "12\n",
      "The max length for the tokenizer is: 2048\n"
     ]
    },
    {
     "data": {
      "application/vnd.jupyter.widget-view+json": {
       "model_id": "21012e580416418bbc882a1f17e373b1",
       "version_major": 2,
       "version_minor": 0
      },
      "text/plain": [
       "Map (num_proc=12):   0%|          | 0/29525 [00:00<?, ? examples/s]"
      ]
     },
     "metadata": {},
     "output_type": "display_data"
    },
    {
     "name": "stdout",
     "output_type": "stream",
     "text": [
      "success\n",
      "success\n",
      "success\n",
      "success\n",
      "success\n",
      "success\n",
      "success\n",
      "success\n",
      "success\n",
      "success\n",
      "success\n",
      "success\n",
      "success\n",
      "success\n",
      "success\n",
      "success\n",
      "success\n",
      "success\n",
      "success\n",
      "success\n",
      "success\n",
      "success\n",
      "success\n",
      "success\n",
      "success\n",
      "success\n",
      "success\n",
      "success\n",
      "success\n",
      "success\n",
      "success\n",
      "success\n",
      "success\n",
      "success\n",
      "success\n",
      "success\n"
     ]
    },
    {
     "data": {
      "text/plain": [
       "{'input_ids': Sequence(feature=Value(dtype='int32', id=None), length=-1, id=None),\n",
       " 'attention_mask': Sequence(feature=Value(dtype='int8', id=None), length=-1, id=None)}"
      ]
     },
     "execution_count": 25,
     "metadata": {},
     "output_type": "execute_result"
    }
   ],
   "source": [
    "import multiprocessing\n",
    "\n",
    "num_proc = multiprocessing.cpu_count() - 4\n",
    "print(num_proc)\n",
    "print(f\"The max length for the tokenizer is: {tokenizer.model_max_length}\")\n",
    "\n",
    "def group_texts(examples):\n",
    "    # print(len(examples[\"text\"]))\n",
    "    temp_string_list = []\n",
    "    for j in range(len(examples[\"text\"])):\n",
    "        text = examples[\"text\"][j]\n",
    "        temp_string_list.extend([text[i:i+tokenizer.model_max_length] for i in range(0, len(text), tokenizer.model_max_length)])\n",
    "    \n",
    "    tokenized_inputs = tokenizer(temp_string_list, truncation=True,   # 在这就不带文本了\n",
    "        max_length=tokenizer.model_max_length, return_overflowing_tokens=True,return_length=True)\n",
    "    input_ids_list = []\n",
    "    # token_type_ids_list = []\n",
    "    attention_mask_list = []\n",
    "\n",
    "\n",
    "    \n",
    "    for length, input_ids in zip(tokenized_inputs[\"length\"], tokenized_inputs[\"input_ids\"]):\n",
    "        if length == tokenizer.model_max_length:\n",
    "            input_ids_list.append(input_ids)\n",
    "        else:\n",
    "            input_ids_list.append(input_ids + [tokenizer.pad_token_id] * (tokenizer.model_max_length - length))\n",
    "    # for length, token_type_ids in zip(tokenized_inputs[\"length\"], tokenized_inputs[\"token_type_ids\"]):\n",
    "    #     if length == tokenizer.model_max_length:\n",
    "    #         token_type_ids_list.append(token_type_ids)\n",
    "    #     else:\n",
    "    #         token_type_ids_list.append(token_type_ids + [0] * (tokenizer.model_max_length - length))\n",
    "    for length, attention_mask in zip(tokenized_inputs[\"length\"], tokenized_inputs[\"attention_mask\"]):\n",
    "        if length == tokenizer.model_max_length:\n",
    "            attention_mask_list.append(attention_mask)\n",
    "        else:\n",
    "            attention_mask_list.append(attention_mask + [0] * (tokenizer.model_max_length - length))\n",
    "    print(\"success\")\n",
    "    # return {\"input_ids\": input_ids_list, \"token_type_ids\": token_type_ids_list, \"attention_mask\": attention_mask_list}\n",
    "    return {\"input_ids\": input_ids_list, \"attention_mask\": attention_mask_list}\n",
    "\n",
    "# preprocess dataset\n",
    "tokenized_datasets = dataset.map(group_texts, batched=True, remove_columns=[\"text\"], num_proc=num_proc)\n",
    "tokenized_datasets.features"
   ]
  },
  {
   "cell_type": "code",
   "execution_count": 26,
   "metadata": {},
   "outputs": [
    {
     "name": "stdout",
     "output_type": "stream",
     "text": [
      "277844\n"
     ]
    }
   ],
   "source": [
    "print(len(tokenized_datasets))"
   ]
  },
  {
   "cell_type": "code",
   "execution_count": null,
   "metadata": {},
   "outputs": [],
   "source": [
    "for i in range(0, len(tokenized_datasets)):\n",
    "    # print(tokenized_datasets[i])\n",
    "    for k in tokenized_datasets[i]:\n",
    "        # print(k)\n",
    "        # print(len(tokenized_datasets[i][k]))\n",
    "        if len(tokenized_datasets[i][k]) != tokenizer.model_max_length:\n",
    "            print(\"error\")\n",
    "            "
   ]
  },
  {
   "cell_type": "code",
   "execution_count": 27,
   "metadata": {},
   "outputs": [],
   "source": [
    "# Split preprocessed dataset into train, validation, and test sets\n",
    "splits = tokenized_datasets.train_test_split(test_size=0.03)\n",
    "preprocessed_splits = DatasetDict({\n",
    "    \"train\": splits[\"train\"],\n",
    "    \"validation\": splits[\"test\"],\n",
    "    \"test\": load_from_disk(\"../processed_datadir/wikitext-103-story-test/\")\n",
    "})"
   ]
  },
  {
   "cell_type": "code",
   "execution_count": 28,
   "metadata": {},
   "outputs": [
    {
     "data": {
      "application/vnd.jupyter.widget-view+json": {
       "model_id": "a953baf7e5704b45b7a10740d432f5a6",
       "version_major": 2,
       "version_minor": 0
      },
      "text/plain": [
       "Flattening the indices:   0%|          | 0/269508 [00:00<?, ? examples/s]"
      ]
     },
     "metadata": {},
     "output_type": "display_data"
    },
    {
     "data": {
      "application/vnd.jupyter.widget-view+json": {
       "model_id": "67591781157e46af972da8e40f423337",
       "version_major": 2,
       "version_minor": 0
      },
      "text/plain": [
       "Saving the dataset (0/6 shards):   0%|          | 0/269508 [00:00<?, ? examples/s]"
      ]
     },
     "metadata": {},
     "output_type": "display_data"
    },
    {
     "data": {
      "application/vnd.jupyter.widget-view+json": {
       "model_id": "3afab7ff474a495e8f86495812b2a22a",
       "version_major": 2,
       "version_minor": 0
      },
      "text/plain": [
       "Flattening the indices:   0%|          | 0/8336 [00:00<?, ? examples/s]"
      ]
     },
     "metadata": {},
     "output_type": "display_data"
    },
    {
     "data": {
      "application/vnd.jupyter.widget-view+json": {
       "model_id": "fad637a24aab458c8e8b25704464911a",
       "version_major": 2,
       "version_minor": 0
      },
      "text/plain": [
       "Saving the dataset (0/1 shards):   0%|          | 0/8336 [00:00<?, ? examples/s]"
      ]
     },
     "metadata": {},
     "output_type": "display_data"
    },
    {
     "data": {
      "application/vnd.jupyter.widget-view+json": {
       "model_id": "fb977c0735e34c1592d45a4d52f37837",
       "version_major": 2,
       "version_minor": 0
      },
      "text/plain": [
       "Saving the dataset (0/1 shards):   0%|          | 0/62 [00:00<?, ? examples/s]"
      ]
     },
     "metadata": {},
     "output_type": "display_data"
    }
   ],
   "source": [
    "preprocessed_splits.save_to_disk(\"../processed_datadir2/wikitext-103-story-chartoken-bert-2048/\")"
   ]
  },
  {
   "cell_type": "code",
   "execution_count": 29,
   "metadata": {},
   "outputs": [
    {
     "name": "stdout",
     "output_type": "stream",
     "text": [
      "269508\n"
     ]
    }
   ],
   "source": [
    "print(len(preprocessed_splits[\"train\"]))"
   ]
  }
 ],
 "metadata": {
  "kernelspec": {
   "display_name": "Python 3.9.15 ('torch')",
   "language": "python",
   "name": "python3"
  },
  "language_info": {
   "codemirror_mode": {
    "name": "ipython",
    "version": 3
   },
   "file_extension": ".py",
   "mimetype": "text/x-python",
   "name": "python",
   "nbconvert_exporter": "python",
   "pygments_lexer": "ipython3",
   "version": "3.9.15"
  },
  "orig_nbformat": 4,
  "vscode": {
   "interpreter": {
    "hash": "e895937462a0f081aaf35a1b00d743630ae75cf7f3d3dbe937ee3f340de9cfa0"
   }
  }
 },
 "nbformat": 4,
 "nbformat_minor": 2
}
