{
 "cells": [
  {
   "cell_type": "code",
   "execution_count": 1,
   "metadata": {},
   "outputs": [],
   "source": [
    "from datasets import load_dataset, DatasetDict, load_from_disk\n",
    "from transformers import AutoTokenizer\n",
    "\n",
    "# Load WikiText-103 dataset\n",
    "# dataset = load_dataset(\"wikitext\", \"wikitext-103-raw-v1\", split=\"train\")\n",
    "\n",
    "dataset = load_from_disk(\"../processed_datadir/wikitext-103-raw-train\")"
   ]
  },
  {
   "cell_type": "code",
   "execution_count": 6,
   "metadata": {},
   "outputs": [
    {
     "name": "stdout",
     "output_type": "stream",
     "text": [
      "{'text': Value(dtype='string', id=None)}\n"
     ]
    }
   ],
   "source": [
    "print(dataset.features)"
   ]
  },
  {
   "cell_type": "code",
   "execution_count": 2,
   "metadata": {},
   "outputs": [
    {
     "name": "stdout",
     "output_type": "stream",
     "text": [
      "1801350\n"
     ]
    }
   ],
   "source": [
    "print(len(dataset))"
   ]
  },
  {
   "cell_type": "code",
   "execution_count": 2,
   "metadata": {},
   "outputs": [
    {
     "name": "stdout",
     "output_type": "stream",
     "text": [
      "{'text': ' = Valkyria Chronicles III = \\n'}\n"
     ]
    }
   ],
   "source": [
    "print(dataset[1])"
   ]
  },
  {
   "cell_type": "code",
   "execution_count": 2,
   "metadata": {},
   "outputs": [
    {
     "name": "stdout",
     "output_type": "stream",
     "text": [
      "10001\n",
      "20001\n",
      "30001\n",
      "40001\n",
      "50001\n",
      "60001\n",
      "70001\n",
      "80001\n",
      "90001\n",
      "100001\n",
      "110001\n",
      "120001\n",
      "130001\n",
      "140001\n",
      "150001\n",
      "160001\n",
      "170001\n",
      "180001\n",
      "190001\n",
      "200001\n",
      "210001\n",
      "220001\n",
      "230001\n",
      "240001\n",
      "250001\n",
      "260001\n",
      "270001\n",
      "280001\n",
      "290001\n",
      "300001\n",
      "310001\n",
      "320001\n",
      "330001\n",
      "340001\n",
      "350001\n",
      "360001\n",
      "370001\n",
      "380001\n",
      "390001\n",
      "400001\n",
      "410001\n",
      "420001\n",
      "430001\n",
      "440001\n",
      "450001\n",
      "460001\n",
      "470001\n",
      "480001\n",
      "490001\n",
      "500001\n",
      "510001\n",
      "520001\n",
      "530001\n",
      "540001\n",
      "550001\n",
      "560001\n",
      "570001\n",
      "580001\n",
      "590001\n",
      "600001\n",
      "610001\n",
      "620001\n",
      "630001\n",
      "640001\n",
      "650001\n",
      "660001\n",
      "670001\n",
      "680001\n",
      "690001\n",
      "700001\n",
      "710001\n",
      "720001\n",
      "730001\n",
      "740001\n",
      "750001\n",
      "760001\n",
      "770001\n",
      "780001\n",
      "790001\n",
      "800001\n",
      "810001\n",
      "820001\n",
      "830001\n",
      "840001\n",
      "850001\n",
      "860001\n",
      "870001\n",
      "880001\n",
      "890001\n",
      "900001\n",
      "910001\n",
      "920001\n",
      "930001\n",
      "940001\n",
      "950001\n",
      "960001\n",
      "970001\n",
      "980001\n",
      "990001\n",
      "1000001\n",
      "1010001\n",
      "1020001\n",
      "1030001\n",
      "1040001\n",
      "1050001\n",
      "1060001\n",
      "1070001\n",
      "1080001\n",
      "1090001\n",
      "1100001\n",
      "1110001\n",
      "1120001\n",
      "1130001\n",
      "1140001\n",
      "1150001\n",
      "1160001\n",
      "1170001\n",
      "1180001\n",
      "1190001\n",
      "1200001\n",
      "1210001\n",
      "1220001\n",
      "1230001\n",
      "1240001\n",
      "1250001\n",
      "1260001\n",
      "1270001\n",
      "1280001\n",
      "1290001\n",
      "1300001\n",
      "1310001\n",
      "1320001\n",
      "1330001\n",
      "1340001\n",
      "1350001\n",
      "1360001\n",
      "1370001\n",
      "1380001\n",
      "1390001\n",
      "1400001\n",
      "1410001\n",
      "1420001\n",
      "1430001\n",
      "1440001\n",
      "1450001\n",
      "1460001\n",
      "1470001\n",
      "1480001\n",
      "1490001\n",
      "1500001\n",
      "1510001\n",
      "1520001\n",
      "1530001\n",
      "1540001\n",
      "1550001\n",
      "1560001\n",
      "1570001\n",
      "1580001\n",
      "1590001\n",
      "1600001\n",
      "1610001\n",
      "1620001\n",
      "1630001\n",
      "1640001\n",
      "1650001\n",
      "1660001\n",
      "1670001\n",
      "1680001\n",
      "1690001\n",
      "1700001\n",
      "1710001\n",
      "1720001\n",
      "1730001\n",
      "1740001\n",
      "1750001\n",
      "1760001\n",
      "1770001\n",
      "1780001\n",
      "1790001\n",
      "1800001\n"
     ]
    }
   ],
   "source": [
    "from datasets import Dataset, DatasetDict, ClassLabel, Features\n",
    "story_data = {\n",
    "    \"text\":[]\n",
    "}\n",
    "index = 1\n",
    "while True:\n",
    "    if dataset[index][\"text\"].count(\"=\") == 2:\n",
    "        story_data[\"text\"].append(dataset[index][\"text\"])\n",
    "    else:\n",
    "        story_data[\"text\"][-1] = story_data[\"text\"][-1] + dataset[index][\"text\"]\n",
    "    index += 1\n",
    "    if index == len(dataset):\n",
    "        break\n",
    "    if index % 10000 == 1:\n",
    "        print(index)\n",
    "        \n"
   ]
  },
  {
   "cell_type": "code",
   "execution_count": null,
   "metadata": {},
   "outputs": [],
   "source": [
    "for i in range(10):\n",
    "    print(story_data[\"text\"][i])"
   ]
  },
  {
   "cell_type": "code",
   "execution_count": 8,
   "metadata": {},
   "outputs": [
    {
     "name": "stdout",
     "output_type": "stream",
     "text": [
      "29525\n"
     ]
    }
   ],
   "source": [
    "print(len(story_data[\"text\"]))"
   ]
  },
  {
   "cell_type": "code",
   "execution_count": 3,
   "metadata": {},
   "outputs": [],
   "source": [
    "\n",
    "\n",
    "# 创建数据集\n",
    "# dataset = Dataset.from_dict(story_data)\n",
    "\n",
    "# 保存数据集\n",
    "# dataset.save_to_disk(\"../processed_datadir/wikitext-103-story-train\")"
   ]
  },
  {
   "cell_type": "code",
   "execution_count": 2,
   "metadata": {},
   "outputs": [],
   "source": [
    "# read next fast speed\n",
    "dataset = load_from_disk(\"../processed_datadir/wikitext-103-story-train\")"
   ]
  },
  {
   "cell_type": "code",
   "execution_count": 10,
   "metadata": {},
   "outputs": [
    {
     "name": "stdout",
     "output_type": "stream",
     "text": [
      "{'text': Value(dtype='string', id=None)}\n",
      "29525\n"
     ]
    }
   ],
   "source": [
    "print(dataset.features)\n",
    "print(len(dataset))"
   ]
  },
  {
   "cell_type": "code",
   "execution_count": null,
   "metadata": {},
   "outputs": [],
   "source": [
    "for i in range(0, 3):\n",
    "    print(dataset[i])"
   ]
  },
  {
   "cell_type": "code",
   "execution_count": null,
   "metadata": {},
   "outputs": [],
   "source": [
    "for i in range(0,100):\n",
    "    print(len(dataset[i][\"text\"]))"
   ]
  },
  {
   "cell_type": "code",
   "execution_count": 5,
   "metadata": {},
   "outputs": [],
   "source": [
    "from transformers import AutoTokenizer\n",
    "tokenizer = AutoTokenizer.from_pretrained(\"../tokenizer_save/tokenizer-bert-base-uncased-512/\")"
   ]
  },
  {
   "cell_type": "code",
   "execution_count": 13,
   "metadata": {},
   "outputs": [
    {
     "name": "stdout",
     "output_type": "stream",
     "text": [
      "12\n",
      "The max length for the tokenizer is: 512\n"
     ]
    },
    {
     "data": {
      "application/vnd.jupyter.widget-view+json": {
       "model_id": "72e93688e38247b7b8b3e2576680d27f",
       "version_major": 2,
       "version_minor": 0
      },
      "text/plain": [
       "Map (num_proc=12):   0%|          | 0/29525 [00:00<?, ? examples/s]"
      ]
     },
     "metadata": {},
     "output_type": "display_data"
    },
    {
     "name": "stdout",
     "output_type": "stream",
     "text": [
      "success\n",
      "success\n",
      "success\n",
      "success\n",
      "success\n",
      "success\n",
      "success\n",
      "success\n",
      "success\n",
      "success\n",
      "success\n",
      "success\n",
      "success\n",
      "success\n",
      "success\n",
      "success\n",
      "success\n",
      "success\n",
      "success\n",
      "success\n",
      "success\n",
      "success\n",
      "success\n",
      "success\n",
      "success\n",
      "success\n",
      "success\n",
      "success\n",
      "success\n",
      "success\n",
      "success\n",
      "success\n",
      "success\n",
      "success\n",
      "success\n",
      "success\n"
     ]
    },
    {
     "data": {
      "text/plain": [
       "{'input_ids': Sequence(feature=Value(dtype='int32', id=None), length=-1, id=None),\n",
       " 'token_type_ids': Sequence(feature=Value(dtype='int8', id=None), length=-1, id=None),\n",
       " 'attention_mask': Sequence(feature=Value(dtype='int8', id=None), length=-1, id=None)}"
      ]
     },
     "execution_count": 13,
     "metadata": {},
     "output_type": "execute_result"
    }
   ],
   "source": [
    "import multiprocessing\n",
    "\n",
    "num_proc = multiprocessing.cpu_count() - 4\n",
    "print(num_proc)\n",
    "print(f\"The max length for the tokenizer is: {tokenizer.model_max_length}\")\n",
    "\n",
    "def group_texts(examples):\n",
    "    # print(len(examples[\"text\"]))\n",
    "    tokenized_inputs = tokenizer(examples[\"text\"], truncation=True,   # 在这就不带文本了\n",
    "        max_length=tokenizer.model_max_length, return_overflowing_tokens=True,return_length=True)\n",
    "    input_ids_list = []\n",
    "    token_type_ids_list = []\n",
    "    attention_mask_list = []\n",
    "\n",
    "\n",
    "    \n",
    "    for length, input_ids in zip(tokenized_inputs[\"length\"], tokenized_inputs[\"input_ids\"]):\n",
    "        if length == tokenizer.model_max_length:\n",
    "            input_ids_list.append(input_ids)\n",
    "        else:\n",
    "            input_ids_list.append(input_ids + [tokenizer.pad_token_id] * (tokenizer.model_max_length - length))\n",
    "    for length, token_type_ids in zip(tokenized_inputs[\"length\"], tokenized_inputs[\"token_type_ids\"]):\n",
    "        if length == tokenizer.model_max_length:\n",
    "            token_type_ids_list.append(token_type_ids)\n",
    "        else:\n",
    "            token_type_ids_list.append(token_type_ids + [0] * (tokenizer.model_max_length - length))\n",
    "    for length, attention_mask in zip(tokenized_inputs[\"length\"], tokenized_inputs[\"attention_mask\"]):\n",
    "        if length == tokenizer.model_max_length:\n",
    "            attention_mask_list.append(attention_mask)\n",
    "        else:\n",
    "            attention_mask_list.append(attention_mask + [0] * (tokenizer.model_max_length - length))\n",
    "    print(\"success\")\n",
    "    return {\"input_ids\": input_ids_list, \"token_type_ids\": token_type_ids_list, \"attention_mask\": attention_mask_list}\n",
    "\n",
    "# preprocess dataset\n",
    "tokenized_datasets = dataset.map(group_texts, batched=True, remove_columns=[\"text\"], num_proc=num_proc)\n",
    "tokenized_datasets.features"
   ]
  },
  {
   "cell_type": "code",
   "execution_count": 18,
   "metadata": {},
   "outputs": [
    {
     "ename": "KeyboardInterrupt",
     "evalue": "",
     "output_type": "error",
     "traceback": [
      "\u001b[0;31m---------------------------------------------------------------------------\u001b[0m",
      "\u001b[0;31mKeyboardInterrupt\u001b[0m                         Traceback (most recent call last)",
      "Cell \u001b[0;32mIn[18], line 3\u001b[0m\n\u001b[1;32m      1\u001b[0m \u001b[39mfor\u001b[39;00m i \u001b[39min\u001b[39;00m \u001b[39mrange\u001b[39m(\u001b[39m0\u001b[39m, \u001b[39mlen\u001b[39m(tokenized_datasets)):\n\u001b[1;32m      2\u001b[0m     \u001b[39m# print(tokenized_datasets[i])\u001b[39;00m\n\u001b[0;32m----> 3\u001b[0m     \u001b[39mfor\u001b[39;00m k \u001b[39min\u001b[39;00m tokenized_datasets[i]:\n\u001b[1;32m      4\u001b[0m         \u001b[39m# print(k)\u001b[39;00m\n\u001b[1;32m      5\u001b[0m         \u001b[39m# print(len(tokenized_datasets[i][k]))\u001b[39;00m\n\u001b[1;32m      6\u001b[0m         \u001b[39mif\u001b[39;00m \u001b[39mlen\u001b[39m(tokenized_datasets[i][k]) \u001b[39m!=\u001b[39m \u001b[39m512\u001b[39m:\n\u001b[1;32m      7\u001b[0m             \u001b[39mprint\u001b[39m(\u001b[39m\"\u001b[39m\u001b[39merror\u001b[39m\u001b[39m\"\u001b[39m)\n",
      "File \u001b[0;32m~/.conda/envs/torch/lib/python3.9/site-packages/datasets/arrow_dataset.py:2658\u001b[0m, in \u001b[0;36mDataset.__getitem__\u001b[0;34m(self, key)\u001b[0m\n\u001b[1;32m   2656\u001b[0m \u001b[39mdef\u001b[39;00m \u001b[39m__getitem__\u001b[39m(\u001b[39mself\u001b[39m, key):  \u001b[39m# noqa: F811\u001b[39;00m\n\u001b[1;32m   2657\u001b[0m     \u001b[39m\"\"\"Can be used to index columns (by string names) or rows (by integer index or iterable of indices or bools).\"\"\"\u001b[39;00m\n\u001b[0;32m-> 2658\u001b[0m     \u001b[39mreturn\u001b[39;00m \u001b[39mself\u001b[39;49m\u001b[39m.\u001b[39;49m_getitem(key)\n",
      "File \u001b[0;32m~/.conda/envs/torch/lib/python3.9/site-packages/datasets/arrow_dataset.py:2643\u001b[0m, in \u001b[0;36mDataset._getitem\u001b[0;34m(self, key, **kwargs)\u001b[0m\n\u001b[1;32m   2641\u001b[0m formatter \u001b[39m=\u001b[39m get_formatter(format_type, features\u001b[39m=\u001b[39m\u001b[39mself\u001b[39m\u001b[39m.\u001b[39mfeatures, \u001b[39m*\u001b[39m\u001b[39m*\u001b[39mformat_kwargs)\n\u001b[1;32m   2642\u001b[0m pa_subtable \u001b[39m=\u001b[39m query_table(\u001b[39mself\u001b[39m\u001b[39m.\u001b[39m_data, key, indices\u001b[39m=\u001b[39m\u001b[39mself\u001b[39m\u001b[39m.\u001b[39m_indices \u001b[39mif\u001b[39;00m \u001b[39mself\u001b[39m\u001b[39m.\u001b[39m_indices \u001b[39mis\u001b[39;00m \u001b[39mnot\u001b[39;00m \u001b[39mNone\u001b[39;00m \u001b[39melse\u001b[39;00m \u001b[39mNone\u001b[39;00m)\n\u001b[0;32m-> 2643\u001b[0m formatted_output \u001b[39m=\u001b[39m format_table(\n\u001b[1;32m   2644\u001b[0m     pa_subtable, key, formatter\u001b[39m=\u001b[39;49mformatter, format_columns\u001b[39m=\u001b[39;49mformat_columns, output_all_columns\u001b[39m=\u001b[39;49moutput_all_columns\n\u001b[1;32m   2645\u001b[0m )\n\u001b[1;32m   2646\u001b[0m \u001b[39mreturn\u001b[39;00m formatted_output\n",
      "File \u001b[0;32m~/.conda/envs/torch/lib/python3.9/site-packages/datasets/formatting/formatting.py:634\u001b[0m, in \u001b[0;36mformat_table\u001b[0;34m(table, key, formatter, format_columns, output_all_columns)\u001b[0m\n\u001b[1;32m    632\u001b[0m python_formatter \u001b[39m=\u001b[39m PythonFormatter(features\u001b[39m=\u001b[39m\u001b[39mNone\u001b[39;00m)\n\u001b[1;32m    633\u001b[0m \u001b[39mif\u001b[39;00m format_columns \u001b[39mis\u001b[39;00m \u001b[39mNone\u001b[39;00m:\n\u001b[0;32m--> 634\u001b[0m     \u001b[39mreturn\u001b[39;00m formatter(pa_table, query_type\u001b[39m=\u001b[39;49mquery_type)\n\u001b[1;32m    635\u001b[0m \u001b[39melif\u001b[39;00m query_type \u001b[39m==\u001b[39m \u001b[39m\"\u001b[39m\u001b[39mcolumn\u001b[39m\u001b[39m\"\u001b[39m:\n\u001b[1;32m    636\u001b[0m     \u001b[39mif\u001b[39;00m key \u001b[39min\u001b[39;00m format_columns:\n",
      "File \u001b[0;32m~/.conda/envs/torch/lib/python3.9/site-packages/datasets/formatting/formatting.py:406\u001b[0m, in \u001b[0;36mFormatter.__call__\u001b[0;34m(self, pa_table, query_type)\u001b[0m\n\u001b[1;32m    404\u001b[0m \u001b[39mdef\u001b[39;00m \u001b[39m__call__\u001b[39m(\u001b[39mself\u001b[39m, pa_table: pa\u001b[39m.\u001b[39mTable, query_type: \u001b[39mstr\u001b[39m) \u001b[39m-\u001b[39m\u001b[39m>\u001b[39m Union[RowFormat, ColumnFormat, BatchFormat]:\n\u001b[1;32m    405\u001b[0m     \u001b[39mif\u001b[39;00m query_type \u001b[39m==\u001b[39m \u001b[39m\"\u001b[39m\u001b[39mrow\u001b[39m\u001b[39m\"\u001b[39m:\n\u001b[0;32m--> 406\u001b[0m         \u001b[39mreturn\u001b[39;00m \u001b[39mself\u001b[39;49m\u001b[39m.\u001b[39;49mformat_row(pa_table)\n\u001b[1;32m    407\u001b[0m     \u001b[39melif\u001b[39;00m query_type \u001b[39m==\u001b[39m \u001b[39m\"\u001b[39m\u001b[39mcolumn\u001b[39m\u001b[39m\"\u001b[39m:\n\u001b[1;32m    408\u001b[0m         \u001b[39mreturn\u001b[39;00m \u001b[39mself\u001b[39m\u001b[39m.\u001b[39mformat_column(pa_table)\n",
      "File \u001b[0;32m~/.conda/envs/torch/lib/python3.9/site-packages/datasets/formatting/formatting.py:441\u001b[0m, in \u001b[0;36mPythonFormatter.format_row\u001b[0;34m(self, pa_table)\u001b[0m\n\u001b[1;32m    439\u001b[0m \u001b[39mif\u001b[39;00m \u001b[39mself\u001b[39m\u001b[39m.\u001b[39mlazy:\n\u001b[1;32m    440\u001b[0m     \u001b[39mreturn\u001b[39;00m LazyRow(pa_table, \u001b[39mself\u001b[39m)\n\u001b[0;32m--> 441\u001b[0m row \u001b[39m=\u001b[39m \u001b[39mself\u001b[39;49m\u001b[39m.\u001b[39;49mpython_arrow_extractor()\u001b[39m.\u001b[39;49mextract_row(pa_table)\n\u001b[1;32m    442\u001b[0m row \u001b[39m=\u001b[39m \u001b[39mself\u001b[39m\u001b[39m.\u001b[39mpython_features_decoder\u001b[39m.\u001b[39mdecode_row(row)\n\u001b[1;32m    443\u001b[0m \u001b[39mreturn\u001b[39;00m row\n",
      "File \u001b[0;32m~/.conda/envs/torch/lib/python3.9/site-packages/datasets/formatting/formatting.py:144\u001b[0m, in \u001b[0;36mPythonArrowExtractor.extract_row\u001b[0;34m(self, pa_table)\u001b[0m\n\u001b[1;32m    143\u001b[0m \u001b[39mdef\u001b[39;00m \u001b[39mextract_row\u001b[39m(\u001b[39mself\u001b[39m, pa_table: pa\u001b[39m.\u001b[39mTable) \u001b[39m-\u001b[39m\u001b[39m>\u001b[39m \u001b[39mdict\u001b[39m:\n\u001b[0;32m--> 144\u001b[0m     \u001b[39mreturn\u001b[39;00m _unnest(pa_table\u001b[39m.\u001b[39;49mto_pydict())\n",
      "\u001b[0;31mKeyboardInterrupt\u001b[0m: "
     ]
    }
   ],
   "source": [
    "for i in range(0, len(tokenized_datasets)):\n",
    "    # print(tokenized_datasets[i])\n",
    "    for k in tokenized_datasets[i]:\n",
    "        # print(k)\n",
    "        # print(len(tokenized_datasets[i][k]))\n",
    "        if len(tokenized_datasets[i][k]) != 512:\n",
    "            print(\"error\")\n",
    "            "
   ]
  },
  {
   "cell_type": "code",
   "execution_count": 19,
   "metadata": {},
   "outputs": [],
   "source": [
    "# Split preprocessed dataset into train, validation, and test sets\n",
    "splits = tokenized_datasets.train_test_split(test_size=0.03)\n",
    "preprocessed_splits = DatasetDict({\n",
    "    \"train\": splits[\"train\"],\n",
    "    \"validation\": splits[\"test\"],\n",
    "    \"test\": load_from_disk(\"../processed_datadir/wikitext-103-story-test/\")\n",
    "})"
   ]
  },
  {
   "cell_type": "code",
   "execution_count": 20,
   "metadata": {},
   "outputs": [
    {
     "data": {
      "application/vnd.jupyter.widget-view+json": {
       "model_id": "d474bab00df447d0b31368923de191e6",
       "version_major": 2,
       "version_minor": 0
      },
      "text/plain": [
       "Flattening the indices:   0%|          | 0/231188 [00:00<?, ? examples/s]"
      ]
     },
     "metadata": {},
     "output_type": "display_data"
    },
    {
     "data": {
      "application/vnd.jupyter.widget-view+json": {
       "model_id": "951699f5d0ed497c9aa78fb49eaa2082",
       "version_major": 2,
       "version_minor": 0
      },
      "text/plain": [
       "Saving the dataset (0/2 shards):   0%|          | 0/231188 [00:00<?, ? examples/s]"
      ]
     },
     "metadata": {},
     "output_type": "display_data"
    },
    {
     "data": {
      "application/vnd.jupyter.widget-view+json": {
       "model_id": "5e26a813b908474eb520ef6462506a13",
       "version_major": 2,
       "version_minor": 0
      },
      "text/plain": [
       "Flattening the indices:   0%|          | 0/7151 [00:00<?, ? examples/s]"
      ]
     },
     "metadata": {},
     "output_type": "display_data"
    },
    {
     "data": {
      "application/vnd.jupyter.widget-view+json": {
       "model_id": "eb77da1900c54dfa8c2923de31e746de",
       "version_major": 2,
       "version_minor": 0
      },
      "text/plain": [
       "Saving the dataset (0/1 shards):   0%|          | 0/7151 [00:00<?, ? examples/s]"
      ]
     },
     "metadata": {},
     "output_type": "display_data"
    },
    {
     "data": {
      "application/vnd.jupyter.widget-view+json": {
       "model_id": "ae1f9821ec0b48d6ade48968f8dac1b5",
       "version_major": 2,
       "version_minor": 0
      },
      "text/plain": [
       "Saving the dataset (0/1 shards):   0%|          | 0/62 [00:00<?, ? examples/s]"
      ]
     },
     "metadata": {},
     "output_type": "display_data"
    }
   ],
   "source": [
    "preprocessed_splits.save_to_disk(\"../processed_datadir/wikitext-103-story-bert-512\")"
   ]
  }
 ],
 "metadata": {
  "kernelspec": {
   "display_name": "Python 3.9.15 ('torch')",
   "language": "python",
   "name": "python3"
  },
  "language_info": {
   "codemirror_mode": {
    "name": "ipython",
    "version": 3
   },
   "file_extension": ".py",
   "mimetype": "text/x-python",
   "name": "python",
   "nbconvert_exporter": "python",
   "pygments_lexer": "ipython3",
   "version": "3.9.15"
  },
  "orig_nbformat": 4,
  "vscode": {
   "interpreter": {
    "hash": "e895937462a0f081aaf35a1b00d743630ae75cf7f3d3dbe937ee3f340de9cfa0"
   }
  }
 },
 "nbformat": 4,
 "nbformat_minor": 2
}
